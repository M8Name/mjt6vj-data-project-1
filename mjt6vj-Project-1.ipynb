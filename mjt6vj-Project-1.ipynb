{
 "cells": [
  {
   "cell_type": "markdown",
   "id": "e640d254-0d73-4cd0-aa78-a1c081e28093",
   "metadata": {},
   "source": [
    "Maclay Teefey (mjt6vj)\n",
    "Data Project #1 Midterm"
   ]
  },
  {
   "cell_type": "markdown",
   "id": "fac6d47b-0f24-4cf9-aaad-02dd22839a80",
   "metadata": {
    "tags": []
   },
   "source": [
    "# DS-2002 – Data Project 1 100 points\n"
   ]
  },
  {
   "cell_type": "markdown",
   "id": "f2481b56-8f1c-4dbd-9453-8a8cfb0d5604",
   "metadata": {},
   "source": [
    "The goal of this project is to demonstrate (1) an understanding of and (2) competence creating and \n",
    "implementing basic data science systems such as pipelines, scripts, data transformations, APIs, databases \n",
    "and cloud services. Submit your project in your GitHub Repo or file drop on Collab. \n",
    "Data Projects must be done individually."
   ]
  },
  {
   "cell_type": "markdown",
   "id": "9bad3598-dafe-4aba-89f9-51ca8a2a5df5",
   "metadata": {
    "tags": []
   },
   "source": [
    "## ETL Data Processor"
   ]
  },
  {
   "cell_type": "markdown",
   "id": "d13227ca-7885-4bc1-91a3-62ba1d628212",
   "metadata": {},
   "source": [
    "You project should demonstrate your understanding of the differing types of data systems (OLTP/OLAP), \n",
    "and how data can be extracted from various source systems (structured, semi-structured, unstructured), \n",
    "transformed (cleansed, integrated), and then loaded into a destination system that’s optimized for post \n",
    "hoc diagnostic analysis."
   ]
  },
  {
   "cell_type": "markdown",
   "id": "b7939eb4-5de8-46a6-8709-d290f0bc09aa",
   "metadata": {},
   "source": [
    "# Deliverable"
   ]
  },
  {
   "cell_type": "markdown",
   "id": "4bcae26b-2bb7-432f-be8b-33d54700993d",
   "metadata": {},
   "source": [
    "## 1. Design a dimensional data mart that represents a simple business process of your choosing."
   ]
  },
  {
   "cell_type": "markdown",
   "id": "3b57ae02-8c9e-4bff-89e2-df96eb8f51d2",
   "metadata": {},
   "source": [
    "a. Examples might include retail sales, inventory management, procurement, order \n",
    "management, transportation or hospitality bookings, medical appointments, student \n",
    "registration and/or attendance.\n",
    "\n",
    "b. You may select any business process that interests you, but remember that a \n",
    "dimensional data mart provides for the post hoc summarization and historic analysis of \n",
    "business transactions that reflect the interaction between various entities (e.g., patients \n",
    "& doctors, retailers & customers, students & schools/classes, travelers & airlines/hotels)."
   ]
  },
  {
   "cell_type": "code",
   "execution_count": 173,
   "id": "c8e71d71-d84c-4697-91c2-4220da8232c0",
   "metadata": {},
   "outputs": [],
   "source": [
    "import os\n",
    "import cryptography\n",
    "import numpy\n",
    "import pandas as pd\n",
    "from sqlalchemy import create_engine"
   ]
  },
  {
   "cell_type": "code",
   "execution_count": 174,
   "id": "1ee87c0c-97f1-46c3-8c5e-2ec5e172e1a2",
   "metadata": {},
   "outputs": [],
   "source": [
    "host_name = \"localhost\"\n",
    "host_ip = \"127.0.0.1\"\n",
    "port = \"3306\"\n",
    "user_id = \"root\"\n",
    "pwd = \"m6zIUutf0k1$\"\n",
    "\n",
    "src_dbname = \"world\"\n",
    "dst_dbname = \"data_project_warehouse\""
   ]
  },
  {
   "cell_type": "code",
   "execution_count": 175,
   "id": "f7d93fde-2231-46fa-b125-abd556cd33ae",
   "metadata": {},
   "outputs": [
    {
     "data": {
      "text/plain": [
       "<sqlalchemy.engine.cursor.LegacyCursorResult at 0x222fb4abd30>"
      ]
     },
     "execution_count": 175,
     "metadata": {},
     "output_type": "execute_result"
    }
   ],
   "source": [
    "conn_str = f\"mysql+pymysql://{user_id}:{pwd}@{host_name}\"\n",
    "sqlEngine = create_engine(conn_str, pool_recycle=3600)\n",
    "\n",
    "sqlEngine.execute(f\"DROP DATABASE IF EXISTS `{dst_dbname}`;\")\n",
    "sqlEngine.execute(f\"CREATE DATABASE `{dst_dbname}`;\")\n",
    "sqlEngine.execute(f\"USE {dst_dbname};\")"
   ]
  },
  {
   "cell_type": "markdown",
   "id": "32745324-7ac5-4221-8269-17db4f71450e",
   "metadata": {},
   "source": [
    "The three data sets I will be using and their forms:\n",
    "\n",
    "1. World sample data set from Oracle in SQL\n",
    "\n",
    "2. World Happiness Index 2019 data set downloaded as a CSV file from Kaggle (local file system) (link: https://www.kaggle.com/datasets/unsdsn/world-happiness)\n",
    "\n",
    "3. Nobel Prize Laureates from the Nobel Prizes API (taken in as JSON)"
   ]
  },
  {
   "cell_type": "markdown",
   "id": "8e110d57-e79f-48fc-97d0-931ab6199e8c",
   "metadata": {},
   "source": [
    "The relationship being warehoused is between the countries and the nobel prize winners. The key joining point will be the country name and birth country of the laureate. The required date portion will be the Birth Date section."
   ]
  },
  {
   "cell_type": "markdown",
   "id": "28a980ac-48b0-4c65-9aa5-630ba887beb0",
   "metadata": {},
   "source": [
    "## 2. Develop an ETL pipeline that extracts, transforms, and loads data into your data mart."
   ]
  },
  {
   "cell_type": "markdown",
   "id": "c1df6d12-cd5b-4c70-a32c-47bebdaffa94",
   "metadata": {},
   "source": [
    "a. Extract data from one or more SQL database tables; hosted locally or in the Cloud.\n",
    "\n",
    "b. Retrieve a data file, either from a remote or local file system, converting its original \n",
    "format (e.g., CSV, JSON) into a SQL database table.\n",
    "\n",
    "c. Modify the number of columns from each source to the destination.\n",
    "\n",
    "d. Provide error messages wherever an operation fails (i.e., Try/Except error handlers).\n"
   ]
  },
  {
   "cell_type": "markdown",
   "id": "23de8afd-b5e3-4de0-9b6f-8378e1880dcd",
   "metadata": {},
   "source": [
    "Getting the Countries table from World Data"
   ]
  },
  {
   "cell_type": "markdown",
   "id": "3939931a-c3d6-4a72-a039-d4a51186b83f",
   "metadata": {},
   "source": [
    "Functions for Getting Data From and Setting Data Into Databases Taken from Lab 03"
   ]
  },
  {
   "cell_type": "code",
   "execution_count": 177,
   "id": "f875a6ea-af82-4b99-94d2-58d319fbddf1",
   "metadata": {},
   "outputs": [],
   "source": [
    "def get_dataframe(user_id, pwd, host_name, db_name, sql_query):\n",
    "    conn_str = f\"mysql+pymysql://{user_id}:{pwd}@{host_name}/{db_name}\"\n",
    "    sqlEngine = create_engine(conn_str, pool_recycle=3600)\n",
    "    connection = sqlEngine.connect()\n",
    "    dframe = pd.read_sql(sql_query, connection);\n",
    "    connection.close()\n",
    "    \n",
    "    return dframe\n",
    "\n",
    "\n",
    "def set_dataframe(user_id, pwd, host_name, db_name, df, table_name, pk_column, db_operation):\n",
    "    conn_str = f\"mysql+pymysql://{user_id}:{pwd}@{host_name}/{db_name}\"\n",
    "    sqlEngine = create_engine(conn_str, pool_recycle=3600)\n",
    "    connection = sqlEngine.connect()\n",
    "    \n",
    "    if db_operation == \"insert\":\n",
    "        df.to_sql(table_name, con=connection, index=False, if_exists='replace')\n",
    "        sqlEngine.execute(f\"ALTER TABLE {table_name} ADD PRIMARY KEY ({pk_column});\")\n",
    "            \n",
    "    elif db_operation == \"update\":\n",
    "        df.to_sql(table_name, con=connection, index=False, if_exists='append')\n",
    "    \n",
    "    connection.close()"
   ]
  },
  {
   "cell_type": "code",
   "execution_count": 178,
   "id": "3699f9fa-b1b2-4800-82be-6927d4e0c29d",
   "metadata": {},
   "outputs": [
    {
     "data": {
      "text/html": [
       "<div>\n",
       "<style scoped>\n",
       "    .dataframe tbody tr th:only-of-type {\n",
       "        vertical-align: middle;\n",
       "    }\n",
       "\n",
       "    .dataframe tbody tr th {\n",
       "        vertical-align: top;\n",
       "    }\n",
       "\n",
       "    .dataframe thead th {\n",
       "        text-align: right;\n",
       "    }\n",
       "</style>\n",
       "<table border=\"1\" class=\"dataframe\">\n",
       "  <thead>\n",
       "    <tr style=\"text-align: right;\">\n",
       "      <th></th>\n",
       "      <th>Code</th>\n",
       "      <th>Name</th>\n",
       "      <th>Continent</th>\n",
       "      <th>Region</th>\n",
       "      <th>SurfaceArea</th>\n",
       "      <th>IndepYear</th>\n",
       "      <th>Population</th>\n",
       "      <th>LifeExpectancy</th>\n",
       "      <th>GNP</th>\n",
       "      <th>GNPOld</th>\n",
       "      <th>LocalName</th>\n",
       "      <th>GovernmentForm</th>\n",
       "      <th>HeadOfState</th>\n",
       "      <th>Capital</th>\n",
       "      <th>Code2</th>\n",
       "    </tr>\n",
       "  </thead>\n",
       "  <tbody>\n",
       "    <tr>\n",
       "      <th>0</th>\n",
       "      <td>ABW</td>\n",
       "      <td>Aruba</td>\n",
       "      <td>North America</td>\n",
       "      <td>Caribbean</td>\n",
       "      <td>193.0</td>\n",
       "      <td>NaN</td>\n",
       "      <td>103000</td>\n",
       "      <td>78.4</td>\n",
       "      <td>828.0</td>\n",
       "      <td>793.0</td>\n",
       "      <td>Aruba</td>\n",
       "      <td>Nonmetropolitan Territory of The Netherlands</td>\n",
       "      <td>Beatrix</td>\n",
       "      <td>129.0</td>\n",
       "      <td>AW</td>\n",
       "    </tr>\n",
       "    <tr>\n",
       "      <th>1</th>\n",
       "      <td>AFG</td>\n",
       "      <td>Afghanistan</td>\n",
       "      <td>Asia</td>\n",
       "      <td>Southern and Central Asia</td>\n",
       "      <td>652090.0</td>\n",
       "      <td>1919.0</td>\n",
       "      <td>22720000</td>\n",
       "      <td>45.9</td>\n",
       "      <td>5976.0</td>\n",
       "      <td>NaN</td>\n",
       "      <td>Afganistan/Afqanestan</td>\n",
       "      <td>Islamic Emirate</td>\n",
       "      <td>Mohammad Omar</td>\n",
       "      <td>1.0</td>\n",
       "      <td>AF</td>\n",
       "    </tr>\n",
       "  </tbody>\n",
       "</table>\n",
       "</div>"
      ],
      "text/plain": [
       "  Code         Name      Continent                     Region  SurfaceArea  \\\n",
       "0  ABW        Aruba  North America                  Caribbean        193.0   \n",
       "1  AFG  Afghanistan           Asia  Southern and Central Asia     652090.0   \n",
       "\n",
       "   IndepYear  Population  LifeExpectancy     GNP  GNPOld  \\\n",
       "0        NaN      103000            78.4   828.0   793.0   \n",
       "1     1919.0    22720000            45.9  5976.0     NaN   \n",
       "\n",
       "               LocalName                                GovernmentForm  \\\n",
       "0                  Aruba  Nonmetropolitan Territory of The Netherlands   \n",
       "1  Afganistan/Afqanestan                               Islamic Emirate   \n",
       "\n",
       "     HeadOfState  Capital Code2  \n",
       "0        Beatrix    129.0    AW  \n",
       "1  Mohammad Omar      1.0    AF  "
      ]
     },
     "execution_count": 178,
     "metadata": {},
     "output_type": "execute_result"
    }
   ],
   "source": [
    "sql_world = \"SELECT * FROM world.country;\"\n",
    "df_world = get_dataframe(user_id, pwd, host_name, src_dbname, sql_world)\n",
    "df_world.head(2)"
   ]
  },
  {
   "cell_type": "markdown",
   "id": "77d5bc0f-81ac-4008-a4a0-191bf3fdc52a",
   "metadata": {},
   "source": [
    "Now to get World Happiness data"
   ]
  },
  {
   "cell_type": "code",
   "execution_count": 179,
   "id": "71578ab7-b139-40aa-986e-2284ad20bfb9",
   "metadata": {},
   "outputs": [
    {
     "data": {
      "text/html": [
       "<div>\n",
       "<style scoped>\n",
       "    .dataframe tbody tr th:only-of-type {\n",
       "        vertical-align: middle;\n",
       "    }\n",
       "\n",
       "    .dataframe tbody tr th {\n",
       "        vertical-align: top;\n",
       "    }\n",
       "\n",
       "    .dataframe thead th {\n",
       "        text-align: right;\n",
       "    }\n",
       "</style>\n",
       "<table border=\"1\" class=\"dataframe\">\n",
       "  <thead>\n",
       "    <tr style=\"text-align: right;\">\n",
       "      <th></th>\n",
       "      <th>Overall rank</th>\n",
       "      <th>Country or region</th>\n",
       "      <th>Score</th>\n",
       "      <th>GDP per capita</th>\n",
       "      <th>Social support</th>\n",
       "      <th>Healthy life expectancy</th>\n",
       "      <th>Freedom to make life choices</th>\n",
       "      <th>Generosity</th>\n",
       "      <th>Perceptions of corruption</th>\n",
       "    </tr>\n",
       "  </thead>\n",
       "  <tbody>\n",
       "    <tr>\n",
       "      <th>0</th>\n",
       "      <td>1</td>\n",
       "      <td>Finland</td>\n",
       "      <td>7.769</td>\n",
       "      <td>1.340</td>\n",
       "      <td>1.587</td>\n",
       "      <td>0.986</td>\n",
       "      <td>0.596</td>\n",
       "      <td>0.153</td>\n",
       "      <td>0.393</td>\n",
       "    </tr>\n",
       "    <tr>\n",
       "      <th>1</th>\n",
       "      <td>2</td>\n",
       "      <td>Denmark</td>\n",
       "      <td>7.600</td>\n",
       "      <td>1.383</td>\n",
       "      <td>1.573</td>\n",
       "      <td>0.996</td>\n",
       "      <td>0.592</td>\n",
       "      <td>0.252</td>\n",
       "      <td>0.410</td>\n",
       "    </tr>\n",
       "  </tbody>\n",
       "</table>\n",
       "</div>"
      ],
      "text/plain": [
       "   Overall rank Country or region  Score  GDP per capita  Social support  \\\n",
       "0             1           Finland  7.769           1.340           1.587   \n",
       "1             2           Denmark  7.600           1.383           1.573   \n",
       "\n",
       "   Healthy life expectancy  Freedom to make life choices  Generosity  \\\n",
       "0                    0.986                         0.596       0.153   \n",
       "1                    0.996                         0.592       0.252   \n",
       "\n",
       "   Perceptions of corruption  \n",
       "0                      0.393  \n",
       "1                      0.410  "
      ]
     },
     "execution_count": 179,
     "metadata": {},
     "output_type": "execute_result"
    }
   ],
   "source": [
    "df_happiness = pd.read_csv(\"happiness-2019.csv\")\n",
    "df_happiness.head(2)"
   ]
  },
  {
   "cell_type": "markdown",
   "id": "eddc0b09-5b41-4f28-9f8b-151aea44e762",
   "metadata": {},
   "source": [
    "And finally the nobel prize data"
   ]
  },
  {
   "cell_type": "code",
   "execution_count": 180,
   "id": "f692f2b7-dc61-4055-a684-cbe108571435",
   "metadata": {},
   "outputs": [],
   "source": [
    "# to handle  data retrieval\n",
    "import urllib3\n",
    "from urllib3 import request\n",
    "\n",
    "import numpy as np\n",
    "# to handle certificate verification\n",
    "import certifi\n",
    "\n",
    "# to manage json data\n",
    "import json\n",
    "\n",
    "# I am using https://plainenglish.io/blog/from-api-to-pandas-getting-json-data-with-python-df127f699b6b \n",
    "# as a guide to convert from JSON to a pandas dataframe"
   ]
  },
  {
   "cell_type": "code",
   "execution_count": 181,
   "id": "8732116d-0664-4899-83c2-9becce9cd422",
   "metadata": {},
   "outputs": [],
   "source": [
    "# handle certificate verification and SSL warnings\n",
    "# https://urllib3.readthedocs.io/en/latest/user-guide.html#ssl\n",
    "\n",
    "http = urllib3.PoolManager(\n",
    "       cert_reqs='CERT_REQUIRED',\n",
    "       ca_certs=certifi.where())"
   ]
  },
  {
   "cell_type": "code",
   "execution_count": 182,
   "id": "f8c4ef22-eae6-46b3-abb5-5c9c3432dd37",
   "metadata": {},
   "outputs": [
    {
     "data": {
      "text/plain": [
       "200"
      ]
     },
     "execution_count": 182,
     "metadata": {},
     "output_type": "execute_result"
    }
   ],
   "source": [
    "# get data from the API\n",
    "url = 'https://api.nobelprize.org/2.1/laureates'\n",
    "\n",
    "r = http.request('GET', url)\n",
    "status_check = r.status\n",
    "status_check # I will be using this as one of the \"try catch\" without it being a try catch"
   ]
  },
  {
   "cell_type": "code",
   "execution_count": 183,
   "id": "d10e0c10-1daa-4bab-a28a-21e89b53a8a7",
   "metadata": {},
   "outputs": [],
   "source": [
    "if status_check == 200:\n",
    "    # decode json data into a dict object\n",
    "    data = json.loads(r.data.decode('utf-8'))\n",
    "else:\n",
    "    print(\"Error access API\")"
   ]
  },
  {
   "cell_type": "markdown",
   "id": "eb91d727-4012-4bbd-9a1c-24bd7c1c5498",
   "metadata": {},
   "source": [
    "I would print out the full data but it is too big to print out as a full chunk"
   ]
  },
  {
   "cell_type": "code",
   "execution_count": 184,
   "id": "947ed2fe-acd8-42f9-9fd7-95f967da34b1",
   "metadata": {},
   "outputs": [
    {
     "data": {
      "text/html": [
       "<div>\n",
       "<style scoped>\n",
       "    .dataframe tbody tr th:only-of-type {\n",
       "        vertical-align: middle;\n",
       "    }\n",
       "\n",
       "    .dataframe tbody tr th {\n",
       "        vertical-align: top;\n",
       "    }\n",
       "\n",
       "    .dataframe thead th {\n",
       "        text-align: right;\n",
       "    }\n",
       "</style>\n",
       "<table border=\"1\" class=\"dataframe\">\n",
       "  <thead>\n",
       "    <tr style=\"text-align: right;\">\n",
       "      <th></th>\n",
       "      <th>id</th>\n",
       "      <th>fileName</th>\n",
       "      <th>gender</th>\n",
       "      <th>sameAs</th>\n",
       "      <th>links</th>\n",
       "      <th>nobelPrizes</th>\n",
       "      <th>knownName.en</th>\n",
       "      <th>knownName.se</th>\n",
       "      <th>givenName.en</th>\n",
       "      <th>givenName.se</th>\n",
       "      <th>...</th>\n",
       "      <th>death.place.countryNow.en</th>\n",
       "      <th>death.place.countryNow.no</th>\n",
       "      <th>death.place.countryNow.se</th>\n",
       "      <th>death.place.countryNow.sameAs</th>\n",
       "      <th>death.place.continent.en</th>\n",
       "      <th>death.place.continent.no</th>\n",
       "      <th>death.place.continent.se</th>\n",
       "      <th>death.place.locationString.en</th>\n",
       "      <th>death.place.locationString.no</th>\n",
       "      <th>death.place.locationString.se</th>\n",
       "    </tr>\n",
       "  </thead>\n",
       "  <tbody>\n",
       "    <tr>\n",
       "      <th>0</th>\n",
       "      <td>745</td>\n",
       "      <td>spence</td>\n",
       "      <td>male</td>\n",
       "      <td>[https://www.wikidata.org/wiki/Q157245, https:...</td>\n",
       "      <td>[{'rel': 'laureate', 'href': 'https://api.nobe...</td>\n",
       "      <td>[{'awardYear': '2001', 'category': {'en': 'Eco...</td>\n",
       "      <td>A. Michael Spence</td>\n",
       "      <td>A. Michael Spence</td>\n",
       "      <td>A. Michael</td>\n",
       "      <td>A. Michael</td>\n",
       "      <td>...</td>\n",
       "      <td>NaN</td>\n",
       "      <td>NaN</td>\n",
       "      <td>NaN</td>\n",
       "      <td>NaN</td>\n",
       "      <td>NaN</td>\n",
       "      <td>NaN</td>\n",
       "      <td>NaN</td>\n",
       "      <td>NaN</td>\n",
       "      <td>NaN</td>\n",
       "      <td>NaN</td>\n",
       "    </tr>\n",
       "    <tr>\n",
       "      <th>1</th>\n",
       "      <td>102</td>\n",
       "      <td>bohr</td>\n",
       "      <td>male</td>\n",
       "      <td>[https://www.wikidata.org/wiki/Q103854, https:...</td>\n",
       "      <td>[{'rel': 'laureate', 'href': 'https://api.nobe...</td>\n",
       "      <td>[{'awardYear': '1975', 'category': {'en': 'Phy...</td>\n",
       "      <td>Aage N. Bohr</td>\n",
       "      <td>Aage N. Bohr</td>\n",
       "      <td>Aage N.</td>\n",
       "      <td>Aage N.</td>\n",
       "      <td>...</td>\n",
       "      <td>Denmark</td>\n",
       "      <td>Danmark</td>\n",
       "      <td>Danmark</td>\n",
       "      <td>[https://www.wikidata.org/wiki/Q35]</td>\n",
       "      <td>Europe</td>\n",
       "      <td>Europa</td>\n",
       "      <td>Europa</td>\n",
       "      <td>Copenhagen, Denmark</td>\n",
       "      <td>København, Danmark</td>\n",
       "      <td>Köpenhamn, Danmark</td>\n",
       "    </tr>\n",
       "  </tbody>\n",
       "</table>\n",
       "<p>2 rows × 61 columns</p>\n",
       "</div>"
      ],
      "text/plain": [
       "    id fileName gender                                             sameAs  \\\n",
       "0  745   spence   male  [https://www.wikidata.org/wiki/Q157245, https:...   \n",
       "1  102     bohr   male  [https://www.wikidata.org/wiki/Q103854, https:...   \n",
       "\n",
       "                                               links  \\\n",
       "0  [{'rel': 'laureate', 'href': 'https://api.nobe...   \n",
       "1  [{'rel': 'laureate', 'href': 'https://api.nobe...   \n",
       "\n",
       "                                         nobelPrizes       knownName.en  \\\n",
       "0  [{'awardYear': '2001', 'category': {'en': 'Eco...  A. Michael Spence   \n",
       "1  [{'awardYear': '1975', 'category': {'en': 'Phy...       Aage N. Bohr   \n",
       "\n",
       "        knownName.se givenName.en givenName.se  ... death.place.countryNow.en  \\\n",
       "0  A. Michael Spence   A. Michael   A. Michael  ...                       NaN   \n",
       "1       Aage N. Bohr      Aage N.      Aage N.  ...                   Denmark   \n",
       "\n",
       "  death.place.countryNow.no death.place.countryNow.se  \\\n",
       "0                       NaN                       NaN   \n",
       "1                   Danmark                   Danmark   \n",
       "\n",
       "         death.place.countryNow.sameAs death.place.continent.en  \\\n",
       "0                                  NaN                      NaN   \n",
       "1  [https://www.wikidata.org/wiki/Q35]                   Europe   \n",
       "\n",
       "  death.place.continent.no death.place.continent.se  \\\n",
       "0                      NaN                      NaN   \n",
       "1                   Europa                   Europa   \n",
       "\n",
       "  death.place.locationString.en death.place.locationString.no  \\\n",
       "0                           NaN                           NaN   \n",
       "1           Copenhagen, Denmark            København, Danmark   \n",
       "\n",
       "  death.place.locationString.se  \n",
       "0                           NaN  \n",
       "1            Köpenhamn, Danmark  \n",
       "\n",
       "[2 rows x 61 columns]"
      ]
     },
     "execution_count": 184,
     "metadata": {},
     "output_type": "execute_result"
    }
   ],
   "source": [
    "# in this dataset, the data to extract is under 'laureates'\n",
    "df_nobel = pd.json_normalize(data, 'laureates')\n",
    "df_nobel.head(2)"
   ]
  },
  {
   "cell_type": "markdown",
   "id": "8eae31c6-bcfa-4e05-aee5-4b40de90090c",
   "metadata": {},
   "source": [
    "The key that is needed to unite the data sets is in this"
   ]
  },
  {
   "cell_type": "code",
   "execution_count": 185,
   "id": "df0b5ec0-060d-4fab-8a55-6b0884193944",
   "metadata": {},
   "outputs": [
    {
     "data": {
      "text/plain": [
       "0          Aruba\n",
       "1    Afghanistan\n",
       "Name: Name, dtype: object"
      ]
     },
     "execution_count": 185,
     "metadata": {},
     "output_type": "execute_result"
    }
   ],
   "source": [
    "df_world[\"Name\"].head(2)"
   ]
  },
  {
   "cell_type": "code",
   "execution_count": 186,
   "id": "b812eeb2-a077-4a37-ad0c-4a69969af872",
   "metadata": {},
   "outputs": [
    {
     "data": {
      "text/plain": [
       "0    Finland\n",
       "1    Denmark\n",
       "Name: Country or region, dtype: object"
      ]
     },
     "execution_count": 186,
     "metadata": {},
     "output_type": "execute_result"
    }
   ],
   "source": [
    "df_happiness[\"Country or region\"].head(2)"
   ]
  },
  {
   "cell_type": "code",
   "execution_count": 187,
   "id": "d5770e31-c409-4918-a639-90eb51a43f8b",
   "metadata": {},
   "outputs": [
    {
     "data": {
      "text/plain": [
       "0        USA\n",
       "1    Denmark\n",
       "Name: birth.place.country.en, dtype: object"
      ]
     },
     "execution_count": 187,
     "metadata": {},
     "output_type": "execute_result"
    }
   ],
   "source": [
    "df_nobel[\"birth.place.country.en\"].head(2)"
   ]
  },
  {
   "cell_type": "markdown",
   "id": "5270bf6b-75cf-422d-ba42-168ce5f19954",
   "metadata": {},
   "source": [
    "There is a clear issue with each dataframe having inconsistent naming schemes"
   ]
  },
  {
   "cell_type": "markdown",
   "id": "9bb764d5-d2ba-4417-9edb-91cd43ce84f3",
   "metadata": {},
   "source": [
    "I will now get the important details needed from each table and rename the categories into their data mart names."
   ]
  },
  {
   "cell_type": "code",
   "execution_count": 188,
   "id": "f90d7913-ef8e-440a-9ef1-60f25262dd66",
   "metadata": {},
   "outputs": [
    {
     "data": {
      "text/html": [
       "<div>\n",
       "<style scoped>\n",
       "    .dataframe tbody tr th:only-of-type {\n",
       "        vertical-align: middle;\n",
       "    }\n",
       "\n",
       "    .dataframe tbody tr th {\n",
       "        vertical-align: top;\n",
       "    }\n",
       "\n",
       "    .dataframe thead th {\n",
       "        text-align: right;\n",
       "    }\n",
       "</style>\n",
       "<table border=\"1\" class=\"dataframe\">\n",
       "  <thead>\n",
       "    <tr style=\"text-align: right;\">\n",
       "      <th></th>\n",
       "      <th>CountryKey</th>\n",
       "      <th>Country</th>\n",
       "      <th>CountryCode</th>\n",
       "      <th>Population</th>\n",
       "      <th>GNP</th>\n",
       "      <th>LifeExpectancy</th>\n",
       "    </tr>\n",
       "  </thead>\n",
       "  <tbody>\n",
       "    <tr>\n",
       "      <th>0</th>\n",
       "      <td>0</td>\n",
       "      <td>Aruba</td>\n",
       "      <td>ABW</td>\n",
       "      <td>103000</td>\n",
       "      <td>828.0</td>\n",
       "      <td>78.4</td>\n",
       "    </tr>\n",
       "    <tr>\n",
       "      <th>1</th>\n",
       "      <td>1</td>\n",
       "      <td>Afghanistan</td>\n",
       "      <td>AFG</td>\n",
       "      <td>22720000</td>\n",
       "      <td>5976.0</td>\n",
       "      <td>45.9</td>\n",
       "    </tr>\n",
       "  </tbody>\n",
       "</table>\n",
       "</div>"
      ],
      "text/plain": [
       "   CountryKey      Country CountryCode  Population     GNP  LifeExpectancy\n",
       "0           0        Aruba         ABW      103000   828.0            78.4\n",
       "1           1  Afghanistan         AFG    22720000  5976.0            45.9"
      ]
     },
     "execution_count": 188,
     "metadata": {},
     "output_type": "execute_result"
    }
   ],
   "source": [
    "df_world_trimmed = df_world[[\"Name\", \"Code\", \"Population\", \"GNP\", \"LifeExpectancy\"]].copy()\n",
    "df_world_trimmed.reset_index(inplace=True)\n",
    "df_world_trimmed.rename(columns={\"Name\":\"Country\", \"Code\":\"CountryCode\", \"index\":\"CountryKey\"}, inplace=True)\n",
    "df_world_trimmed.head(2)"
   ]
  },
  {
   "cell_type": "code",
   "execution_count": 189,
   "id": "bdc9bfe8-eb68-44e8-9b8b-e89a727807a8",
   "metadata": {},
   "outputs": [
    {
     "data": {
      "text/html": [
       "<div>\n",
       "<style scoped>\n",
       "    .dataframe tbody tr th:only-of-type {\n",
       "        vertical-align: middle;\n",
       "    }\n",
       "\n",
       "    .dataframe tbody tr th {\n",
       "        vertical-align: top;\n",
       "    }\n",
       "\n",
       "    .dataframe thead th {\n",
       "        text-align: right;\n",
       "    }\n",
       "</style>\n",
       "<table border=\"1\" class=\"dataframe\">\n",
       "  <thead>\n",
       "    <tr style=\"text-align: right;\">\n",
       "      <th></th>\n",
       "      <th>HappinessKey</th>\n",
       "      <th>Country</th>\n",
       "      <th>HappinessScore</th>\n",
       "    </tr>\n",
       "  </thead>\n",
       "  <tbody>\n",
       "    <tr>\n",
       "      <th>0</th>\n",
       "      <td>0</td>\n",
       "      <td>Finland</td>\n",
       "      <td>7.769</td>\n",
       "    </tr>\n",
       "    <tr>\n",
       "      <th>1</th>\n",
       "      <td>1</td>\n",
       "      <td>Denmark</td>\n",
       "      <td>7.600</td>\n",
       "    </tr>\n",
       "  </tbody>\n",
       "</table>\n",
       "</div>"
      ],
      "text/plain": [
       "   HappinessKey  Country  HappinessScore\n",
       "0             0  Finland           7.769\n",
       "1             1  Denmark           7.600"
      ]
     },
     "execution_count": 189,
     "metadata": {},
     "output_type": "execute_result"
    }
   ],
   "source": [
    "df_happiness_trimmed = df_happiness[[\"Country or region\", \"Score\"]].copy()\n",
    "df_happiness_trimmed.reset_index(inplace=True)\n",
    "df_happiness_trimmed.rename(columns={\"Country or region\":\"Country\", \"Score\":\"HappinessScore\", \"index\":\"HappinessKey\"}, inplace=True)\n",
    "df_happiness_trimmed.head(2)"
   ]
  },
  {
   "cell_type": "code",
   "execution_count": 190,
   "id": "f2797b76-e36b-49f6-be44-702913ca3b00",
   "metadata": {},
   "outputs": [
    {
     "data": {
      "text/plain": [
       "Index(['id', 'fileName', 'gender', 'sameAs', 'links', 'nobelPrizes',\n",
       "       'knownName.en', 'knownName.se', 'givenName.en', 'givenName.se',\n",
       "       'familyName.en', 'familyName.se', 'fullName.en', 'fullName.se',\n",
       "       'birth.date', 'birth.place.city.en', 'birth.place.city.no',\n",
       "       'birth.place.city.se', 'birth.place.country.en',\n",
       "       'birth.place.country.no', 'birth.place.country.se',\n",
       "       'birth.place.cityNow.en', 'birth.place.cityNow.no',\n",
       "       'birth.place.cityNow.se', 'birth.place.cityNow.sameAs',\n",
       "       'birth.place.countryNow.en', 'birth.place.countryNow.no',\n",
       "       'birth.place.countryNow.se', 'birth.place.countryNow.sameAs',\n",
       "       'birth.place.continent.en', 'birth.place.continent.no',\n",
       "       'birth.place.continent.se', 'birth.place.locationString.en',\n",
       "       'birth.place.locationString.no', 'birth.place.locationString.se',\n",
       "       'wikipedia.slug', 'wikipedia.english', 'wikidata.id', 'wikidata.url',\n",
       "       'death.date', 'death.place.city.en', 'death.place.city.no',\n",
       "       'death.place.city.se', 'death.place.country.en',\n",
       "       'death.place.country.no', 'death.place.country.se',\n",
       "       'death.place.country.sameAs', 'death.place.cityNow.en',\n",
       "       'death.place.cityNow.no', 'death.place.cityNow.se',\n",
       "       'death.place.cityNow.sameAs', 'death.place.countryNow.en',\n",
       "       'death.place.countryNow.no', 'death.place.countryNow.se',\n",
       "       'death.place.countryNow.sameAs', 'death.place.continent.en',\n",
       "       'death.place.continent.no', 'death.place.continent.se',\n",
       "       'death.place.locationString.en', 'death.place.locationString.no',\n",
       "       'death.place.locationString.se'],\n",
       "      dtype='object')"
      ]
     },
     "execution_count": 190,
     "metadata": {},
     "output_type": "execute_result"
    }
   ],
   "source": [
    "df_nobel.columns"
   ]
  },
  {
   "cell_type": "code",
   "execution_count": 191,
   "id": "e95a768b-06b6-4a0c-9e3b-12fdc977b744",
   "metadata": {},
   "outputs": [
    {
     "data": {
      "text/html": [
       "<div>\n",
       "<style scoped>\n",
       "    .dataframe tbody tr th:only-of-type {\n",
       "        vertical-align: middle;\n",
       "    }\n",
       "\n",
       "    .dataframe tbody tr th {\n",
       "        vertical-align: top;\n",
       "    }\n",
       "\n",
       "    .dataframe thead th {\n",
       "        text-align: right;\n",
       "    }\n",
       "</style>\n",
       "<table border=\"1\" class=\"dataframe\">\n",
       "  <thead>\n",
       "    <tr style=\"text-align: right;\">\n",
       "      <th></th>\n",
       "      <th>NobelKey</th>\n",
       "      <th>LaureateName</th>\n",
       "      <th>BirthDate</th>\n",
       "      <th>BirthLocation</th>\n",
       "      <th>Country</th>\n",
       "      <th>BirthContinent</th>\n",
       "    </tr>\n",
       "  </thead>\n",
       "  <tbody>\n",
       "    <tr>\n",
       "      <th>0</th>\n",
       "      <td>0</td>\n",
       "      <td>A. Michael Spence</td>\n",
       "      <td>1943-00-00</td>\n",
       "      <td>Montclair, NJ, USA</td>\n",
       "      <td>United States</td>\n",
       "      <td>North America</td>\n",
       "    </tr>\n",
       "    <tr>\n",
       "      <th>1</th>\n",
       "      <td>1</td>\n",
       "      <td>Aage Niels Bohr</td>\n",
       "      <td>1922-06-19</td>\n",
       "      <td>Copenhagen, Denmark</td>\n",
       "      <td>Denmark</td>\n",
       "      <td>Europe</td>\n",
       "    </tr>\n",
       "  </tbody>\n",
       "</table>\n",
       "</div>"
      ],
      "text/plain": [
       "   NobelKey       LaureateName   BirthDate        BirthLocation  \\\n",
       "0         0  A. Michael Spence  1943-00-00   Montclair, NJ, USA   \n",
       "1         1    Aage Niels Bohr  1922-06-19  Copenhagen, Denmark   \n",
       "\n",
       "         Country BirthContinent  \n",
       "0  United States  North America  \n",
       "1        Denmark         Europe  "
      ]
     },
     "execution_count": 191,
     "metadata": {},
     "output_type": "execute_result"
    }
   ],
   "source": [
    "df_nobel_trimmed = df_nobel[[\"fullName.en\",\"birth.date\", \"birth.place.locationString.en\",\"birth.place.country.en\", \"birth.place.continent.en\"]].copy()\n",
    "df_nobel_trimmed.reset_index(inplace=True)\n",
    "df_nobel_trimmed.rename(columns={\"index\":\"NobelKey\",\"fullName.en\":\"LaureateName\", \"birth.date\":\"BirthDate\",\"birth.place.locationString.en\":\"BirthLocation\", \"birth.place.country.en\":\"Country\", \"birth.place.continent.en\":\"BirthContinent\"}, inplace=True)\n",
    "df_nobel_trimmed.loc[df_nobel_trimmed[\"Country\"] == \"USA\", \"Country\"] = \"United States\"\n",
    "df_nobel_trimmed.head(2)"
   ]
  },
  {
   "cell_type": "markdown",
   "id": "3d5ddefc-2d37-4192-8d8b-032a2da0cfe9",
   "metadata": {},
   "source": [
    "I will create smaller fact tables for nobel and country"
   ]
  },
  {
   "cell_type": "code",
   "execution_count": 192,
   "id": "cb0becdf-374c-4d45-8f3e-957344d7493a",
   "metadata": {},
   "outputs": [
    {
     "data": {
      "text/html": [
       "<div>\n",
       "<style scoped>\n",
       "    .dataframe tbody tr th:only-of-type {\n",
       "        vertical-align: middle;\n",
       "    }\n",
       "\n",
       "    .dataframe tbody tr th {\n",
       "        vertical-align: top;\n",
       "    }\n",
       "\n",
       "    .dataframe thead th {\n",
       "        text-align: right;\n",
       "    }\n",
       "</style>\n",
       "<table border=\"1\" class=\"dataframe\">\n",
       "  <thead>\n",
       "    <tr style=\"text-align: right;\">\n",
       "      <th></th>\n",
       "      <th>CountryKey</th>\n",
       "      <th>Country</th>\n",
       "      <th>CountryCode</th>\n",
       "      <th>Population</th>\n",
       "      <th>GNP</th>\n",
       "      <th>LifeExpectancy</th>\n",
       "      <th>HappinessKey</th>\n",
       "      <th>HappinessScore</th>\n",
       "    </tr>\n",
       "  </thead>\n",
       "  <tbody>\n",
       "    <tr>\n",
       "      <th>0</th>\n",
       "      <td>1</td>\n",
       "      <td>Afghanistan</td>\n",
       "      <td>AFG</td>\n",
       "      <td>22720000</td>\n",
       "      <td>5976.0</td>\n",
       "      <td>45.9</td>\n",
       "      <td>153</td>\n",
       "      <td>3.203</td>\n",
       "    </tr>\n",
       "    <tr>\n",
       "      <th>1</th>\n",
       "      <td>4</td>\n",
       "      <td>Albania</td>\n",
       "      <td>ALB</td>\n",
       "      <td>3401200</td>\n",
       "      <td>3205.0</td>\n",
       "      <td>71.6</td>\n",
       "      <td>106</td>\n",
       "      <td>4.719</td>\n",
       "    </tr>\n",
       "    <tr>\n",
       "      <th>2</th>\n",
       "      <td>7</td>\n",
       "      <td>United Arab Emirates</td>\n",
       "      <td>ARE</td>\n",
       "      <td>2441000</td>\n",
       "      <td>37966.0</td>\n",
       "      <td>74.1</td>\n",
       "      <td>20</td>\n",
       "      <td>6.825</td>\n",
       "    </tr>\n",
       "    <tr>\n",
       "      <th>3</th>\n",
       "      <td>8</td>\n",
       "      <td>Argentina</td>\n",
       "      <td>ARG</td>\n",
       "      <td>37032000</td>\n",
       "      <td>340238.0</td>\n",
       "      <td>75.1</td>\n",
       "      <td>46</td>\n",
       "      <td>6.086</td>\n",
       "    </tr>\n",
       "    <tr>\n",
       "      <th>4</th>\n",
       "      <td>9</td>\n",
       "      <td>Armenia</td>\n",
       "      <td>ARM</td>\n",
       "      <td>3520000</td>\n",
       "      <td>1813.0</td>\n",
       "      <td>66.4</td>\n",
       "      <td>115</td>\n",
       "      <td>4.559</td>\n",
       "    </tr>\n",
       "  </tbody>\n",
       "</table>\n",
       "</div>"
      ],
      "text/plain": [
       "   CountryKey               Country CountryCode  Population       GNP  \\\n",
       "0           1           Afghanistan         AFG    22720000    5976.0   \n",
       "1           4               Albania         ALB     3401200    3205.0   \n",
       "2           7  United Arab Emirates         ARE     2441000   37966.0   \n",
       "3           8             Argentina         ARG    37032000  340238.0   \n",
       "4           9               Armenia         ARM     3520000    1813.0   \n",
       "\n",
       "   LifeExpectancy  HappinessKey  HappinessScore  \n",
       "0            45.9           153           3.203  \n",
       "1            71.6           106           4.719  \n",
       "2            74.1            20           6.825  \n",
       "3            75.1            46           6.086  \n",
       "4            66.4           115           4.559  "
      ]
     },
     "execution_count": 192,
     "metadata": {},
     "output_type": "execute_result"
    }
   ],
   "source": [
    "df_fact_country = pd.merge(df_world_trimmed,df_happiness_trimmed, how=\"inner\", left_on=\"Country\", right_on=\"Country\")\n",
    "df_fact_country.head()"
   ]
  },
  {
   "cell_type": "markdown",
   "id": "ffbe5743-3c95-4ab0-bccb-829f0292ad25",
   "metadata": {},
   "source": [
    "And then I will create a date table based upon the birthDate category"
   ]
  },
  {
   "cell_type": "code",
   "execution_count": 193,
   "id": "8e27a637-66c8-4d7d-9d50-c91693482d89",
   "metadata": {},
   "outputs": [
    {
     "name": "stdout",
     "output_type": "stream",
     "text": [
      "1835-10-31-1976-08-15\n"
     ]
    }
   ],
   "source": [
    "min_date = df_nobel_trimmed[\"BirthDate\"].min()\n",
    "max_date = df_nobel_trimmed[\"BirthDate\"].max()\n",
    "print(str(min_date) + \"-\" + str(max_date))"
   ]
  },
  {
   "cell_type": "code",
   "execution_count": 194,
   "id": "a8f467fe-fd45-474f-982b-628af0303e01",
   "metadata": {
    "tags": []
   },
   "outputs": [],
   "source": [
    "# Here is the code borrowed from https://stackoverflow.com/questions/47150709/how-to-create-a-calendar-table-date-dimension-in-pandas\n",
    "# to create a \n",
    "def create_date_table(start='2000-01-01', end='2050-12-31'):\n",
    "        df = pd.DataFrame({\"Date\": pd.date_range(start, end)})\n",
    "        df[\"Day\"] = df.Date.dt.day_name()\n",
    "        df[\"Week\"] = df.Date.dt.weekofyear\n",
    "        df[\"Quarter\"] = df.Date.dt.quarter\n",
    "        df[\"Year\"] = df.Date.dt.year\n",
    "        df[\"Year_half\"] = (df.Quarter + 1) // 2\n",
    "        return df"
   ]
  },
  {
   "cell_type": "code",
   "execution_count": 204,
   "id": "be8dd084-6e52-491c-a5b5-e1396c342925",
   "metadata": {},
   "outputs": [
    {
     "name": "stderr",
     "output_type": "stream",
     "text": [
      "C:\\Users\\student\\AppData\\Local\\Temp\\ipykernel_17068\\632955866.py:6: FutureWarning: Series.dt.weekofyear and Series.dt.week have been deprecated. Please use Series.dt.isocalendar().week instead.\n",
      "  df[\"Week\"] = df.Date.dt.weekofyear\n"
     ]
    },
    {
     "data": {
      "text/html": [
       "<div>\n",
       "<style scoped>\n",
       "    .dataframe tbody tr th:only-of-type {\n",
       "        vertical-align: middle;\n",
       "    }\n",
       "\n",
       "    .dataframe tbody tr th {\n",
       "        vertical-align: top;\n",
       "    }\n",
       "\n",
       "    .dataframe thead th {\n",
       "        text-align: right;\n",
       "    }\n",
       "</style>\n",
       "<table border=\"1\" class=\"dataframe\">\n",
       "  <thead>\n",
       "    <tr style=\"text-align: right;\">\n",
       "      <th></th>\n",
       "      <th>DateKey</th>\n",
       "      <th>Date</th>\n",
       "      <th>Day</th>\n",
       "      <th>Week</th>\n",
       "      <th>Quarter</th>\n",
       "      <th>Year</th>\n",
       "      <th>Year_half</th>\n",
       "    </tr>\n",
       "  </thead>\n",
       "  <tbody>\n",
       "    <tr>\n",
       "      <th>0</th>\n",
       "      <td>0</td>\n",
       "      <td>1835-10-31</td>\n",
       "      <td>Saturday</td>\n",
       "      <td>44</td>\n",
       "      <td>4</td>\n",
       "      <td>1835</td>\n",
       "      <td>2</td>\n",
       "    </tr>\n",
       "    <tr>\n",
       "      <th>1</th>\n",
       "      <td>1</td>\n",
       "      <td>1835-11-01</td>\n",
       "      <td>Sunday</td>\n",
       "      <td>44</td>\n",
       "      <td>4</td>\n",
       "      <td>1835</td>\n",
       "      <td>2</td>\n",
       "    </tr>\n",
       "    <tr>\n",
       "      <th>2</th>\n",
       "      <td>2</td>\n",
       "      <td>1835-11-02</td>\n",
       "      <td>Monday</td>\n",
       "      <td>45</td>\n",
       "      <td>4</td>\n",
       "      <td>1835</td>\n",
       "      <td>2</td>\n",
       "    </tr>\n",
       "    <tr>\n",
       "      <th>3</th>\n",
       "      <td>3</td>\n",
       "      <td>1835-11-03</td>\n",
       "      <td>Tuesday</td>\n",
       "      <td>45</td>\n",
       "      <td>4</td>\n",
       "      <td>1835</td>\n",
       "      <td>2</td>\n",
       "    </tr>\n",
       "    <tr>\n",
       "      <th>4</th>\n",
       "      <td>4</td>\n",
       "      <td>1835-11-04</td>\n",
       "      <td>Wednesday</td>\n",
       "      <td>45</td>\n",
       "      <td>4</td>\n",
       "      <td>1835</td>\n",
       "      <td>2</td>\n",
       "    </tr>\n",
       "  </tbody>\n",
       "</table>\n",
       "</div>"
      ],
      "text/plain": [
       "   DateKey       Date        Day  Week  Quarter  Year  Year_half\n",
       "0        0 1835-10-31   Saturday    44        4  1835          2\n",
       "1        1 1835-11-01     Sunday    44        4  1835          2\n",
       "2        2 1835-11-02     Monday    45        4  1835          2\n",
       "3        3 1835-11-03    Tuesday    45        4  1835          2\n",
       "4        4 1835-11-04  Wednesday    45        4  1835          2"
      ]
     },
     "execution_count": 204,
     "metadata": {},
     "output_type": "execute_result"
    }
   ],
   "source": [
    "df_dim_date = create_date_table(min_date, max_date)\n",
    "df_dim_date.reset_index(inplace=True)\n",
    "df_dim_date.rename(columns={\"index\":\"DateKey\"}, inplace=True)\n",
    "df_dim_date.head()"
   ]
  },
  {
   "cell_type": "code",
   "execution_count": 205,
   "id": "384b33aa-2052-41bd-b5a3-8bfd77805642",
   "metadata": {},
   "outputs": [
    {
     "data": {
      "text/html": [
       "<div>\n",
       "<style scoped>\n",
       "    .dataframe tbody tr th:only-of-type {\n",
       "        vertical-align: middle;\n",
       "    }\n",
       "\n",
       "    .dataframe tbody tr th {\n",
       "        vertical-align: top;\n",
       "    }\n",
       "\n",
       "    .dataframe thead th {\n",
       "        text-align: right;\n",
       "    }\n",
       "</style>\n",
       "<table border=\"1\" class=\"dataframe\">\n",
       "  <thead>\n",
       "    <tr style=\"text-align: right;\">\n",
       "      <th></th>\n",
       "      <th>NobelKey</th>\n",
       "      <th>LaureateName</th>\n",
       "      <th>BirthDate</th>\n",
       "      <th>BirthLocation</th>\n",
       "      <th>Country</th>\n",
       "      <th>BirthContinent</th>\n",
       "      <th>DateKey</th>\n",
       "      <th>Day</th>\n",
       "      <th>Week</th>\n",
       "      <th>Quarter</th>\n",
       "      <th>Year</th>\n",
       "      <th>Year_half</th>\n",
       "    </tr>\n",
       "  </thead>\n",
       "  <tbody>\n",
       "    <tr>\n",
       "      <th>0</th>\n",
       "      <td>1</td>\n",
       "      <td>Aage Niels Bohr</td>\n",
       "      <td>1922-06-19</td>\n",
       "      <td>Copenhagen, Denmark</td>\n",
       "      <td>Denmark</td>\n",
       "      <td>Europe</td>\n",
       "      <td>31642</td>\n",
       "      <td>Monday</td>\n",
       "      <td>25</td>\n",
       "      <td>2</td>\n",
       "      <td>1922</td>\n",
       "      <td>1</td>\n",
       "    </tr>\n",
       "    <tr>\n",
       "      <th>1</th>\n",
       "      <td>2</td>\n",
       "      <td>Aaron Ciechanover</td>\n",
       "      <td>1947-10-01</td>\n",
       "      <td>Haifa, British Protectorate of Palestine (now ...</td>\n",
       "      <td>British Protectorate of Palestine</td>\n",
       "      <td>Asia</td>\n",
       "      <td>40877</td>\n",
       "      <td>Wednesday</td>\n",
       "      <td>40</td>\n",
       "      <td>4</td>\n",
       "      <td>1947</td>\n",
       "      <td>2</td>\n",
       "    </tr>\n",
       "    <tr>\n",
       "      <th>2</th>\n",
       "      <td>3</td>\n",
       "      <td>Aaron Klug</td>\n",
       "      <td>1926-08-11</td>\n",
       "      <td>Zelvas, Lithuania</td>\n",
       "      <td>Lithuania</td>\n",
       "      <td>Europe</td>\n",
       "      <td>33156</td>\n",
       "      <td>Wednesday</td>\n",
       "      <td>32</td>\n",
       "      <td>3</td>\n",
       "      <td>1926</td>\n",
       "      <td>2</td>\n",
       "    </tr>\n",
       "    <tr>\n",
       "      <th>3</th>\n",
       "      <td>5</td>\n",
       "      <td>Abdus Salam</td>\n",
       "      <td>1926-01-29</td>\n",
       "      <td>Jhang Maghiāna, India (now Pakistan)</td>\n",
       "      <td>India</td>\n",
       "      <td>Asia</td>\n",
       "      <td>32962</td>\n",
       "      <td>Friday</td>\n",
       "      <td>4</td>\n",
       "      <td>1</td>\n",
       "      <td>1926</td>\n",
       "      <td>1</td>\n",
       "    </tr>\n",
       "    <tr>\n",
       "      <th>4</th>\n",
       "      <td>6</td>\n",
       "      <td>Abhijit Banerjee</td>\n",
       "      <td>1961-02-21</td>\n",
       "      <td>Mumbai, India</td>\n",
       "      <td>India</td>\n",
       "      <td>Asia</td>\n",
       "      <td>45769</td>\n",
       "      <td>Tuesday</td>\n",
       "      <td>8</td>\n",
       "      <td>1</td>\n",
       "      <td>1961</td>\n",
       "      <td>1</td>\n",
       "    </tr>\n",
       "  </tbody>\n",
       "</table>\n",
       "</div>"
      ],
      "text/plain": [
       "   NobelKey       LaureateName   BirthDate  \\\n",
       "0         1    Aage Niels Bohr  1922-06-19   \n",
       "1         2  Aaron Ciechanover  1947-10-01   \n",
       "2         3         Aaron Klug  1926-08-11   \n",
       "3         5        Abdus Salam  1926-01-29   \n",
       "4         6   Abhijit Banerjee  1961-02-21   \n",
       "\n",
       "                                       BirthLocation  \\\n",
       "0                                Copenhagen, Denmark   \n",
       "1  Haifa, British Protectorate of Palestine (now ...   \n",
       "2                                  Zelvas, Lithuania   \n",
       "3               Jhang Maghiāna, India (now Pakistan)   \n",
       "4                                      Mumbai, India   \n",
       "\n",
       "                             Country BirthContinent DateKey        Day Week  \\\n",
       "0                            Denmark         Europe   31642     Monday   25   \n",
       "1  British Protectorate of Palestine           Asia   40877  Wednesday   40   \n",
       "2                          Lithuania         Europe   33156  Wednesday   32   \n",
       "3                              India           Asia   32962     Friday    4   \n",
       "4                              India           Asia   45769    Tuesday    8   \n",
       "\n",
       "  Quarter  Year Year_half  \n",
       "0       2  1922         1  \n",
       "1       4  1947         2  \n",
       "2       3  1926         2  \n",
       "3       1  1926         1  \n",
       "4       1  1961         1  "
      ]
     },
     "execution_count": 205,
     "metadata": {},
     "output_type": "execute_result"
    }
   ],
   "source": [
    "df_dim_date_string = df_dim_date.copy().astype('string')\n",
    "df_fact_nobel = pd.merge(df_nobel_trimmed,df_dim_date_string, how=\"inner\", left_on=\"BirthDate\", right_on=\"Date\")\n",
    "df_fact_nobel = df_fact_nobel.drop([\"Date\"],axis=1)\n",
    "df_fact_nobel.head()"
   ]
  },
  {
   "cell_type": "code",
   "execution_count": 202,
   "id": "18348a73-5d5a-4e82-8bec-17d4c0bdef5e",
   "metadata": {},
   "outputs": [
    {
     "data": {
      "text/html": [
       "<div>\n",
       "<style scoped>\n",
       "    .dataframe tbody tr th:only-of-type {\n",
       "        vertical-align: middle;\n",
       "    }\n",
       "\n",
       "    .dataframe tbody tr th {\n",
       "        vertical-align: top;\n",
       "    }\n",
       "\n",
       "    .dataframe thead th {\n",
       "        text-align: right;\n",
       "    }\n",
       "</style>\n",
       "<table border=\"1\" class=\"dataframe\">\n",
       "  <thead>\n",
       "    <tr style=\"text-align: right;\">\n",
       "      <th></th>\n",
       "      <th>id</th>\n",
       "      <th>NobelKey</th>\n",
       "      <th>LaureateName</th>\n",
       "      <th>BirthDate</th>\n",
       "      <th>BirthLocation</th>\n",
       "      <th>Country</th>\n",
       "      <th>BirthContinent</th>\n",
       "      <th>DateKey</th>\n",
       "      <th>Day</th>\n",
       "      <th>Week</th>\n",
       "      <th>Year</th>\n",
       "      <th>Year_half</th>\n",
       "      <th>CountryKey</th>\n",
       "      <th>CountryCode</th>\n",
       "      <th>GNP</th>\n",
       "      <th>LifeExpectancy</th>\n",
       "      <th>HappinessKey</th>\n",
       "      <th>HappinessScore</th>\n",
       "    </tr>\n",
       "  </thead>\n",
       "  <tbody>\n",
       "    <tr>\n",
       "      <th>0</th>\n",
       "      <td>0</td>\n",
       "      <td>1</td>\n",
       "      <td>Aage Niels Bohr</td>\n",
       "      <td>1922-06-19</td>\n",
       "      <td>Copenhagen, Denmark</td>\n",
       "      <td>Denmark</td>\n",
       "      <td>Europe</td>\n",
       "      <td>31642</td>\n",
       "      <td>Monday</td>\n",
       "      <td>25</td>\n",
       "      <td>1922</td>\n",
       "      <td>1</td>\n",
       "      <td>59</td>\n",
       "      <td>DNK</td>\n",
       "      <td>174099.0</td>\n",
       "      <td>76.5</td>\n",
       "      <td>1</td>\n",
       "      <td>7.600</td>\n",
       "    </tr>\n",
       "    <tr>\n",
       "      <th>1</th>\n",
       "      <td>1</td>\n",
       "      <td>3</td>\n",
       "      <td>Aaron Klug</td>\n",
       "      <td>1926-08-11</td>\n",
       "      <td>Zelvas, Lithuania</td>\n",
       "      <td>Lithuania</td>\n",
       "      <td>Europe</td>\n",
       "      <td>33156</td>\n",
       "      <td>Wednesday</td>\n",
       "      <td>32</td>\n",
       "      <td>1926</td>\n",
       "      <td>2</td>\n",
       "      <td>126</td>\n",
       "      <td>LTU</td>\n",
       "      <td>10692.0</td>\n",
       "      <td>69.1</td>\n",
       "      <td>41</td>\n",
       "      <td>6.149</td>\n",
       "    </tr>\n",
       "    <tr>\n",
       "      <th>2</th>\n",
       "      <td>2</td>\n",
       "      <td>5</td>\n",
       "      <td>Abdus Salam</td>\n",
       "      <td>1926-01-29</td>\n",
       "      <td>Jhang Maghiāna, India (now Pakistan)</td>\n",
       "      <td>India</td>\n",
       "      <td>Asia</td>\n",
       "      <td>32962</td>\n",
       "      <td>Friday</td>\n",
       "      <td>4</td>\n",
       "      <td>1926</td>\n",
       "      <td>1</td>\n",
       "      <td>99</td>\n",
       "      <td>IND</td>\n",
       "      <td>447114.0</td>\n",
       "      <td>62.5</td>\n",
       "      <td>139</td>\n",
       "      <td>4.015</td>\n",
       "    </tr>\n",
       "    <tr>\n",
       "      <th>3</th>\n",
       "      <td>3</td>\n",
       "      <td>6</td>\n",
       "      <td>Abhijit Banerjee</td>\n",
       "      <td>1961-02-21</td>\n",
       "      <td>Mumbai, India</td>\n",
       "      <td>India</td>\n",
       "      <td>Asia</td>\n",
       "      <td>45769</td>\n",
       "      <td>Tuesday</td>\n",
       "      <td>8</td>\n",
       "      <td>1961</td>\n",
       "      <td>1</td>\n",
       "      <td>99</td>\n",
       "      <td>IND</td>\n",
       "      <td>447114.0</td>\n",
       "      <td>62.5</td>\n",
       "      <td>139</td>\n",
       "      <td>4.015</td>\n",
       "    </tr>\n",
       "    <tr>\n",
       "      <th>4</th>\n",
       "      <td>4</td>\n",
       "      <td>7</td>\n",
       "      <td>Abiy Ahmed Ali</td>\n",
       "      <td>1976-08-15</td>\n",
       "      <td>Beshasha, Ethiopia</td>\n",
       "      <td>Ethiopia</td>\n",
       "      <td>Africa</td>\n",
       "      <td>51423</td>\n",
       "      <td>Sunday</td>\n",
       "      <td>33</td>\n",
       "      <td>1976</td>\n",
       "      <td>2</td>\n",
       "      <td>68</td>\n",
       "      <td>ETH</td>\n",
       "      <td>6353.0</td>\n",
       "      <td>45.2</td>\n",
       "      <td>133</td>\n",
       "      <td>4.286</td>\n",
       "    </tr>\n",
       "  </tbody>\n",
       "</table>\n",
       "</div>"
      ],
      "text/plain": [
       "   id  NobelKey      LaureateName   BirthDate  \\\n",
       "0   0         1   Aage Niels Bohr  1922-06-19   \n",
       "1   1         3        Aaron Klug  1926-08-11   \n",
       "2   2         5       Abdus Salam  1926-01-29   \n",
       "3   3         6  Abhijit Banerjee  1961-02-21   \n",
       "4   4         7    Abiy Ahmed Ali  1976-08-15   \n",
       "\n",
       "                          BirthLocation    Country BirthContinent  DateKey  \\\n",
       "0                   Copenhagen, Denmark    Denmark         Europe    31642   \n",
       "1                     Zelvas, Lithuania  Lithuania         Europe    33156   \n",
       "2  Jhang Maghiāna, India (now Pakistan)      India           Asia    32962   \n",
       "3                         Mumbai, India      India           Asia    45769   \n",
       "4                    Beshasha, Ethiopia   Ethiopia         Africa    51423   \n",
       "\n",
       "         Day Week  Year Year_half  CountryKey CountryCode       GNP  \\\n",
       "0     Monday   25  1922         1          59         DNK  174099.0   \n",
       "1  Wednesday   32  1926         2         126         LTU   10692.0   \n",
       "2     Friday    4  1926         1          99         IND  447114.0   \n",
       "3    Tuesday    8  1961         1          99         IND  447114.0   \n",
       "4     Sunday   33  1976         2          68         ETH    6353.0   \n",
       "\n",
       "   LifeExpectancy  HappinessKey  HappinessScore  \n",
       "0            76.5             1           7.600  \n",
       "1            69.1            41           6.149  \n",
       "2            62.5           139           4.015  \n",
       "3            62.5           139           4.015  \n",
       "4            45.2           133           4.286  "
      ]
     },
     "execution_count": 202,
     "metadata": {},
     "output_type": "execute_result"
    }
   ],
   "source": [
    "df_fact_combined = pd.merge(df_fact_nobel,df_fact_country, how=\"inner\", left_on=\"Country\", right_on=\"Country\")\n",
    "df_fact_combined.reset_index(inplace=True)\n",
    "df_fact_combined = df_fact_combined.drop([\"Quarter\",\"Population\"], axis=1) # Will be used in the select statements\n",
    "df_fact_combined.rename(columns={\"index\":\"id\"}, inplace=True)\n",
    "df_fact_combined.head()"
   ]
  },
  {
   "cell_type": "code",
   "execution_count": 227,
   "id": "0590b58f-f3cc-427a-adff-03f83e3f304d",
   "metadata": {},
   "outputs": [
    {
     "data": {
      "text/plain": [
       "(18, 18)"
      ]
     },
     "execution_count": 227,
     "metadata": {},
     "output_type": "execute_result"
    }
   ],
   "source": [
    "df_fact_combined.shape"
   ]
  },
  {
   "cell_type": "markdown",
   "id": "69fdffa3-6ca6-4144-a65a-9b24c57d17df",
   "metadata": {},
   "source": [
    "Now to add all of the data to the data warehouse"
   ]
  },
  {
   "cell_type": "code",
   "execution_count": 203,
   "id": "8776c958-044c-4e29-a86a-0934dd0a744d",
   "metadata": {},
   "outputs": [],
   "source": [
    "db_operation = \"insert\"\n",
    "\n",
    "tables = [('fact_combined', df_fact_combined, 'id'), ('world', df_world_trimmed, 'CountryKey'), ('happiness', df_happiness_trimmed, 'HappinessKey'), ('nobel', df_nobel_trimmed, 'NobelKey'), ('dim_date', df_dim_date, 'DateKey')]\n",
    "\n",
    "for table_name, dataframe, primary_key in tables:\n",
    "    set_dataframe(user_id, pwd, host_name, dst_dbname, dataframe, table_name, primary_key, db_operation)"
   ]
  },
  {
   "cell_type": "markdown",
   "id": "63ba7c7e-6c2e-4a22-b2c8-c6558a6247f2",
   "metadata": {},
   "source": [
    "## 3. Author one or more SQL queries (SELECT statements) to demonstrate proper functionality."
   ]
  },
  {
   "cell_type": "markdown",
   "id": "0773079b-1964-40f4-b4fd-8a1f81d53926",
   "metadata": {},
   "source": [
    "a. SELECT data from at least 3 tables (two dimensions; plus the fact table).\n",
    "\n",
    "b. Perform some type of aggregation (e.g., SUM, COUNT, AVERAGE). This, of course, \n",
    "necessitates some form of grouping operation (e.g., GROUP BY <customer.last_name>).\n"
   ]
  },
  {
   "cell_type": "code",
   "execution_count": 237,
   "id": "b01b5059-5499-45c9-b28d-3c752ee2b797",
   "metadata": {},
   "outputs": [
    {
     "data": {
      "text/html": [
       "<div>\n",
       "<style scoped>\n",
       "    .dataframe tbody tr th:only-of-type {\n",
       "        vertical-align: middle;\n",
       "    }\n",
       "\n",
       "    .dataframe tbody tr th {\n",
       "        vertical-align: top;\n",
       "    }\n",
       "\n",
       "    .dataframe thead th {\n",
       "        text-align: right;\n",
       "    }\n",
       "</style>\n",
       "<table border=\"1\" class=\"dataframe\">\n",
       "  <thead>\n",
       "    <tr style=\"text-align: right;\">\n",
       "      <th></th>\n",
       "      <th>country_name</th>\n",
       "      <th>population</th>\n",
       "      <th>count_of_laureates</th>\n",
       "      <th>continent</th>\n",
       "    </tr>\n",
       "  </thead>\n",
       "  <tbody>\n",
       "    <tr>\n",
       "      <th>0</th>\n",
       "      <td>United States</td>\n",
       "      <td>278357000</td>\n",
       "      <td>3</td>\n",
       "      <td>North America</td>\n",
       "    </tr>\n",
       "    <tr>\n",
       "      <th>1</th>\n",
       "      <td>India</td>\n",
       "      <td>1013662000</td>\n",
       "      <td>2</td>\n",
       "      <td>Asia</td>\n",
       "    </tr>\n",
       "    <tr>\n",
       "      <th>2</th>\n",
       "      <td>Germany</td>\n",
       "      <td>82164700</td>\n",
       "      <td>2</td>\n",
       "      <td>Europe</td>\n",
       "    </tr>\n",
       "    <tr>\n",
       "      <th>3</th>\n",
       "      <td>Japan</td>\n",
       "      <td>126714000</td>\n",
       "      <td>2</td>\n",
       "      <td>Asia</td>\n",
       "    </tr>\n",
       "    <tr>\n",
       "      <th>4</th>\n",
       "      <td>Denmark</td>\n",
       "      <td>5330000</td>\n",
       "      <td>1</td>\n",
       "      <td>Europe</td>\n",
       "    </tr>\n",
       "  </tbody>\n",
       "</table>\n",
       "</div>"
      ],
      "text/plain": [
       "    country_name  population  count_of_laureates      continent\n",
       "0  United States   278357000                   3  North America\n",
       "1          India  1013662000                   2           Asia\n",
       "2        Germany    82164700                   2         Europe\n",
       "3          Japan   126714000                   2           Asia\n",
       "4        Denmark     5330000                   1         Europe"
      ]
     },
     "execution_count": 237,
     "metadata": {},
     "output_type": "execute_result"
    }
   ],
   "source": [
    "sql_select_statement = \"\"\"\n",
    "SELECT `fact_combined`.Country as country_name,\n",
    "       `world`.Population as population,\n",
    "       COUNT(*) as count_of_laureates,\n",
    "       `nobel`.BirthContinent as continent\n",
    "FROM `data_project_warehouse`.`fact_combined`\n",
    "INNER JOIN `data_project_warehouse`.`world`\n",
    "ON  `fact_combined`.`CountryKey` = `world`.`CountryKey`\n",
    "INNER JOIN `data_project_warehouse`.`nobel`\n",
    "ON  `fact_combined`.`NobelKey` = `nobel`.`NobelKey`\n",
    "GROUP BY `world`.`country`\n",
    "ORDER BY count_of_laureates DESC;\n",
    "\"\"\"\n",
    "df_result_one = get_dataframe(user_id, pwd, host_name, src_dbname, sql_select_statement)\n",
    "df_result_one.head()"
   ]
  },
  {
   "cell_type": "markdown",
   "id": "92c74c01-d2b9-423b-b150-86d2f5f5acbb",
   "metadata": {},
   "source": [
    "The 3 Tables used in this select statment are:\n",
    "\n",
    "1. fact_combined with the country name\n",
    "2. world with the country population\n",
    "3. nobel with the birth continent of the nobel laurette"
   ]
  },
  {
   "cell_type": "markdown",
   "id": "e09fc1e9-0bd8-4f36-818a-e77ce07ea438",
   "metadata": {},
   "source": [
    "The low numbers are because the api only contains 25 entries so after the inner joins 18 laurettes are left"
   ]
  }
 ],
 "metadata": {
  "kernelspec": {
   "display_name": "Python 3 (ipykernel)",
   "language": "python",
   "name": "python3"
  },
  "language_info": {
   "codemirror_mode": {
    "name": "ipython",
    "version": 3
   },
   "file_extension": ".py",
   "mimetype": "text/x-python",
   "name": "python",
   "nbconvert_exporter": "python",
   "pygments_lexer": "ipython3",
   "version": "3.10.6"
  }
 },
 "nbformat": 4,
 "nbformat_minor": 5
}
