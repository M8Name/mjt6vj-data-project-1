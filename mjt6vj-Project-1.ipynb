{
 "cells": [
  {
   "cell_type": "markdown",
   "id": "e640d254-0d73-4cd0-aa78-a1c081e28093",
   "metadata": {},
   "source": [
    "Maclay Teefey (mjt6vj)\n",
    "Data Project #1 Midterm"
   ]
  },
  {
   "cell_type": "markdown",
   "id": "fac6d47b-0f24-4cf9-aaad-02dd22839a80",
   "metadata": {
    "tags": []
   },
   "source": [
    "# DS-2002 – Data Project 1 100 points\n"
   ]
  },
  {
   "cell_type": "markdown",
   "id": "f2481b56-8f1c-4dbd-9453-8a8cfb0d5604",
   "metadata": {},
   "source": [
    "The goal of this project is to demonstrate (1) an understanding of and (2) competence creating and \n",
    "implementing basic data science systems such as pipelines, scripts, data transformations, APIs, databases \n",
    "and cloud services. Submit your project in your GitHub Repo or file drop on Collab. \n",
    "Data Projects must be done individually."
   ]
  },
  {
   "cell_type": "markdown",
   "id": "9bad3598-dafe-4aba-89f9-51ca8a2a5df5",
   "metadata": {
    "tags": []
   },
   "source": [
    "## ETL Data Processor"
   ]
  },
  {
   "cell_type": "markdown",
   "id": "d13227ca-7885-4bc1-91a3-62ba1d628212",
   "metadata": {},
   "source": [
    "You project should demonstrate your understanding of the differing types of data systems (OLTP/OLAP), \n",
    "and how data can be extracted from various source systems (structured, semi-structured, unstructured), \n",
    "transformed (cleansed, integrated), and then loaded into a destination system that’s optimized for post \n",
    "hoc diagnostic analysis."
   ]
  },
  {
   "cell_type": "markdown",
   "id": "b7939eb4-5de8-46a6-8709-d290f0bc09aa",
   "metadata": {},
   "source": [
    "# Deliverable"
   ]
  },
  {
   "cell_type": "markdown",
   "id": "4bcae26b-2bb7-432f-be8b-33d54700993d",
   "metadata": {},
   "source": [
    "## 1. Design a dimensional data mart that represents a simple business process of your choosing."
   ]
  },
  {
   "cell_type": "markdown",
   "id": "3b57ae02-8c9e-4bff-89e2-df96eb8f51d2",
   "metadata": {},
   "source": [
    "a. Examples might include retail sales, inventory management, procurement, order \n",
    "management, transportation or hospitality bookings, medical appointments, student \n",
    "registration and/or attendance.\n",
    "\n",
    "b. You may select any business process that interests you, but remember that a \n",
    "dimensional data mart provides for the post hoc summarization and historic analysis of \n",
    "business transactions that reflect the interaction between various entities (e.g., patients \n",
    "& doctors, retailers & customers, students & schools/classes, travelers & airlines/hotels)."
   ]
  },
  {
   "cell_type": "code",
   "execution_count": 187,
   "id": "c8e71d71-d84c-4697-91c2-4220da8232c0",
   "metadata": {},
   "outputs": [],
   "source": [
    "import os\n",
    "import cryptography\n",
    "import numpy\n",
    "import pandas as pd\n",
    "from sqlalchemy import create_engine"
   ]
  },
  {
   "cell_type": "code",
   "execution_count": 188,
   "id": "1ee87c0c-97f1-46c3-8c5e-2ec5e172e1a2",
   "metadata": {},
   "outputs": [],
   "source": [
    "host_name = \"localhost\"\n",
    "host_ip = \"127.0.0.1\"\n",
    "port = \"3306\"\n",
    "user_id = \"root\"\n",
    "pwd = \"m6zIUutf0k1$\"\n",
    "\n",
    "src_dbname = \"world\"\n",
    "dst_dbname = \"data_project_warehouse\""
   ]
  },
  {
   "cell_type": "code",
   "execution_count": 189,
   "id": "f7d93fde-2231-46fa-b125-abd556cd33ae",
   "metadata": {},
   "outputs": [
    {
     "data": {
      "text/plain": [
       "<sqlalchemy.engine.cursor.LegacyCursorResult at 0x1635f65db40>"
      ]
     },
     "execution_count": 189,
     "metadata": {},
     "output_type": "execute_result"
    }
   ],
   "source": [
    "conn_str = f\"mysql+pymysql://{user_id}:{pwd}@{host_name}\"\n",
    "sqlEngine = create_engine(conn_str, pool_recycle=3600)\n",
    "\n",
    "sqlEngine.execute(f\"DROP DATABASE IF EXISTS `{dst_dbname}`;\")\n",
    "sqlEngine.execute(f\"CREATE DATABASE `{dst_dbname}`;\")\n",
    "sqlEngine.execute(f\"USE {dst_dbname};\")"
   ]
  },
  {
   "cell_type": "markdown",
   "id": "32745324-7ac5-4221-8269-17db4f71450e",
   "metadata": {},
   "source": [
    "The three data sets I will be using and their forms:\n",
    "\n",
    "1. World sample data set from Oracle in SQL\n",
    "\n",
    "2. Nobel Prizes downloaded and loaded in as a JSON file (local file system) (link: https://api.nobelprize.org/v1/prize.json)\n",
    "\n",
    "3. Nobel Prize Laureates from the Nobel Prizes API (taken in as JSON)"
   ]
  },
  {
   "cell_type": "markdown",
   "id": "8e110d57-e79f-48fc-97d0-931ab6199e8c",
   "metadata": {},
   "source": [
    "The relationship being warehoused is between the countries and the nobel prize winners. The key joining point will be the country name and birth country of the laureate. The required date portion will be the Birth Date section."
   ]
  },
  {
   "cell_type": "markdown",
   "id": "28a980ac-48b0-4c65-9aa5-630ba887beb0",
   "metadata": {},
   "source": [
    "## 2. Develop an ETL pipeline that extracts, transforms, and loads data into your data mart."
   ]
  },
  {
   "cell_type": "markdown",
   "id": "c1df6d12-cd5b-4c70-a32c-47bebdaffa94",
   "metadata": {},
   "source": [
    "a. Extract data from one or more SQL database tables; hosted locally or in the Cloud.\n",
    "\n",
    "b. Retrieve a data file, either from a remote or local file system, converting its original \n",
    "format (e.g., CSV, JSON) into a SQL database table.\n",
    "\n",
    "c. Modify the number of columns from each source to the destination.\n",
    "\n",
    "d. Provide error messages wherever an operation fails (i.e., Try/Except error handlers).\n"
   ]
  },
  {
   "cell_type": "markdown",
   "id": "23de8afd-b5e3-4de0-9b6f-8378e1880dcd",
   "metadata": {},
   "source": [
    "Getting the Countries table from World Data"
   ]
  },
  {
   "cell_type": "markdown",
   "id": "3939931a-c3d6-4a72-a039-d4a51186b83f",
   "metadata": {},
   "source": [
    "Functions for Getting Data From and Setting Data Into Databases Taken from Lab 03"
   ]
  },
  {
   "cell_type": "code",
   "execution_count": 190,
   "id": "f875a6ea-af82-4b99-94d2-58d319fbddf1",
   "metadata": {},
   "outputs": [],
   "source": [
    "def get_dataframe(user_id, pwd, host_name, db_name, sql_query):\n",
    "    conn_str = f\"mysql+pymysql://{user_id}:{pwd}@{host_name}/{db_name}\"\n",
    "    sqlEngine = create_engine(conn_str, pool_recycle=3600)\n",
    "    connection = sqlEngine.connect()\n",
    "    dframe = pd.read_sql(sql_query, connection);\n",
    "    connection.close()\n",
    "    \n",
    "    return dframe\n",
    "\n",
    "\n",
    "def set_dataframe(user_id, pwd, host_name, db_name, df, table_name, pk_column, db_operation):\n",
    "    conn_str = f\"mysql+pymysql://{user_id}:{pwd}@{host_name}/{db_name}\"\n",
    "    sqlEngine = create_engine(conn_str, pool_recycle=3600)\n",
    "    connection = sqlEngine.connect()\n",
    "    \n",
    "    if db_operation == \"insert\":\n",
    "        df.to_sql(table_name, con=connection, index=False, if_exists='replace')\n",
    "        sqlEngine.execute(f\"ALTER TABLE {table_name} ADD PRIMARY KEY ({pk_column});\")\n",
    "            \n",
    "    elif db_operation == \"update\":\n",
    "        df.to_sql(table_name, con=connection, index=False, if_exists='append')\n",
    "    \n",
    "    connection.close()"
   ]
  },
  {
   "cell_type": "code",
   "execution_count": 191,
   "id": "3699f9fa-b1b2-4800-82be-6927d4e0c29d",
   "metadata": {},
   "outputs": [
    {
     "data": {
      "text/html": [
       "<div>\n",
       "<style scoped>\n",
       "    .dataframe tbody tr th:only-of-type {\n",
       "        vertical-align: middle;\n",
       "    }\n",
       "\n",
       "    .dataframe tbody tr th {\n",
       "        vertical-align: top;\n",
       "    }\n",
       "\n",
       "    .dataframe thead th {\n",
       "        text-align: right;\n",
       "    }\n",
       "</style>\n",
       "<table border=\"1\" class=\"dataframe\">\n",
       "  <thead>\n",
       "    <tr style=\"text-align: right;\">\n",
       "      <th></th>\n",
       "      <th>Code</th>\n",
       "      <th>Name</th>\n",
       "      <th>Continent</th>\n",
       "      <th>Region</th>\n",
       "      <th>SurfaceArea</th>\n",
       "      <th>IndepYear</th>\n",
       "      <th>Population</th>\n",
       "      <th>LifeExpectancy</th>\n",
       "      <th>GNP</th>\n",
       "      <th>GNPOld</th>\n",
       "      <th>LocalName</th>\n",
       "      <th>GovernmentForm</th>\n",
       "      <th>HeadOfState</th>\n",
       "      <th>Capital</th>\n",
       "      <th>Code2</th>\n",
       "    </tr>\n",
       "  </thead>\n",
       "  <tbody>\n",
       "    <tr>\n",
       "      <th>0</th>\n",
       "      <td>ABW</td>\n",
       "      <td>Aruba</td>\n",
       "      <td>North America</td>\n",
       "      <td>Caribbean</td>\n",
       "      <td>193.0</td>\n",
       "      <td>NaN</td>\n",
       "      <td>103000</td>\n",
       "      <td>78.4</td>\n",
       "      <td>828.0</td>\n",
       "      <td>793.0</td>\n",
       "      <td>Aruba</td>\n",
       "      <td>Nonmetropolitan Territory of The Netherlands</td>\n",
       "      <td>Beatrix</td>\n",
       "      <td>129.0</td>\n",
       "      <td>AW</td>\n",
       "    </tr>\n",
       "    <tr>\n",
       "      <th>1</th>\n",
       "      <td>AFG</td>\n",
       "      <td>Afghanistan</td>\n",
       "      <td>Asia</td>\n",
       "      <td>Southern and Central Asia</td>\n",
       "      <td>652090.0</td>\n",
       "      <td>1919.0</td>\n",
       "      <td>22720000</td>\n",
       "      <td>45.9</td>\n",
       "      <td>5976.0</td>\n",
       "      <td>NaN</td>\n",
       "      <td>Afganistan/Afqanestan</td>\n",
       "      <td>Islamic Emirate</td>\n",
       "      <td>Mohammad Omar</td>\n",
       "      <td>1.0</td>\n",
       "      <td>AF</td>\n",
       "    </tr>\n",
       "  </tbody>\n",
       "</table>\n",
       "</div>"
      ],
      "text/plain": [
       "  Code         Name      Continent                     Region  SurfaceArea  \\\n",
       "0  ABW        Aruba  North America                  Caribbean        193.0   \n",
       "1  AFG  Afghanistan           Asia  Southern and Central Asia     652090.0   \n",
       "\n",
       "   IndepYear  Population  LifeExpectancy     GNP  GNPOld  \\\n",
       "0        NaN      103000            78.4   828.0   793.0   \n",
       "1     1919.0    22720000            45.9  5976.0     NaN   \n",
       "\n",
       "               LocalName                                GovernmentForm  \\\n",
       "0                  Aruba  Nonmetropolitan Territory of The Netherlands   \n",
       "1  Afganistan/Afqanestan                               Islamic Emirate   \n",
       "\n",
       "     HeadOfState  Capital Code2  \n",
       "0        Beatrix    129.0    AW  \n",
       "1  Mohammad Omar      1.0    AF  "
      ]
     },
     "execution_count": 191,
     "metadata": {},
     "output_type": "execute_result"
    }
   ],
   "source": [
    "sql_world = \"SELECT * FROM world.country;\"\n",
    "df_world = get_dataframe(user_id, pwd, host_name, src_dbname, sql_world)\n",
    "df_world.head(2)"
   ]
  },
  {
   "cell_type": "markdown",
   "id": "77d5bc0f-81ac-4008-a4a0-191bf3fdc52a",
   "metadata": {},
   "source": [
    "Now to get Prizes data"
   ]
  },
  {
   "cell_type": "code",
   "execution_count": 192,
   "id": "71578ab7-b139-40aa-986e-2284ad20bfb9",
   "metadata": {},
   "outputs": [],
   "source": [
    "import json\n",
    "# Opening JSON file\n",
    "f = open('prize.json')\n",
    "  \n",
    "# returns JSON object as \n",
    "# a dictionary\n",
    "data = json.load(f)\n"
   ]
  },
  {
   "cell_type": "code",
   "execution_count": 193,
   "id": "0ea276c6-f38e-4016-a649-5762169599ad",
   "metadata": {},
   "outputs": [
    {
     "data": {
      "text/html": [
       "<div>\n",
       "<style scoped>\n",
       "    .dataframe tbody tr th:only-of-type {\n",
       "        vertical-align: middle;\n",
       "    }\n",
       "\n",
       "    .dataframe tbody tr th {\n",
       "        vertical-align: top;\n",
       "    }\n",
       "\n",
       "    .dataframe thead th {\n",
       "        text-align: right;\n",
       "    }\n",
       "</style>\n",
       "<table border=\"1\" class=\"dataframe\">\n",
       "  <thead>\n",
       "    <tr style=\"text-align: right;\">\n",
       "      <th></th>\n",
       "      <th>year</th>\n",
       "      <th>category</th>\n",
       "      <th>id</th>\n",
       "    </tr>\n",
       "  </thead>\n",
       "  <tbody>\n",
       "    <tr>\n",
       "      <th>0</th>\n",
       "      <td>2022</td>\n",
       "      <td>chemistry</td>\n",
       "      <td>1015</td>\n",
       "    </tr>\n",
       "    <tr>\n",
       "      <th>1</th>\n",
       "      <td>2022</td>\n",
       "      <td>chemistry</td>\n",
       "      <td>1016</td>\n",
       "    </tr>\n",
       "    <tr>\n",
       "      <th>2</th>\n",
       "      <td>2022</td>\n",
       "      <td>chemistry</td>\n",
       "      <td>743</td>\n",
       "    </tr>\n",
       "    <tr>\n",
       "      <th>3</th>\n",
       "      <td>2022</td>\n",
       "      <td>economics</td>\n",
       "      <td>1021</td>\n",
       "    </tr>\n",
       "    <tr>\n",
       "      <th>4</th>\n",
       "      <td>2022</td>\n",
       "      <td>economics</td>\n",
       "      <td>1022</td>\n",
       "    </tr>\n",
       "  </tbody>\n",
       "</table>\n",
       "</div>"
      ],
      "text/plain": [
       "   year   category    id\n",
       "0  2022  chemistry  1015\n",
       "1  2022  chemistry  1016\n",
       "2  2022  chemistry   743\n",
       "3  2022  economics  1021\n",
       "4  2022  economics  1022"
      ]
     },
     "execution_count": 193,
     "metadata": {},
     "output_type": "execute_result"
    }
   ],
   "source": [
    "df_prizes = pd.DataFrame(data=None, columns=['year','category','id'])\n",
    "counter = 0\n",
    "for prize in data['prizes']:\n",
    "        if 'laureates' in prize.keys():\n",
    "            for laureate in prize[\"laureates\"]: \n",
    "                df_prizes.loc[len(df_prizes.index)] = [prize[\"year\"], \n",
    "                                                       prize[\"category\"], \n",
    "                                                       laureate[\"id\"]\n",
    "                                                      ]         \n",
    "df_prizes.head()    "
   ]
  },
  {
   "cell_type": "markdown",
   "id": "eddc0b09-5b41-4f28-9f8b-151aea44e762",
   "metadata": {},
   "source": [
    "And finally the nobel prize data"
   ]
  },
  {
   "cell_type": "code",
   "execution_count": 194,
   "id": "f692f2b7-dc61-4055-a684-cbe108571435",
   "metadata": {},
   "outputs": [],
   "source": [
    "# to handle  data retrieval\n",
    "import urllib3\n",
    "from urllib3 import request\n",
    "\n",
    "import numpy as np\n",
    "# to handle certificate verification\n",
    "import certifi\n",
    "\n",
    "# to manage json data\n",
    "import json\n",
    "\n",
    "# I am using https://plainenglish.io/blog/from-api-to-pandas-getting-json-data-with-python-df127f699b6b \n",
    "# as a guide to convert from JSON to a pandas dataframe"
   ]
  },
  {
   "cell_type": "code",
   "execution_count": 195,
   "id": "8732116d-0664-4899-83c2-9becce9cd422",
   "metadata": {},
   "outputs": [],
   "source": [
    "# handle certificate verification and SSL warnings\n",
    "# https://urllib3.readthedocs.io/en/latest/user-guide.html#ssl\n",
    "\n",
    "http = urllib3.PoolManager(\n",
    "       cert_reqs='CERT_REQUIRED',\n",
    "       ca_certs=certifi.where())"
   ]
  },
  {
   "cell_type": "code",
   "execution_count": 196,
   "id": "f8c4ef22-eae6-46b3-abb5-5c9c3432dd37",
   "metadata": {},
   "outputs": [
    {
     "data": {
      "text/plain": [
       "200"
      ]
     },
     "execution_count": 196,
     "metadata": {},
     "output_type": "execute_result"
    }
   ],
   "source": [
    "# get data from the API\n",
    "url = 'https://api.nobelprize.org/v1/laureate.json'\n",
    "\n",
    "r = http.request('GET', url)\n",
    "status_check = r.status\n",
    "status_check # I will be using this as one of the \"try catch\" without it being a try catch"
   ]
  },
  {
   "cell_type": "code",
   "execution_count": 197,
   "id": "d10e0c10-1daa-4bab-a28a-21e89b53a8a7",
   "metadata": {},
   "outputs": [],
   "source": [
    "if status_check == 200:\n",
    "    # decode json data into a dict object\n",
    "    data = json.loads(r.data.decode('utf-8'))\n",
    "else:\n",
    "    print(\"Error access API\")"
   ]
  },
  {
   "cell_type": "markdown",
   "id": "eb91d727-4012-4bbd-9a1c-24bd7c1c5498",
   "metadata": {},
   "source": [
    "I would print out the full data but it is too big to print out as a full chunk"
   ]
  },
  {
   "cell_type": "code",
   "execution_count": 198,
   "id": "947ed2fe-acd8-42f9-9fd7-95f967da34b1",
   "metadata": {},
   "outputs": [
    {
     "data": {
      "text/html": [
       "<div>\n",
       "<style scoped>\n",
       "    .dataframe tbody tr th:only-of-type {\n",
       "        vertical-align: middle;\n",
       "    }\n",
       "\n",
       "    .dataframe tbody tr th {\n",
       "        vertical-align: top;\n",
       "    }\n",
       "\n",
       "    .dataframe thead th {\n",
       "        text-align: right;\n",
       "    }\n",
       "</style>\n",
       "<table border=\"1\" class=\"dataframe\">\n",
       "  <thead>\n",
       "    <tr style=\"text-align: right;\">\n",
       "      <th></th>\n",
       "      <th>id</th>\n",
       "      <th>firstname</th>\n",
       "      <th>surname</th>\n",
       "      <th>born</th>\n",
       "      <th>died</th>\n",
       "      <th>bornCountry</th>\n",
       "      <th>bornCountryCode</th>\n",
       "      <th>bornCity</th>\n",
       "      <th>diedCountry</th>\n",
       "      <th>diedCountryCode</th>\n",
       "      <th>diedCity</th>\n",
       "      <th>gender</th>\n",
       "      <th>prizes</th>\n",
       "    </tr>\n",
       "  </thead>\n",
       "  <tbody>\n",
       "    <tr>\n",
       "      <th>0</th>\n",
       "      <td>1</td>\n",
       "      <td>Wilhelm Conrad</td>\n",
       "      <td>Röntgen</td>\n",
       "      <td>1845-03-27</td>\n",
       "      <td>1923-02-10</td>\n",
       "      <td>Prussia (now Germany)</td>\n",
       "      <td>DE</td>\n",
       "      <td>Lennep (now Remscheid)</td>\n",
       "      <td>Germany</td>\n",
       "      <td>DE</td>\n",
       "      <td>Munich</td>\n",
       "      <td>male</td>\n",
       "      <td>[{'year': '1901', 'category': 'physics', 'shar...</td>\n",
       "    </tr>\n",
       "    <tr>\n",
       "      <th>1</th>\n",
       "      <td>2</td>\n",
       "      <td>Hendrik A.</td>\n",
       "      <td>Lorentz</td>\n",
       "      <td>1853-07-18</td>\n",
       "      <td>1928-02-04</td>\n",
       "      <td>the Netherlands</td>\n",
       "      <td>NL</td>\n",
       "      <td>Arnhem</td>\n",
       "      <td>the Netherlands</td>\n",
       "      <td>NL</td>\n",
       "      <td>NaN</td>\n",
       "      <td>male</td>\n",
       "      <td>[{'year': '1902', 'category': 'physics', 'shar...</td>\n",
       "    </tr>\n",
       "  </tbody>\n",
       "</table>\n",
       "</div>"
      ],
      "text/plain": [
       "  id       firstname  surname        born        died            bornCountry  \\\n",
       "0  1  Wilhelm Conrad  Röntgen  1845-03-27  1923-02-10  Prussia (now Germany)   \n",
       "1  2      Hendrik A.  Lorentz  1853-07-18  1928-02-04        the Netherlands   \n",
       "\n",
       "  bornCountryCode                bornCity      diedCountry diedCountryCode  \\\n",
       "0              DE  Lennep (now Remscheid)          Germany              DE   \n",
       "1              NL                  Arnhem  the Netherlands              NL   \n",
       "\n",
       "  diedCity gender                                             prizes  \n",
       "0   Munich   male  [{'year': '1901', 'category': 'physics', 'shar...  \n",
       "1      NaN   male  [{'year': '1902', 'category': 'physics', 'shar...  "
      ]
     },
     "execution_count": 198,
     "metadata": {},
     "output_type": "execute_result"
    }
   ],
   "source": [
    "# in this dataset, the data to extract is under 'laureates'\n",
    "df_nobel = pd.json_normalize(data, 'laureates')\n",
    "df_nobel.head(2)"
   ]
  },
  {
   "cell_type": "markdown",
   "id": "8eae31c6-bcfa-4e05-aee5-4b40de90090c",
   "metadata": {},
   "source": [
    "The three keys that will be used are: laureate id, date id, and country id"
   ]
  },
  {
   "cell_type": "markdown",
   "id": "e0942048-8a0e-4a77-bc18-5f6e607df042",
   "metadata": {},
   "source": [
    "For laureate id, you can easily join off of id"
   ]
  },
  {
   "cell_type": "markdown",
   "id": "58e211ef-4bc6-4311-9669-f3fac462093a",
   "metadata": {},
   "source": [
    "For date id, the date when the nobel prize is awarded is on December 10th every year"
   ]
  },
  {
   "cell_type": "code",
   "execution_count": 199,
   "id": "c7004d35-e277-47b4-8647-9f6f80f9a1f5",
   "metadata": {},
   "outputs": [
    {
     "data": {
      "text/html": [
       "<div>\n",
       "<style scoped>\n",
       "    .dataframe tbody tr th:only-of-type {\n",
       "        vertical-align: middle;\n",
       "    }\n",
       "\n",
       "    .dataframe tbody tr th {\n",
       "        vertical-align: top;\n",
       "    }\n",
       "\n",
       "    .dataframe thead th {\n",
       "        text-align: right;\n",
       "    }\n",
       "</style>\n",
       "<table border=\"1\" class=\"dataframe\">\n",
       "  <thead>\n",
       "    <tr style=\"text-align: right;\">\n",
       "      <th></th>\n",
       "      <th>date</th>\n",
       "      <th>category</th>\n",
       "      <th>id</th>\n",
       "    </tr>\n",
       "  </thead>\n",
       "  <tbody>\n",
       "    <tr>\n",
       "      <th>0</th>\n",
       "      <td>2022-12-10</td>\n",
       "      <td>chemistry</td>\n",
       "      <td>1015</td>\n",
       "    </tr>\n",
       "    <tr>\n",
       "      <th>1</th>\n",
       "      <td>2022-12-10</td>\n",
       "      <td>chemistry</td>\n",
       "      <td>1016</td>\n",
       "    </tr>\n",
       "    <tr>\n",
       "      <th>2</th>\n",
       "      <td>2022-12-10</td>\n",
       "      <td>chemistry</td>\n",
       "      <td>743</td>\n",
       "    </tr>\n",
       "    <tr>\n",
       "      <th>3</th>\n",
       "      <td>2022-12-10</td>\n",
       "      <td>economics</td>\n",
       "      <td>1021</td>\n",
       "    </tr>\n",
       "    <tr>\n",
       "      <th>4</th>\n",
       "      <td>2022-12-10</td>\n",
       "      <td>economics</td>\n",
       "      <td>1022</td>\n",
       "    </tr>\n",
       "  </tbody>\n",
       "</table>\n",
       "</div>"
      ],
      "text/plain": [
       "         date   category    id\n",
       "0  2022-12-10  chemistry  1015\n",
       "1  2022-12-10  chemistry  1016\n",
       "2  2022-12-10  chemistry   743\n",
       "3  2022-12-10  economics  1021\n",
       "4  2022-12-10  economics  1022"
      ]
     },
     "execution_count": 199,
     "metadata": {},
     "output_type": "execute_result"
    }
   ],
   "source": [
    "def add_day_and_month(year):\n",
    "    date = str(year)\n",
    "    date = date + \"-\" + \"12\" + \"-\" + \"10\"\n",
    "    return date\n",
    "\n",
    "df_prizes['year'] = df_prizes['year'].apply(add_day_and_month)\n",
    "df_prizes.rename(columns={\"year\":\"date\"}, inplace=True)\n",
    "df_prizes.head()"
   ]
  },
  {
   "cell_type": "code",
   "execution_count": 200,
   "id": "df0b5ec0-060d-4fab-8a55-6b0884193944",
   "metadata": {},
   "outputs": [
    {
     "data": {
      "text/plain": [
       "0          Aruba\n",
       "1    Afghanistan\n",
       "Name: Name, dtype: object"
      ]
     },
     "execution_count": 200,
     "metadata": {},
     "output_type": "execute_result"
    }
   ],
   "source": [
    "df_world[\"Name\"].head(2)"
   ]
  },
  {
   "cell_type": "code",
   "execution_count": 201,
   "id": "d5770e31-c409-4918-a639-90eb51a43f8b",
   "metadata": {},
   "outputs": [
    {
     "data": {
      "text/plain": [
       "0    Prussia (now Germany)\n",
       "1          the Netherlands\n",
       "Name: bornCountry, dtype: object"
      ]
     },
     "execution_count": 201,
     "metadata": {},
     "output_type": "execute_result"
    }
   ],
   "source": [
    "df_nobel[\"bornCountry\"].head(2)"
   ]
  },
  {
   "cell_type": "markdown",
   "id": "5270bf6b-75cf-422d-ba42-168ce5f19954",
   "metadata": {},
   "source": [
    "There is a clear issue with each dataframe having inconsistent naming schemes"
   ]
  },
  {
   "cell_type": "markdown",
   "id": "9bb764d5-d2ba-4417-9edb-91cd43ce84f3",
   "metadata": {},
   "source": [
    "I will now get the important details needed from each table and rename the categories into their data mart names."
   ]
  },
  {
   "cell_type": "code",
   "execution_count": 202,
   "id": "f90d7913-ef8e-440a-9ef1-60f25262dd66",
   "metadata": {},
   "outputs": [
    {
     "data": {
      "text/html": [
       "<div>\n",
       "<style scoped>\n",
       "    .dataframe tbody tr th:only-of-type {\n",
       "        vertical-align: middle;\n",
       "    }\n",
       "\n",
       "    .dataframe tbody tr th {\n",
       "        vertical-align: top;\n",
       "    }\n",
       "\n",
       "    .dataframe thead th {\n",
       "        text-align: right;\n",
       "    }\n",
       "</style>\n",
       "<table border=\"1\" class=\"dataframe\">\n",
       "  <thead>\n",
       "    <tr style=\"text-align: right;\">\n",
       "      <th></th>\n",
       "      <th>CountryKey</th>\n",
       "      <th>Country</th>\n",
       "      <th>CountryCode</th>\n",
       "      <th>Population</th>\n",
       "      <th>GNP</th>\n",
       "      <th>LifeExpectancy</th>\n",
       "    </tr>\n",
       "  </thead>\n",
       "  <tbody>\n",
       "    <tr>\n",
       "      <th>0</th>\n",
       "      <td>0</td>\n",
       "      <td>Aruba</td>\n",
       "      <td>ABW</td>\n",
       "      <td>103000</td>\n",
       "      <td>828.0</td>\n",
       "      <td>78.4</td>\n",
       "    </tr>\n",
       "    <tr>\n",
       "      <th>1</th>\n",
       "      <td>1</td>\n",
       "      <td>Afghanistan</td>\n",
       "      <td>AFG</td>\n",
       "      <td>22720000</td>\n",
       "      <td>5976.0</td>\n",
       "      <td>45.9</td>\n",
       "    </tr>\n",
       "  </tbody>\n",
       "</table>\n",
       "</div>"
      ],
      "text/plain": [
       "   CountryKey      Country CountryCode  Population     GNP  LifeExpectancy\n",
       "0           0        Aruba         ABW      103000   828.0            78.4\n",
       "1           1  Afghanistan         AFG    22720000  5976.0            45.9"
      ]
     },
     "execution_count": 202,
     "metadata": {},
     "output_type": "execute_result"
    }
   ],
   "source": [
    "df_world_trimmed = df_world[[\"Name\", \"Code\", \"Population\", \"GNP\", \"LifeExpectancy\"]].copy()\n",
    "df_world_trimmed.reset_index(inplace=True)\n",
    "df_world_trimmed.rename(columns={\"Name\":\"Country\", \"Code\":\"CountryCode\", \"index\":\"CountryKey\"}, inplace=True)\n",
    "df_world_trimmed.head(2)"
   ]
  },
  {
   "cell_type": "code",
   "execution_count": 203,
   "id": "f2797b76-e36b-49f6-be44-702913ca3b00",
   "metadata": {},
   "outputs": [
    {
     "data": {
      "text/plain": [
       "Index(['id', 'firstname', 'surname', 'born', 'died', 'bornCountry',\n",
       "       'bornCountryCode', 'bornCity', 'diedCountry', 'diedCountryCode',\n",
       "       'diedCity', 'gender', 'prizes'],\n",
       "      dtype='object')"
      ]
     },
     "execution_count": 203,
     "metadata": {},
     "output_type": "execute_result"
    }
   ],
   "source": [
    "df_nobel.columns"
   ]
  },
  {
   "cell_type": "code",
   "execution_count": 204,
   "id": "e95a768b-06b6-4a0c-9e3b-12fdc977b744",
   "metadata": {},
   "outputs": [
    {
     "data": {
      "text/html": [
       "<div>\n",
       "<style scoped>\n",
       "    .dataframe tbody tr th:only-of-type {\n",
       "        vertical-align: middle;\n",
       "    }\n",
       "\n",
       "    .dataframe tbody tr th {\n",
       "        vertical-align: top;\n",
       "    }\n",
       "\n",
       "    .dataframe thead th {\n",
       "        text-align: right;\n",
       "    }\n",
       "</style>\n",
       "<table border=\"1\" class=\"dataframe\">\n",
       "  <thead>\n",
       "    <tr style=\"text-align: right;\">\n",
       "      <th></th>\n",
       "      <th>LaureateKey</th>\n",
       "      <th>id</th>\n",
       "      <th>firstname</th>\n",
       "      <th>surname</th>\n",
       "      <th>BirthDate</th>\n",
       "      <th>Country</th>\n",
       "      <th>CountryCode</th>\n",
       "      <th>BirthLocation</th>\n",
       "      <th>gender</th>\n",
       "    </tr>\n",
       "  </thead>\n",
       "  <tbody>\n",
       "    <tr>\n",
       "      <th>0</th>\n",
       "      <td>0</td>\n",
       "      <td>1</td>\n",
       "      <td>Wilhelm Conrad</td>\n",
       "      <td>Röntgen</td>\n",
       "      <td>1845-03-27</td>\n",
       "      <td>Prussia (now Germany)</td>\n",
       "      <td>DE</td>\n",
       "      <td>Lennep (now Remscheid)</td>\n",
       "      <td>male</td>\n",
       "    </tr>\n",
       "    <tr>\n",
       "      <th>1</th>\n",
       "      <td>1</td>\n",
       "      <td>2</td>\n",
       "      <td>Hendrik A.</td>\n",
       "      <td>Lorentz</td>\n",
       "      <td>1853-07-18</td>\n",
       "      <td>the Netherlands</td>\n",
       "      <td>NL</td>\n",
       "      <td>Arnhem</td>\n",
       "      <td>male</td>\n",
       "    </tr>\n",
       "  </tbody>\n",
       "</table>\n",
       "</div>"
      ],
      "text/plain": [
       "   LaureateKey id       firstname  surname   BirthDate                Country  \\\n",
       "0            0  1  Wilhelm Conrad  Röntgen  1845-03-27  Prussia (now Germany)   \n",
       "1            1  2      Hendrik A.  Lorentz  1853-07-18        the Netherlands   \n",
       "\n",
       "  CountryCode           BirthLocation gender  \n",
       "0          DE  Lennep (now Remscheid)   male  \n",
       "1          NL                  Arnhem   male  "
      ]
     },
     "execution_count": 204,
     "metadata": {},
     "output_type": "execute_result"
    }
   ],
   "source": [
    "df_nobel_trimmed = df_nobel[[\"id\",\"firstname\",\"surname\",\"born\", \"bornCountry\", \"bornCountryCode\", \"bornCity\", \"gender\"]].copy()\n",
    "df_nobel_trimmed = df_nobel_trimmed.dropna()\n",
    "df_nobel_trimmed.reset_index(inplace=True)\n",
    "df_nobel_trimmed.rename(columns={\"index\":\"LaureateKey\", \"born\":\"BirthDate\",\"bornCity\":\"BirthLocation\", \"bornCountry\":\"Country\", \"bornCountryCode\":\"CountryCode\"}, inplace=True)\n",
    "df_nobel_trimmed.loc[df_nobel_trimmed[\"Country\"] == \"USA\", \"Country\"] = \"United States\"\n",
    "df_nobel_trimmed.head(2)"
   ]
  },
  {
   "cell_type": "code",
   "execution_count": 205,
   "id": "b15182f3-76b9-4138-a1a4-1d136032f554",
   "metadata": {},
   "outputs": [
    {
     "data": {
      "text/html": [
       "<div>\n",
       "<style scoped>\n",
       "    .dataframe tbody tr th:only-of-type {\n",
       "        vertical-align: middle;\n",
       "    }\n",
       "\n",
       "    .dataframe tbody tr th {\n",
       "        vertical-align: top;\n",
       "    }\n",
       "\n",
       "    .dataframe thead th {\n",
       "        text-align: right;\n",
       "    }\n",
       "</style>\n",
       "<table border=\"1\" class=\"dataframe\">\n",
       "  <thead>\n",
       "    <tr style=\"text-align: right;\">\n",
       "      <th></th>\n",
       "      <th>PrizeKey</th>\n",
       "      <th>date</th>\n",
       "      <th>category</th>\n",
       "      <th>LaureateKey</th>\n",
       "    </tr>\n",
       "  </thead>\n",
       "  <tbody>\n",
       "    <tr>\n",
       "      <th>0</th>\n",
       "      <td>0</td>\n",
       "      <td>2022-12-10</td>\n",
       "      <td>chemistry</td>\n",
       "      <td>720</td>\n",
       "    </tr>\n",
       "    <tr>\n",
       "      <th>1</th>\n",
       "      <td>1</td>\n",
       "      <td>2001-12-10</td>\n",
       "      <td>chemistry</td>\n",
       "      <td>720</td>\n",
       "    </tr>\n",
       "    <tr>\n",
       "      <th>2</th>\n",
       "      <td>2</td>\n",
       "      <td>2022-12-10</td>\n",
       "      <td>economics</td>\n",
       "      <td>978</td>\n",
       "    </tr>\n",
       "    <tr>\n",
       "      <th>3</th>\n",
       "      <td>3</td>\n",
       "      <td>2022-12-10</td>\n",
       "      <td>literature</td>\n",
       "      <td>974</td>\n",
       "    </tr>\n",
       "    <tr>\n",
       "      <th>4</th>\n",
       "      <td>4</td>\n",
       "      <td>2022-12-10</td>\n",
       "      <td>peace</td>\n",
       "      <td>975</td>\n",
       "    </tr>\n",
       "  </tbody>\n",
       "</table>\n",
       "</div>"
      ],
      "text/plain": [
       "   PrizeKey        date    category  LaureateKey\n",
       "0         0  2022-12-10   chemistry          720\n",
       "1         1  2001-12-10   chemistry          720\n",
       "2         2  2022-12-10   economics          978\n",
       "3         3  2022-12-10  literature          974\n",
       "4         4  2022-12-10       peace          975"
      ]
     },
     "execution_count": 205,
     "metadata": {},
     "output_type": "execute_result"
    }
   ],
   "source": [
    "df_prizes = pd.merge(df_prizes,df_nobel_trimmed, how=\"inner\", left_on=\"id\", right_on=\"id\")\n",
    "df_prizes.reset_index(inplace=True)\n",
    "df_prizes.rename(columns={\"index\":\"PrizeKey\"}, inplace=True)\n",
    "df_prizes = df_prizes.drop([\"id\", \"firstname\", \"surname\", \"BirthDate\", \"Country\", \"CountryCode\", \"BirthLocation\", \"gender\"], axis=1)\n",
    "\n",
    "df_prizes.head()"
   ]
  },
  {
   "cell_type": "code",
   "execution_count": 206,
   "id": "5a0eee19-9015-4196-a89e-e61215ae7f10",
   "metadata": {},
   "outputs": [
    {
     "data": {
      "text/html": [
       "<div>\n",
       "<style scoped>\n",
       "    .dataframe tbody tr th:only-of-type {\n",
       "        vertical-align: middle;\n",
       "    }\n",
       "\n",
       "    .dataframe tbody tr th {\n",
       "        vertical-align: top;\n",
       "    }\n",
       "\n",
       "    .dataframe thead th {\n",
       "        text-align: right;\n",
       "    }\n",
       "</style>\n",
       "<table border=\"1\" class=\"dataframe\">\n",
       "  <thead>\n",
       "    <tr style=\"text-align: right;\">\n",
       "      <th></th>\n",
       "      <th>LaureateKey</th>\n",
       "      <th>firstname</th>\n",
       "      <th>surname</th>\n",
       "      <th>BirthDate</th>\n",
       "      <th>Country</th>\n",
       "      <th>CountryCode</th>\n",
       "      <th>BirthLocation</th>\n",
       "      <th>gender</th>\n",
       "    </tr>\n",
       "  </thead>\n",
       "  <tbody>\n",
       "    <tr>\n",
       "      <th>0</th>\n",
       "      <td>0</td>\n",
       "      <td>Wilhelm Conrad</td>\n",
       "      <td>Röntgen</td>\n",
       "      <td>1845-03-27</td>\n",
       "      <td>Prussia (now Germany)</td>\n",
       "      <td>DE</td>\n",
       "      <td>Lennep (now Remscheid)</td>\n",
       "      <td>male</td>\n",
       "    </tr>\n",
       "    <tr>\n",
       "      <th>1</th>\n",
       "      <td>1</td>\n",
       "      <td>Hendrik A.</td>\n",
       "      <td>Lorentz</td>\n",
       "      <td>1853-07-18</td>\n",
       "      <td>the Netherlands</td>\n",
       "      <td>NL</td>\n",
       "      <td>Arnhem</td>\n",
       "      <td>male</td>\n",
       "    </tr>\n",
       "  </tbody>\n",
       "</table>\n",
       "</div>"
      ],
      "text/plain": [
       "   LaureateKey       firstname  surname   BirthDate                Country  \\\n",
       "0            0  Wilhelm Conrad  Röntgen  1845-03-27  Prussia (now Germany)   \n",
       "1            1      Hendrik A.  Lorentz  1853-07-18        the Netherlands   \n",
       "\n",
       "  CountryCode           BirthLocation gender  \n",
       "0          DE  Lennep (now Remscheid)   male  \n",
       "1          NL                  Arnhem   male  "
      ]
     },
     "execution_count": 206,
     "metadata": {},
     "output_type": "execute_result"
    }
   ],
   "source": [
    "df_nobel_trimmed = df_nobel_trimmed.drop([\"id\"],axis=1)\n",
    "df_nobel_trimmed.head(2)"
   ]
  },
  {
   "cell_type": "markdown",
   "id": "ffbe5743-3c95-4ab0-bccb-829f0292ad25",
   "metadata": {},
   "source": [
    "I will create a date table based upon the birthDate category and date category"
   ]
  },
  {
   "cell_type": "code",
   "execution_count": 207,
   "id": "8e27a637-66c8-4d7d-9d50-c91693482d89",
   "metadata": {},
   "outputs": [
    {
     "name": "stdout",
     "output_type": "stream",
     "text": [
      "1817-11-30-2022-12-10\n"
     ]
    }
   ],
   "source": [
    "min_birth_date = min(df_nobel_trimmed[\"BirthDate\"].astype(str))\n",
    "min_prize_date = min(df_prizes[\"date\"].astype(str))\n",
    "min_date = min(min_birth_date, min_prize_date)\n",
    "max_birth_date = max(df_nobel_trimmed[\"BirthDate\"].astype(str))\n",
    "max_prize_date = max(df_prizes[\"date\"].astype(str))\n",
    "max_date = max(max_birth_date, max_prize_date)\n",
    "print(str(min_date) + \"-\" + str(max_date))"
   ]
  },
  {
   "cell_type": "code",
   "execution_count": 208,
   "id": "a8f467fe-fd45-474f-982b-628af0303e01",
   "metadata": {
    "tags": []
   },
   "outputs": [],
   "source": [
    "# Here is the code borrowed from https://stackoverflow.com/questions/47150709/how-to-create-a-calendar-table-date-dimension-in-pandas\n",
    "# to create a \n",
    "def create_date_table(start='2000-01-01', end='2050-12-31'):\n",
    "        df = pd.DataFrame({\"Date\": pd.date_range(start, end)})\n",
    "        df[\"Day\"] = df.Date.dt.day_name()\n",
    "        df[\"Week\"] = df.Date.dt.weekofyear\n",
    "        df[\"Quarter\"] = df.Date.dt.quarter\n",
    "        df[\"Year\"] = df.Date.dt.year\n",
    "        df[\"Year_half\"] = (df.Quarter + 1) // 2\n",
    "        return df"
   ]
  },
  {
   "cell_type": "code",
   "execution_count": 209,
   "id": "be8dd084-6e52-491c-a5b5-e1396c342925",
   "metadata": {},
   "outputs": [
    {
     "name": "stderr",
     "output_type": "stream",
     "text": [
      "C:\\Users\\student\\AppData\\Local\\Temp\\ipykernel_19880\\632955866.py:6: FutureWarning: Series.dt.weekofyear and Series.dt.week have been deprecated. Please use Series.dt.isocalendar().week instead.\n",
      "  df[\"Week\"] = df.Date.dt.weekofyear\n"
     ]
    },
    {
     "data": {
      "text/html": [
       "<div>\n",
       "<style scoped>\n",
       "    .dataframe tbody tr th:only-of-type {\n",
       "        vertical-align: middle;\n",
       "    }\n",
       "\n",
       "    .dataframe tbody tr th {\n",
       "        vertical-align: top;\n",
       "    }\n",
       "\n",
       "    .dataframe thead th {\n",
       "        text-align: right;\n",
       "    }\n",
       "</style>\n",
       "<table border=\"1\" class=\"dataframe\">\n",
       "  <thead>\n",
       "    <tr style=\"text-align: right;\">\n",
       "      <th></th>\n",
       "      <th>DateKey</th>\n",
       "      <th>Date</th>\n",
       "      <th>Day</th>\n",
       "      <th>Week</th>\n",
       "      <th>Quarter</th>\n",
       "      <th>Year</th>\n",
       "      <th>Year_half</th>\n",
       "    </tr>\n",
       "  </thead>\n",
       "  <tbody>\n",
       "    <tr>\n",
       "      <th>0</th>\n",
       "      <td>0</td>\n",
       "      <td>1817-11-30</td>\n",
       "      <td>Sunday</td>\n",
       "      <td>48</td>\n",
       "      <td>4</td>\n",
       "      <td>1817</td>\n",
       "      <td>2</td>\n",
       "    </tr>\n",
       "    <tr>\n",
       "      <th>1</th>\n",
       "      <td>1</td>\n",
       "      <td>1817-12-01</td>\n",
       "      <td>Monday</td>\n",
       "      <td>49</td>\n",
       "      <td>4</td>\n",
       "      <td>1817</td>\n",
       "      <td>2</td>\n",
       "    </tr>\n",
       "    <tr>\n",
       "      <th>2</th>\n",
       "      <td>2</td>\n",
       "      <td>1817-12-02</td>\n",
       "      <td>Tuesday</td>\n",
       "      <td>49</td>\n",
       "      <td>4</td>\n",
       "      <td>1817</td>\n",
       "      <td>2</td>\n",
       "    </tr>\n",
       "    <tr>\n",
       "      <th>3</th>\n",
       "      <td>3</td>\n",
       "      <td>1817-12-03</td>\n",
       "      <td>Wednesday</td>\n",
       "      <td>49</td>\n",
       "      <td>4</td>\n",
       "      <td>1817</td>\n",
       "      <td>2</td>\n",
       "    </tr>\n",
       "    <tr>\n",
       "      <th>4</th>\n",
       "      <td>4</td>\n",
       "      <td>1817-12-04</td>\n",
       "      <td>Thursday</td>\n",
       "      <td>49</td>\n",
       "      <td>4</td>\n",
       "      <td>1817</td>\n",
       "      <td>2</td>\n",
       "    </tr>\n",
       "    <tr>\n",
       "      <th>...</th>\n",
       "      <td>...</td>\n",
       "      <td>...</td>\n",
       "      <td>...</td>\n",
       "      <td>...</td>\n",
       "      <td>...</td>\n",
       "      <td>...</td>\n",
       "      <td>...</td>\n",
       "    </tr>\n",
       "    <tr>\n",
       "      <th>74881</th>\n",
       "      <td>74881</td>\n",
       "      <td>2022-12-06</td>\n",
       "      <td>Tuesday</td>\n",
       "      <td>49</td>\n",
       "      <td>4</td>\n",
       "      <td>2022</td>\n",
       "      <td>2</td>\n",
       "    </tr>\n",
       "    <tr>\n",
       "      <th>74882</th>\n",
       "      <td>74882</td>\n",
       "      <td>2022-12-07</td>\n",
       "      <td>Wednesday</td>\n",
       "      <td>49</td>\n",
       "      <td>4</td>\n",
       "      <td>2022</td>\n",
       "      <td>2</td>\n",
       "    </tr>\n",
       "    <tr>\n",
       "      <th>74883</th>\n",
       "      <td>74883</td>\n",
       "      <td>2022-12-08</td>\n",
       "      <td>Thursday</td>\n",
       "      <td>49</td>\n",
       "      <td>4</td>\n",
       "      <td>2022</td>\n",
       "      <td>2</td>\n",
       "    </tr>\n",
       "    <tr>\n",
       "      <th>74884</th>\n",
       "      <td>74884</td>\n",
       "      <td>2022-12-09</td>\n",
       "      <td>Friday</td>\n",
       "      <td>49</td>\n",
       "      <td>4</td>\n",
       "      <td>2022</td>\n",
       "      <td>2</td>\n",
       "    </tr>\n",
       "    <tr>\n",
       "      <th>74885</th>\n",
       "      <td>74885</td>\n",
       "      <td>2022-12-10</td>\n",
       "      <td>Saturday</td>\n",
       "      <td>49</td>\n",
       "      <td>4</td>\n",
       "      <td>2022</td>\n",
       "      <td>2</td>\n",
       "    </tr>\n",
       "  </tbody>\n",
       "</table>\n",
       "<p>74886 rows × 7 columns</p>\n",
       "</div>"
      ],
      "text/plain": [
       "       DateKey       Date        Day  Week  Quarter  Year  Year_half\n",
       "0            0 1817-11-30     Sunday    48        4  1817          2\n",
       "1            1 1817-12-01     Monday    49        4  1817          2\n",
       "2            2 1817-12-02    Tuesday    49        4  1817          2\n",
       "3            3 1817-12-03  Wednesday    49        4  1817          2\n",
       "4            4 1817-12-04   Thursday    49        4  1817          2\n",
       "...        ...        ...        ...   ...      ...   ...        ...\n",
       "74881    74881 2022-12-06    Tuesday    49        4  2022          2\n",
       "74882    74882 2022-12-07  Wednesday    49        4  2022          2\n",
       "74883    74883 2022-12-08   Thursday    49        4  2022          2\n",
       "74884    74884 2022-12-09     Friday    49        4  2022          2\n",
       "74885    74885 2022-12-10   Saturday    49        4  2022          2\n",
       "\n",
       "[74886 rows x 7 columns]"
      ]
     },
     "execution_count": 209,
     "metadata": {},
     "output_type": "execute_result"
    }
   ],
   "source": [
    "df_dim_date = create_date_table(min_date, max_date)\n",
    "df_dim_date.reset_index(inplace=True)\n",
    "df_dim_date.rename(columns={\"index\":\"DateKey\"}, inplace=True)\n",
    "df_dim_date"
   ]
  },
  {
   "cell_type": "code",
   "execution_count": 210,
   "id": "384b33aa-2052-41bd-b5a3-8bfd77805642",
   "metadata": {},
   "outputs": [
    {
     "data": {
      "text/html": [
       "<div>\n",
       "<style scoped>\n",
       "    .dataframe tbody tr th:only-of-type {\n",
       "        vertical-align: middle;\n",
       "    }\n",
       "\n",
       "    .dataframe tbody tr th {\n",
       "        vertical-align: top;\n",
       "    }\n",
       "\n",
       "    .dataframe thead th {\n",
       "        text-align: right;\n",
       "    }\n",
       "</style>\n",
       "<table border=\"1\" class=\"dataframe\">\n",
       "  <thead>\n",
       "    <tr style=\"text-align: right;\">\n",
       "      <th></th>\n",
       "      <th>LaureateKey</th>\n",
       "      <th>firstname</th>\n",
       "      <th>surname</th>\n",
       "      <th>BirthDate</th>\n",
       "      <th>Country</th>\n",
       "      <th>CountryCode</th>\n",
       "      <th>BirthLocation</th>\n",
       "      <th>gender</th>\n",
       "      <th>DateKey</th>\n",
       "      <th>Day</th>\n",
       "      <th>Week</th>\n",
       "      <th>Quarter</th>\n",
       "      <th>Year</th>\n",
       "      <th>Year_half</th>\n",
       "    </tr>\n",
       "  </thead>\n",
       "  <tbody>\n",
       "    <tr>\n",
       "      <th>0</th>\n",
       "      <td>0</td>\n",
       "      <td>Wilhelm Conrad</td>\n",
       "      <td>Röntgen</td>\n",
       "      <td>1845-03-27</td>\n",
       "      <td>Prussia (now Germany)</td>\n",
       "      <td>DE</td>\n",
       "      <td>Lennep (now Remscheid)</td>\n",
       "      <td>male</td>\n",
       "      <td>9979</td>\n",
       "      <td>Thursday</td>\n",
       "      <td>13</td>\n",
       "      <td>1</td>\n",
       "      <td>1845</td>\n",
       "      <td>1</td>\n",
       "    </tr>\n",
       "    <tr>\n",
       "      <th>1</th>\n",
       "      <td>1</td>\n",
       "      <td>Hendrik A.</td>\n",
       "      <td>Lorentz</td>\n",
       "      <td>1853-07-18</td>\n",
       "      <td>the Netherlands</td>\n",
       "      <td>NL</td>\n",
       "      <td>Arnhem</td>\n",
       "      <td>male</td>\n",
       "      <td>13014</td>\n",
       "      <td>Monday</td>\n",
       "      <td>29</td>\n",
       "      <td>3</td>\n",
       "      <td>1853</td>\n",
       "      <td>2</td>\n",
       "    </tr>\n",
       "    <tr>\n",
       "      <th>2</th>\n",
       "      <td>2</td>\n",
       "      <td>Pieter</td>\n",
       "      <td>Zeeman</td>\n",
       "      <td>1865-05-25</td>\n",
       "      <td>the Netherlands</td>\n",
       "      <td>NL</td>\n",
       "      <td>Zonnemaire</td>\n",
       "      <td>male</td>\n",
       "      <td>17343</td>\n",
       "      <td>Thursday</td>\n",
       "      <td>21</td>\n",
       "      <td>2</td>\n",
       "      <td>1865</td>\n",
       "      <td>1</td>\n",
       "    </tr>\n",
       "    <tr>\n",
       "      <th>3</th>\n",
       "      <td>499</td>\n",
       "      <td>John R.</td>\n",
       "      <td>Mott</td>\n",
       "      <td>1865-05-25</td>\n",
       "      <td>United States</td>\n",
       "      <td>US</td>\n",
       "      <td>Livingston Manor, NY</td>\n",
       "      <td>male</td>\n",
       "      <td>17343</td>\n",
       "      <td>Thursday</td>\n",
       "      <td>21</td>\n",
       "      <td>2</td>\n",
       "      <td>1865</td>\n",
       "      <td>1</td>\n",
       "    </tr>\n",
       "    <tr>\n",
       "      <th>4</th>\n",
       "      <td>3</td>\n",
       "      <td>Henri</td>\n",
       "      <td>Becquerel</td>\n",
       "      <td>1852-12-15</td>\n",
       "      <td>France</td>\n",
       "      <td>FR</td>\n",
       "      <td>Paris</td>\n",
       "      <td>male</td>\n",
       "      <td>12799</td>\n",
       "      <td>Wednesday</td>\n",
       "      <td>51</td>\n",
       "      <td>4</td>\n",
       "      <td>1852</td>\n",
       "      <td>2</td>\n",
       "    </tr>\n",
       "  </tbody>\n",
       "</table>\n",
       "</div>"
      ],
      "text/plain": [
       "   LaureateKey       firstname    surname   BirthDate                Country  \\\n",
       "0            0  Wilhelm Conrad    Röntgen  1845-03-27  Prussia (now Germany)   \n",
       "1            1      Hendrik A.    Lorentz  1853-07-18        the Netherlands   \n",
       "2            2          Pieter     Zeeman  1865-05-25        the Netherlands   \n",
       "3          499         John R.       Mott  1865-05-25          United States   \n",
       "4            3           Henri  Becquerel  1852-12-15                 France   \n",
       "\n",
       "  CountryCode           BirthLocation gender DateKey        Day Week Quarter  \\\n",
       "0          DE  Lennep (now Remscheid)   male    9979   Thursday   13       1   \n",
       "1          NL                  Arnhem   male   13014     Monday   29       3   \n",
       "2          NL              Zonnemaire   male   17343   Thursday   21       2   \n",
       "3          US    Livingston Manor, NY   male   17343   Thursday   21       2   \n",
       "4          FR                   Paris   male   12799  Wednesday   51       4   \n",
       "\n",
       "   Year Year_half  \n",
       "0  1845         1  \n",
       "1  1853         2  \n",
       "2  1865         1  \n",
       "3  1865         1  \n",
       "4  1852         2  "
      ]
     },
     "execution_count": 210,
     "metadata": {},
     "output_type": "execute_result"
    }
   ],
   "source": [
    "df_dim_date_string = df_dim_date.copy().astype('string')\n",
    "df_fact_nobel = pd.merge(df_nobel_trimmed,df_dim_date_string, how=\"inner\", left_on=\"BirthDate\", right_on=\"Date\")\n",
    "df_fact_nobel = df_fact_nobel.drop([\"Date\"],axis=1)\n",
    "df_fact_nobel.head()"
   ]
  },
  {
   "cell_type": "code",
   "execution_count": 211,
   "id": "7f29f9d0-4734-4ef2-9e7a-550d27a534de",
   "metadata": {},
   "outputs": [
    {
     "data": {
      "text/html": [
       "<div>\n",
       "<style scoped>\n",
       "    .dataframe tbody tr th:only-of-type {\n",
       "        vertical-align: middle;\n",
       "    }\n",
       "\n",
       "    .dataframe tbody tr th {\n",
       "        vertical-align: top;\n",
       "    }\n",
       "\n",
       "    .dataframe thead th {\n",
       "        text-align: right;\n",
       "    }\n",
       "</style>\n",
       "<table border=\"1\" class=\"dataframe\">\n",
       "  <thead>\n",
       "    <tr style=\"text-align: right;\">\n",
       "      <th></th>\n",
       "      <th>PrizeKey</th>\n",
       "      <th>category</th>\n",
       "      <th>LaureateKey</th>\n",
       "      <th>DateKey</th>\n",
       "      <th>Year</th>\n",
       "    </tr>\n",
       "  </thead>\n",
       "  <tbody>\n",
       "    <tr>\n",
       "      <th>0</th>\n",
       "      <td>0</td>\n",
       "      <td>chemistry</td>\n",
       "      <td>720</td>\n",
       "      <td>74885</td>\n",
       "      <td>2022</td>\n",
       "    </tr>\n",
       "    <tr>\n",
       "      <th>1</th>\n",
       "      <td>2</td>\n",
       "      <td>economics</td>\n",
       "      <td>978</td>\n",
       "      <td>74885</td>\n",
       "      <td>2022</td>\n",
       "    </tr>\n",
       "    <tr>\n",
       "      <th>2</th>\n",
       "      <td>3</td>\n",
       "      <td>literature</td>\n",
       "      <td>974</td>\n",
       "      <td>74885</td>\n",
       "      <td>2022</td>\n",
       "    </tr>\n",
       "    <tr>\n",
       "      <th>3</th>\n",
       "      <td>4</td>\n",
       "      <td>peace</td>\n",
       "      <td>975</td>\n",
       "      <td>74885</td>\n",
       "      <td>2022</td>\n",
       "    </tr>\n",
       "    <tr>\n",
       "      <th>4</th>\n",
       "      <td>5</td>\n",
       "      <td>physics</td>\n",
       "      <td>969</td>\n",
       "      <td>74885</td>\n",
       "      <td>2022</td>\n",
       "    </tr>\n",
       "  </tbody>\n",
       "</table>\n",
       "</div>"
      ],
      "text/plain": [
       "   PrizeKey    category  LaureateKey DateKey  Year\n",
       "0         0   chemistry          720   74885  2022\n",
       "1         2   economics          978   74885  2022\n",
       "2         3  literature          974   74885  2022\n",
       "3         4       peace          975   74885  2022\n",
       "4         5     physics          969   74885  2022"
      ]
     },
     "execution_count": 211,
     "metadata": {},
     "output_type": "execute_result"
    }
   ],
   "source": [
    "df_dim_date_string = df_dim_date.copy().astype('string')\n",
    "df_fact_prizes = pd.merge(df_prizes,df_dim_date_string, how=\"inner\", left_on=\"date\", right_on=\"Date\")\n",
    "df_fact_prizes = df_fact_prizes.drop([\"Date\", \"Day\",\"Week\",\"Quarter\",\"Year_half\", \"date\"],axis=1)\n",
    "df_fact_prizes.head()"
   ]
  },
  {
   "cell_type": "code",
   "execution_count": 212,
   "id": "5aa2c537-0a95-48a2-b937-f1270a351033",
   "metadata": {},
   "outputs": [
    {
     "data": {
      "text/plain": [
       "0    DE\n",
       "1    NL\n",
       "Name: CountryCode, dtype: object"
      ]
     },
     "execution_count": 212,
     "metadata": {},
     "output_type": "execute_result"
    }
   ],
   "source": [
    "df_nobel_trimmed[\"CountryCode\"].head(2)"
   ]
  },
  {
   "cell_type": "code",
   "execution_count": 213,
   "id": "6cbc98a4-4d4e-464f-a200-684d7568adf5",
   "metadata": {},
   "outputs": [
    {
     "data": {
      "text/plain": [
       "0    ABW\n",
       "1    AFG\n",
       "Name: CountryCode, dtype: object"
      ]
     },
     "execution_count": 213,
     "metadata": {},
     "output_type": "execute_result"
    }
   ],
   "source": [
    "df_world_trimmed[\"CountryCode\"].head(2)"
   ]
  },
  {
   "cell_type": "markdown",
   "id": "a588e3de-a3c4-46f4-9a5b-fd9a461b6ed6",
   "metadata": {},
   "source": [
    "There is an issue with the nobel prize code having 2 letter country codes while the world data has 3 letter country codes"
   ]
  },
  {
   "cell_type": "markdown",
   "id": "7f378242-6b74-4f6d-a3e2-9cbef9d8478a",
   "metadata": {},
   "source": [
    "Therefore I will be combining the nobel prize data with https://github.com/stefangabos/world_countries/ country code conversion csv called countries.csv in the countries/en/ directory"
   ]
  },
  {
   "cell_type": "code",
   "execution_count": 214,
   "id": "6fc1e005-d6af-4902-ab74-65be22c66335",
   "metadata": {},
   "outputs": [
    {
     "data": {
      "text/html": [
       "<div>\n",
       "<style scoped>\n",
       "    .dataframe tbody tr th:only-of-type {\n",
       "        vertical-align: middle;\n",
       "    }\n",
       "\n",
       "    .dataframe tbody tr th {\n",
       "        vertical-align: top;\n",
       "    }\n",
       "\n",
       "    .dataframe thead th {\n",
       "        text-align: right;\n",
       "    }\n",
       "</style>\n",
       "<table border=\"1\" class=\"dataframe\">\n",
       "  <thead>\n",
       "    <tr style=\"text-align: right;\">\n",
       "      <th></th>\n",
       "      <th>id</th>\n",
       "      <th>CountryCode2</th>\n",
       "      <th>CountryCode3</th>\n",
       "      <th>name</th>\n",
       "    </tr>\n",
       "  </thead>\n",
       "  <tbody>\n",
       "    <tr>\n",
       "      <th>0</th>\n",
       "      <td>4</td>\n",
       "      <td>AF</td>\n",
       "      <td>AFG</td>\n",
       "      <td>Afghanistan</td>\n",
       "    </tr>\n",
       "    <tr>\n",
       "      <th>1</th>\n",
       "      <td>8</td>\n",
       "      <td>AL</td>\n",
       "      <td>ALB</td>\n",
       "      <td>Albania</td>\n",
       "    </tr>\n",
       "  </tbody>\n",
       "</table>\n",
       "</div>"
      ],
      "text/plain": [
       "   id CountryCode2 CountryCode3         name\n",
       "0   4           AF          AFG  Afghanistan\n",
       "1   8           AL          ALB      Albania"
      ]
     },
     "execution_count": 214,
     "metadata": {},
     "output_type": "execute_result"
    }
   ],
   "source": [
    "df_conversion = pd.read_csv(\"countries.csv\")\n",
    "df_conversion[\"alpha2\"] = df_conversion[\"alpha2\"].str.upper()\n",
    "df_conversion[\"alpha3\"] = df_conversion[\"alpha3\"].str.upper()\n",
    "df_conversion.rename(columns={\"alpha2\":\"CountryCode2\", \"alpha3\":\"CountryCode3\"}, inplace=True)\n",
    "df_conversion.head(2)"
   ]
  },
  {
   "cell_type": "code",
   "execution_count": 215,
   "id": "7993f8a8-2889-4cd8-ac2a-f7306999f2ca",
   "metadata": {},
   "outputs": [
    {
     "data": {
      "text/html": [
       "<div>\n",
       "<style scoped>\n",
       "    .dataframe tbody tr th:only-of-type {\n",
       "        vertical-align: middle;\n",
       "    }\n",
       "\n",
       "    .dataframe tbody tr th {\n",
       "        vertical-align: top;\n",
       "    }\n",
       "\n",
       "    .dataframe thead th {\n",
       "        text-align: right;\n",
       "    }\n",
       "</style>\n",
       "<table border=\"1\" class=\"dataframe\">\n",
       "  <thead>\n",
       "    <tr style=\"text-align: right;\">\n",
       "      <th></th>\n",
       "      <th>CountryKey</th>\n",
       "      <th>Country</th>\n",
       "      <th>Population</th>\n",
       "      <th>GNP</th>\n",
       "      <th>LifeExpectancy</th>\n",
       "      <th>CountryCode2</th>\n",
       "    </tr>\n",
       "  </thead>\n",
       "  <tbody>\n",
       "    <tr>\n",
       "      <th>0</th>\n",
       "      <td>1</td>\n",
       "      <td>Afghanistan</td>\n",
       "      <td>22720000</td>\n",
       "      <td>5976.0</td>\n",
       "      <td>45.9</td>\n",
       "      <td>AF</td>\n",
       "    </tr>\n",
       "    <tr>\n",
       "      <th>1</th>\n",
       "      <td>2</td>\n",
       "      <td>Angola</td>\n",
       "      <td>12878000</td>\n",
       "      <td>6648.0</td>\n",
       "      <td>38.3</td>\n",
       "      <td>AO</td>\n",
       "    </tr>\n",
       "    <tr>\n",
       "      <th>2</th>\n",
       "      <td>4</td>\n",
       "      <td>Albania</td>\n",
       "      <td>3401200</td>\n",
       "      <td>3205.0</td>\n",
       "      <td>71.6</td>\n",
       "      <td>AL</td>\n",
       "    </tr>\n",
       "    <tr>\n",
       "      <th>3</th>\n",
       "      <td>5</td>\n",
       "      <td>Andorra</td>\n",
       "      <td>78000</td>\n",
       "      <td>1630.0</td>\n",
       "      <td>83.5</td>\n",
       "      <td>AD</td>\n",
       "    </tr>\n",
       "    <tr>\n",
       "      <th>4</th>\n",
       "      <td>7</td>\n",
       "      <td>United Arab Emirates</td>\n",
       "      <td>2441000</td>\n",
       "      <td>37966.0</td>\n",
       "      <td>74.1</td>\n",
       "      <td>AE</td>\n",
       "    </tr>\n",
       "  </tbody>\n",
       "</table>\n",
       "</div>"
      ],
      "text/plain": [
       "   CountryKey               Country  Population      GNP  LifeExpectancy  \\\n",
       "0           1           Afghanistan    22720000   5976.0            45.9   \n",
       "1           2                Angola    12878000   6648.0            38.3   \n",
       "2           4               Albania     3401200   3205.0            71.6   \n",
       "3           5               Andorra       78000   1630.0            83.5   \n",
       "4           7  United Arab Emirates     2441000  37966.0            74.1   \n",
       "\n",
       "  CountryCode2  \n",
       "0           AF  \n",
       "1           AO  \n",
       "2           AL  \n",
       "3           AD  \n",
       "4           AE  "
      ]
     },
     "execution_count": 215,
     "metadata": {},
     "output_type": "execute_result"
    }
   ],
   "source": [
    "df_fact_country = pd.merge(df_world_trimmed,df_conversion, how=\"inner\", left_on=\"CountryCode\", right_on=\"CountryCode3\")\n",
    "df_fact_country = df_fact_country.drop([\"id\", \"name\",\"CountryCode3\", \"CountryCode\"],axis=1)\n",
    "df_fact_country.head()"
   ]
  },
  {
   "cell_type": "code",
   "execution_count": 216,
   "id": "954004eb-5b18-4d2e-af1b-0456e3a63d49",
   "metadata": {},
   "outputs": [
    {
     "data": {
      "text/html": [
       "<div>\n",
       "<style scoped>\n",
       "    .dataframe tbody tr th:only-of-type {\n",
       "        vertical-align: middle;\n",
       "    }\n",
       "\n",
       "    .dataframe tbody tr th {\n",
       "        vertical-align: top;\n",
       "    }\n",
       "\n",
       "    .dataframe thead th {\n",
       "        text-align: right;\n",
       "    }\n",
       "</style>\n",
       "<table border=\"1\" class=\"dataframe\">\n",
       "  <thead>\n",
       "    <tr style=\"text-align: right;\">\n",
       "      <th></th>\n",
       "      <th>PrizeKey</th>\n",
       "      <th>category</th>\n",
       "      <th>LaureateKey</th>\n",
       "      <th>DateKey</th>\n",
       "      <th>Year</th>\n",
       "      <th>firstname</th>\n",
       "      <th>surname</th>\n",
       "      <th>BirthDate</th>\n",
       "      <th>Country</th>\n",
       "      <th>CountryCode</th>\n",
       "    </tr>\n",
       "  </thead>\n",
       "  <tbody>\n",
       "    <tr>\n",
       "      <th>0</th>\n",
       "      <td>0</td>\n",
       "      <td>chemistry</td>\n",
       "      <td>720</td>\n",
       "      <td>74885</td>\n",
       "      <td>2022</td>\n",
       "      <td>Barry</td>\n",
       "      <td>Sharpless</td>\n",
       "      <td>1941-04-28</td>\n",
       "      <td>United States</td>\n",
       "      <td>US</td>\n",
       "    </tr>\n",
       "    <tr>\n",
       "      <th>1</th>\n",
       "      <td>1</td>\n",
       "      <td>chemistry</td>\n",
       "      <td>720</td>\n",
       "      <td>67215</td>\n",
       "      <td>2001</td>\n",
       "      <td>Barry</td>\n",
       "      <td>Sharpless</td>\n",
       "      <td>1941-04-28</td>\n",
       "      <td>United States</td>\n",
       "      <td>US</td>\n",
       "    </tr>\n",
       "    <tr>\n",
       "      <th>2</th>\n",
       "      <td>2</td>\n",
       "      <td>economics</td>\n",
       "      <td>978</td>\n",
       "      <td>74885</td>\n",
       "      <td>2022</td>\n",
       "      <td>Ben</td>\n",
       "      <td>Bernanke</td>\n",
       "      <td>1953-12-13</td>\n",
       "      <td>United States</td>\n",
       "      <td>US</td>\n",
       "    </tr>\n",
       "    <tr>\n",
       "      <th>3</th>\n",
       "      <td>3</td>\n",
       "      <td>literature</td>\n",
       "      <td>974</td>\n",
       "      <td>74885</td>\n",
       "      <td>2022</td>\n",
       "      <td>Annie</td>\n",
       "      <td>Ernaux</td>\n",
       "      <td>1940-09-01</td>\n",
       "      <td>France</td>\n",
       "      <td>FR</td>\n",
       "    </tr>\n",
       "    <tr>\n",
       "      <th>4</th>\n",
       "      <td>4</td>\n",
       "      <td>peace</td>\n",
       "      <td>975</td>\n",
       "      <td>74885</td>\n",
       "      <td>2022</td>\n",
       "      <td>Ales</td>\n",
       "      <td>Bialiatski</td>\n",
       "      <td>1962-09-25</td>\n",
       "      <td>Russia</td>\n",
       "      <td>RU</td>\n",
       "    </tr>\n",
       "  </tbody>\n",
       "</table>\n",
       "</div>"
      ],
      "text/plain": [
       "   PrizeKey    category  LaureateKey DateKey  Year firstname      surname  \\\n",
       "0         0   chemistry          720   74885  2022     Barry    Sharpless   \n",
       "1         1   chemistry          720   67215  2001     Barry    Sharpless   \n",
       "2         2   economics          978   74885  2022       Ben     Bernanke   \n",
       "3         3  literature          974   74885  2022     Annie       Ernaux   \n",
       "4         4       peace          975   74885  2022      Ales  Bialiatski    \n",
       "\n",
       "    BirthDate        Country CountryCode  \n",
       "0  1941-04-28  United States          US  \n",
       "1  1941-04-28  United States          US  \n",
       "2  1953-12-13  United States          US  \n",
       "3  1940-09-01         France          FR  \n",
       "4  1962-09-25         Russia          RU  "
      ]
     },
     "execution_count": 216,
     "metadata": {},
     "output_type": "execute_result"
    }
   ],
   "source": [
    "df_fact_nobel_prizes = pd.merge(df_fact_prizes, df_fact_nobel, how=\"inner\", left_on=\"LaureateKey\", right_on=\"LaureateKey\")\n",
    "df_fact_nobel_prizes = df_fact_nobel_prizes.drop([\"BirthLocation\", \"gender\", \"DateKey_y\", \"Day\", \"Week\",\"Quarter\",\"Year_y\",\"Year_half\"],axis=1)\n",
    "df_fact_nobel_prizes.rename(columns={\"DateKey_x\":\"DateKey\",\"Year_x\":\"Year\"}, inplace=True)\n",
    "df_fact_nobel_prizes.head()"
   ]
  },
  {
   "cell_type": "code",
   "execution_count": 217,
   "id": "18348a73-5d5a-4e82-8bec-17d4c0bdef5e",
   "metadata": {},
   "outputs": [
    {
     "data": {
      "text/html": [
       "<div>\n",
       "<style scoped>\n",
       "    .dataframe tbody tr th:only-of-type {\n",
       "        vertical-align: middle;\n",
       "    }\n",
       "\n",
       "    .dataframe tbody tr th {\n",
       "        vertical-align: top;\n",
       "    }\n",
       "\n",
       "    .dataframe thead th {\n",
       "        text-align: right;\n",
       "    }\n",
       "</style>\n",
       "<table border=\"1\" class=\"dataframe\">\n",
       "  <thead>\n",
       "    <tr style=\"text-align: right;\">\n",
       "      <th></th>\n",
       "      <th>id</th>\n",
       "      <th>PrizeKey</th>\n",
       "      <th>category</th>\n",
       "      <th>LaureateKey</th>\n",
       "      <th>DateKey</th>\n",
       "      <th>Year</th>\n",
       "      <th>firstname</th>\n",
       "      <th>surname</th>\n",
       "      <th>CountryKey</th>\n",
       "      <th>Country</th>\n",
       "    </tr>\n",
       "  </thead>\n",
       "  <tbody>\n",
       "    <tr>\n",
       "      <th>0</th>\n",
       "      <td>0</td>\n",
       "      <td>0</td>\n",
       "      <td>chemistry</td>\n",
       "      <td>720</td>\n",
       "      <td>74885</td>\n",
       "      <td>2022</td>\n",
       "      <td>Barry</td>\n",
       "      <td>Sharpless</td>\n",
       "      <td>223</td>\n",
       "      <td>United States</td>\n",
       "    </tr>\n",
       "    <tr>\n",
       "      <th>1</th>\n",
       "      <td>1</td>\n",
       "      <td>1</td>\n",
       "      <td>chemistry</td>\n",
       "      <td>720</td>\n",
       "      <td>67215</td>\n",
       "      <td>2001</td>\n",
       "      <td>Barry</td>\n",
       "      <td>Sharpless</td>\n",
       "      <td>223</td>\n",
       "      <td>United States</td>\n",
       "    </tr>\n",
       "    <tr>\n",
       "      <th>2</th>\n",
       "      <td>2</td>\n",
       "      <td>2</td>\n",
       "      <td>economics</td>\n",
       "      <td>978</td>\n",
       "      <td>74885</td>\n",
       "      <td>2022</td>\n",
       "      <td>Ben</td>\n",
       "      <td>Bernanke</td>\n",
       "      <td>223</td>\n",
       "      <td>United States</td>\n",
       "    </tr>\n",
       "    <tr>\n",
       "      <th>3</th>\n",
       "      <td>3</td>\n",
       "      <td>237</td>\n",
       "      <td>chemistry</td>\n",
       "      <td>718</td>\n",
       "      <td>67215</td>\n",
       "      <td>2001</td>\n",
       "      <td>William</td>\n",
       "      <td>Knowles</td>\n",
       "      <td>223</td>\n",
       "      <td>United States</td>\n",
       "    </tr>\n",
       "    <tr>\n",
       "      <th>4</th>\n",
       "      <td>4</td>\n",
       "      <td>239</td>\n",
       "      <td>economics</td>\n",
       "      <td>721</td>\n",
       "      <td>67215</td>\n",
       "      <td>2001</td>\n",
       "      <td>George A.</td>\n",
       "      <td>Akerlof</td>\n",
       "      <td>223</td>\n",
       "      <td>United States</td>\n",
       "    </tr>\n",
       "  </tbody>\n",
       "</table>\n",
       "</div>"
      ],
      "text/plain": [
       "   id  PrizeKey   category  LaureateKey DateKey  Year  firstname    surname  \\\n",
       "0   0         0  chemistry          720   74885  2022      Barry  Sharpless   \n",
       "1   1         1  chemistry          720   67215  2001      Barry  Sharpless   \n",
       "2   2         2  economics          978   74885  2022        Ben   Bernanke   \n",
       "3   3       237  chemistry          718   67215  2001    William    Knowles   \n",
       "4   4       239  economics          721   67215  2001  George A.    Akerlof   \n",
       "\n",
       "   CountryKey        Country  \n",
       "0         223  United States  \n",
       "1         223  United States  \n",
       "2         223  United States  \n",
       "3         223  United States  \n",
       "4         223  United States  "
      ]
     },
     "execution_count": 217,
     "metadata": {},
     "output_type": "execute_result"
    }
   ],
   "source": [
    "df_fact_combined = pd.merge(df_fact_nobel_prizes,df_fact_country, how=\"inner\", left_on=\"CountryCode\", right_on=\"CountryCode2\")\n",
    "df_fact_combined.reset_index(inplace=True)\n",
    "df_fact_combined = df_fact_combined.drop([\"Population\", \"BirthDate\", \"CountryCode2\",\"Country_x\", \"GNP\", \"LifeExpectancy\", \"CountryCode\"], axis=1) \n",
    "df_fact_combined.rename(columns={\"index\":\"id\",\"Country_y\":\"Country\"}, inplace=True) #\"CountryCode_x\":\"CountryKey\n",
    "df_fact_combined.head()"
   ]
  },
  {
   "cell_type": "code",
   "execution_count": 218,
   "id": "0590b58f-f3cc-427a-adff-03f83e3f304d",
   "metadata": {},
   "outputs": [
    {
     "data": {
      "text/plain": [
       "(931, 10)"
      ]
     },
     "execution_count": 218,
     "metadata": {},
     "output_type": "execute_result"
    }
   ],
   "source": [
    "df_fact_combined.shape"
   ]
  },
  {
   "cell_type": "markdown",
   "id": "69fdffa3-6ca6-4144-a65a-9b24c57d17df",
   "metadata": {},
   "source": [
    "Now to add all of the data to the data warehouse"
   ]
  },
  {
   "cell_type": "code",
   "execution_count": 219,
   "id": "8776c958-044c-4e29-a86a-0934dd0a744d",
   "metadata": {},
   "outputs": [],
   "source": [
    "db_operation = \"insert\"\n",
    "\n",
    "tables = [('fact_combined', df_fact_combined, 'id'), ('world', df_world_trimmed, 'CountryKey'), ('prizes', df_prizes, 'PrizeKey'), ('laureate', df_nobel_trimmed, 'LaureateKey'), ('dim_date', df_dim_date, 'DateKey')]\n",
    "\n",
    "for table_name, dataframe, primary_key in tables:\n",
    "    set_dataframe(user_id, pwd, host_name, dst_dbname, dataframe, table_name, primary_key, db_operation)"
   ]
  },
  {
   "cell_type": "markdown",
   "id": "63ba7c7e-6c2e-4a22-b2c8-c6558a6247f2",
   "metadata": {},
   "source": [
    "## 3. Author one or more SQL queries (SELECT statements) to demonstrate proper functionality."
   ]
  },
  {
   "cell_type": "markdown",
   "id": "0773079b-1964-40f4-b4fd-8a1f81d53926",
   "metadata": {},
   "source": [
    "a. SELECT data from at least 3 tables (two dimensions; plus the fact table).\n",
    "\n",
    "b. Perform some type of aggregation (e.g., SUM, COUNT, AVERAGE). This, of course, \n",
    "necessitates some form of grouping operation (e.g., GROUP BY <customer.last_name>).\n"
   ]
  },
  {
   "cell_type": "code",
   "execution_count": 222,
   "id": "b01b5059-5499-45c9-b28d-3c752ee2b797",
   "metadata": {
    "tags": []
   },
   "outputs": [
    {
     "data": {
      "text/html": [
       "<div>\n",
       "<style scoped>\n",
       "    .dataframe tbody tr th:only-of-type {\n",
       "        vertical-align: middle;\n",
       "    }\n",
       "\n",
       "    .dataframe tbody tr th {\n",
       "        vertical-align: top;\n",
       "    }\n",
       "\n",
       "    .dataframe thead th {\n",
       "        text-align: right;\n",
       "    }\n",
       "</style>\n",
       "<table border=\"1\" class=\"dataframe\">\n",
       "  <thead>\n",
       "    <tr style=\"text-align: right;\">\n",
       "      <th></th>\n",
       "      <th>country_name</th>\n",
       "      <th>population</th>\n",
       "      <th>count_of_nobel_prizes</th>\n",
       "      <th>num_to_men</th>\n",
       "      <th>num_to_women</th>\n",
       "    </tr>\n",
       "  </thead>\n",
       "  <tbody>\n",
       "    <tr>\n",
       "      <th>0</th>\n",
       "      <td>United States</td>\n",
       "      <td>278357000</td>\n",
       "      <td>282</td>\n",
       "      <td>267</td>\n",
       "      <td>15</td>\n",
       "    </tr>\n",
       "    <tr>\n",
       "      <th>1</th>\n",
       "      <td>United Kingdom</td>\n",
       "      <td>59623400</td>\n",
       "      <td>104</td>\n",
       "      <td>102</td>\n",
       "      <td>2</td>\n",
       "    </tr>\n",
       "    <tr>\n",
       "      <th>2</th>\n",
       "      <td>Germany</td>\n",
       "      <td>82164700</td>\n",
       "      <td>84</td>\n",
       "      <td>82</td>\n",
       "      <td>2</td>\n",
       "    </tr>\n",
       "    <tr>\n",
       "      <th>3</th>\n",
       "      <td>France</td>\n",
       "      <td>59225700</td>\n",
       "      <td>59</td>\n",
       "      <td>54</td>\n",
       "      <td>5</td>\n",
       "    </tr>\n",
       "    <tr>\n",
       "      <th>4</th>\n",
       "      <td>Sweden</td>\n",
       "      <td>8861400</td>\n",
       "      <td>30</td>\n",
       "      <td>28</td>\n",
       "      <td>2</td>\n",
       "    </tr>\n",
       "  </tbody>\n",
       "</table>\n",
       "</div>"
      ],
      "text/plain": [
       "     country_name  population  count_of_nobel_prizes  num_to_men  num_to_women\n",
       "0   United States   278357000                    282         267            15\n",
       "1  United Kingdom    59623400                    104         102             2\n",
       "2         Germany    82164700                     84          82             2\n",
       "3          France    59225700                     59          54             5\n",
       "4          Sweden     8861400                     30          28             2"
      ]
     },
     "execution_count": 222,
     "metadata": {},
     "output_type": "execute_result"
    }
   ],
   "source": [
    "sql_select_statement = \"\"\"\n",
    "SELECT `fact_combined`.Country as country_name,\n",
    "       `world`.Population as population,\n",
    "       COUNT(*) as count_of_nobel_prizes,\n",
    "       COUNT(CASE WHEN `laureate`.gender = \"male\" then 1 ELSE NULL END) as num_to_men,\n",
    "       COUNT(CASE WHEN `laureate`.gender = \"female\" then 1 ELSE NULL END) as num_to_women\n",
    "FROM `data_project_warehouse`.`fact_combined`\n",
    "INNER JOIN `data_project_warehouse`.`world`\n",
    "ON  `fact_combined`.`CountryKey` = `world`.`CountryKey`\n",
    "INNER JOIN `data_project_warehouse`.`laureate`\n",
    "ON  `fact_combined`.`LaureateKey` = `laureate`.`LaureateKey`\n",
    "GROUP BY `world`.`country`\n",
    "ORDER BY count_of_nobel_prizes DESC;\n",
    "\"\"\"\n",
    "df_result_one = get_dataframe(user_id, pwd, host_name, src_dbname, sql_select_statement)\n",
    "df_result_one.head()"
   ]
  },
  {
   "cell_type": "markdown",
   "id": "92c74c01-d2b9-423b-b150-86d2f5f5acbb",
   "metadata": {},
   "source": [
    "The 3 Tables used in this select statment are:\n",
    "\n",
    "1. fact_combined with the country name\n",
    "2. world with the country population\n",
    "3. nobel with the gender of the nobel laurette"
   ]
  },
  {
   "cell_type": "markdown",
   "id": "e09fc1e9-0bd8-4f36-818a-e77ce07ea438",
   "metadata": {},
   "source": [
    "I also used another table called countries, but it does not show up in the final product because it was only used to convert the 3 letter country intervals in the world sql file to the nobel's 2 letter country intervals"
   ]
  },
  {
   "cell_type": "code",
   "execution_count": null,
   "id": "1e3dfe16-2c6a-4185-9da3-8f06c368602d",
   "metadata": {},
   "outputs": [],
   "source": []
  }
 ],
 "metadata": {
  "kernelspec": {
   "display_name": "Python 3 (ipykernel)",
   "language": "python",
   "name": "python3"
  },
  "language_info": {
   "codemirror_mode": {
    "name": "ipython",
    "version": 3
   },
   "file_extension": ".py",
   "mimetype": "text/x-python",
   "name": "python",
   "nbconvert_exporter": "python",
   "pygments_lexer": "ipython3",
   "version": "3.10.6"
  }
 },
 "nbformat": 4,
 "nbformat_minor": 5
}
