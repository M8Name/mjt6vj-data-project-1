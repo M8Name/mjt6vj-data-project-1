{
 "cells": [
  {
   "cell_type": "markdown",
   "id": "e640d254-0d73-4cd0-aa78-a1c081e28093",
   "metadata": {},
   "source": [
    "Maclay Teefey (mjt6vj)\n",
    "Data Project #1 Midterm"
   ]
  },
  {
   "cell_type": "markdown",
   "id": "fac6d47b-0f24-4cf9-aaad-02dd22839a80",
   "metadata": {
    "tags": []
   },
   "source": [
    "# DS-2002 – Data Project 1 100 points\n"
   ]
  },
  {
   "cell_type": "markdown",
   "id": "f2481b56-8f1c-4dbd-9453-8a8cfb0d5604",
   "metadata": {},
   "source": [
    "The goal of this project is to demonstrate (1) an understanding of and (2) competence creating and \n",
    "implementing basic data science systems such as pipelines, scripts, data transformations, APIs, databases \n",
    "and cloud services. Submit your project in your GitHub Repo or file drop on Collab. \n",
    "Data Projects must be done individually."
   ]
  },
  {
   "cell_type": "markdown",
   "id": "9bad3598-dafe-4aba-89f9-51ca8a2a5df5",
   "metadata": {
    "tags": []
   },
   "source": [
    "## ETL Data Processor"
   ]
  },
  {
   "cell_type": "markdown",
   "id": "d13227ca-7885-4bc1-91a3-62ba1d628212",
   "metadata": {},
   "source": [
    "You project should demonstrate your understanding of the differing types of data systems (OLTP/OLAP), \n",
    "and how data can be extracted from various source systems (structured, semi-structured, unstructured), \n",
    "transformed (cleansed, integrated), and then loaded into a destination system that’s optimized for post \n",
    "hoc diagnostic analysis."
   ]
  },
  {
   "cell_type": "markdown",
   "id": "b7939eb4-5de8-46a6-8709-d290f0bc09aa",
   "metadata": {},
   "source": [
    "# Deliverable"
   ]
  },
  {
   "cell_type": "markdown",
   "id": "4bcae26b-2bb7-432f-be8b-33d54700993d",
   "metadata": {},
   "source": [
    "## 1. Design a dimensional data mart that represents a simple business process of your choosing."
   ]
  },
  {
   "cell_type": "markdown",
   "id": "3b57ae02-8c9e-4bff-89e2-df96eb8f51d2",
   "metadata": {},
   "source": [
    "a. Examples might include retail sales, inventory management, procurement, order \n",
    "management, transportation or hospitality bookings, medical appointments, student \n",
    "registration and/or attendance.\n",
    "\n",
    "b. You may select any business process that interests you, but remember that a \n",
    "dimensional data mart provides for the post hoc summarization and historic analysis of \n",
    "business transactions that reflect the interaction between various entities (e.g., patients \n",
    "& doctors, retailers & customers, students & schools/classes, travelers & airlines/hotels)."
   ]
  },
  {
   "cell_type": "code",
   "execution_count": 96,
   "id": "c8e71d71-d84c-4697-91c2-4220da8232c0",
   "metadata": {},
   "outputs": [],
   "source": [
    "import os\n",
    "import cryptography\n",
    "import numpy\n",
    "import pandas as pd\n",
    "from sqlalchemy import create_engine"
   ]
  },
  {
   "cell_type": "code",
   "execution_count": 97,
   "id": "1ee87c0c-97f1-46c3-8c5e-2ec5e172e1a2",
   "metadata": {},
   "outputs": [],
   "source": [
    "host_name = \"localhost\"\n",
    "host_ip = \"127.0.0.1\"\n",
    "port = \"3306\"\n",
    "user_id = \"root\"\n",
    "pwd = \"m6zIUutf0k1$\"\n",
    "\n",
    "src_dbname = \"world\"\n",
    "dst_dbname = \"data_project_warehouse\""
   ]
  },
  {
   "cell_type": "code",
   "execution_count": 98,
   "id": "f7d93fde-2231-46fa-b125-abd556cd33ae",
   "metadata": {},
   "outputs": [
    {
     "data": {
      "text/plain": [
       "<sqlalchemy.engine.cursor.LegacyCursorResult at 0x26bf1742830>"
      ]
     },
     "execution_count": 98,
     "metadata": {},
     "output_type": "execute_result"
    }
   ],
   "source": [
    "conn_str = f\"mysql+pymysql://{user_id}:{pwd}@{host_name}\"\n",
    "sqlEngine = create_engine(conn_str, pool_recycle=3600)\n",
    "\n",
    "sqlEngine.execute(f\"DROP DATABASE IF EXISTS `{dst_dbname}`;\")\n",
    "sqlEngine.execute(f\"CREATE DATABASE `{dst_dbname}`;\")\n",
    "sqlEngine.execute(f\"USE {dst_dbname};\")"
   ]
  },
  {
   "cell_type": "markdown",
   "id": "32745324-7ac5-4221-8269-17db4f71450e",
   "metadata": {},
   "source": [
    "The three data sets I will be using and their forms:\n",
    "\n",
    "1. World sample data set from Oracle in SQL\n",
    "\n",
    "2. World Happiness Index 2019 data set downloaded as a CSV file from Kaggle (local file system) (link: https://www.kaggle.com/datasets/unsdsn/world-happiness)\n",
    "\n",
    "3. Nobel Prize Laureates from the Nobel Prizes API (taken in as JSON)"
   ]
  },
  {
   "cell_type": "markdown",
   "id": "8e110d57-e79f-48fc-97d0-931ab6199e8c",
   "metadata": {},
   "source": [
    "The relationship being warehoused is between the countries and the nobel prize winners. The key joining point will be the country name and birth country of the laureate. The required date portion will be the Birth Date section."
   ]
  },
  {
   "cell_type": "markdown",
   "id": "28a980ac-48b0-4c65-9aa5-630ba887beb0",
   "metadata": {},
   "source": [
    "## 2. Develop an ETL pipeline that extracts, transforms, and loads data into your data mart."
   ]
  },
  {
   "cell_type": "markdown",
   "id": "c1df6d12-cd5b-4c70-a32c-47bebdaffa94",
   "metadata": {},
   "source": [
    "a. Extract data from one or more SQL database tables; hosted locally or in the Cloud.\n",
    "\n",
    "b. Retrieve a data file, either from a remote or local file system, converting its original \n",
    "format (e.g., CSV, JSON) into a SQL database table.\n",
    "\n",
    "c. Modify the number of columns from each source to the destination.\n",
    "\n",
    "d. Provide error messages wherever an operation fails (i.e., Try/Except error handlers).\n"
   ]
  },
  {
   "cell_type": "markdown",
   "id": "23de8afd-b5e3-4de0-9b6f-8378e1880dcd",
   "metadata": {},
   "source": [
    "Getting the Countries table from World Data"
   ]
  },
  {
   "cell_type": "markdown",
   "id": "3939931a-c3d6-4a72-a039-d4a51186b83f",
   "metadata": {},
   "source": [
    "Functions for Getting Data From and Setting Data Into Databases Taken from Lab 03"
   ]
  },
  {
   "cell_type": "code",
   "execution_count": 205,
   "id": "f875a6ea-af82-4b99-94d2-58d319fbddf1",
   "metadata": {},
   "outputs": [],
   "source": [
    "def get_dataframe(user_id, pwd, host_name, db_name, sql_query):\n",
    "    conn_str = f\"mysql+pymysql://{user_id}:{pwd}@{host_name}/{db_name}\"\n",
    "    sqlEngine = create_engine(conn_str, pool_recycle=3600)\n",
    "    connection = sqlEngine.connect()\n",
    "    dframe = pd.read_sql(sql_query, connection);\n",
    "    connection.close()\n",
    "    \n",
    "    return dframe\n",
    "\n",
    "\n",
    "def set_dataframe(user_id, pwd, host_name, db_name, df, table_name, pk_column, db_operation):\n",
    "    conn_str = f\"mysql+pymysql://{user_id}:{pwd}@{host_name}/{db_name}\"\n",
    "    sqlEngine = create_engine(conn_str, pool_recycle=3600)\n",
    "    connection = sqlEngine.connect()\n",
    "    \n",
    "    if db_operation == \"insert\":\n",
    "        df.to_sql(table_name, con=connection, index=False, if_exists='replace')\n",
    "        sqlEngine.execute(f\"ALTER TABLE {table_name} ADD PRIMARY KEY ({pk_column});\")\n",
    "            \n",
    "    elif db_operation == \"update\":\n",
    "        df.to_sql(table_name, con=connection, index=False, if_exists='append')\n",
    "    \n",
    "    connection.close()"
   ]
  },
  {
   "cell_type": "code",
   "execution_count": 206,
   "id": "3699f9fa-b1b2-4800-82be-6927d4e0c29d",
   "metadata": {},
   "outputs": [
    {
     "data": {
      "text/html": [
       "<div>\n",
       "<style scoped>\n",
       "    .dataframe tbody tr th:only-of-type {\n",
       "        vertical-align: middle;\n",
       "    }\n",
       "\n",
       "    .dataframe tbody tr th {\n",
       "        vertical-align: top;\n",
       "    }\n",
       "\n",
       "    .dataframe thead th {\n",
       "        text-align: right;\n",
       "    }\n",
       "</style>\n",
       "<table border=\"1\" class=\"dataframe\">\n",
       "  <thead>\n",
       "    <tr style=\"text-align: right;\">\n",
       "      <th></th>\n",
       "      <th>Code</th>\n",
       "      <th>Name</th>\n",
       "      <th>Continent</th>\n",
       "      <th>Region</th>\n",
       "      <th>SurfaceArea</th>\n",
       "      <th>IndepYear</th>\n",
       "      <th>Population</th>\n",
       "      <th>LifeExpectancy</th>\n",
       "      <th>GNP</th>\n",
       "      <th>GNPOld</th>\n",
       "      <th>LocalName</th>\n",
       "      <th>GovernmentForm</th>\n",
       "      <th>HeadOfState</th>\n",
       "      <th>Capital</th>\n",
       "      <th>Code2</th>\n",
       "    </tr>\n",
       "  </thead>\n",
       "  <tbody>\n",
       "    <tr>\n",
       "      <th>0</th>\n",
       "      <td>ABW</td>\n",
       "      <td>Aruba</td>\n",
       "      <td>North America</td>\n",
       "      <td>Caribbean</td>\n",
       "      <td>193.0</td>\n",
       "      <td>NaN</td>\n",
       "      <td>103000</td>\n",
       "      <td>78.4</td>\n",
       "      <td>828.0</td>\n",
       "      <td>793.0</td>\n",
       "      <td>Aruba</td>\n",
       "      <td>Nonmetropolitan Territory of The Netherlands</td>\n",
       "      <td>Beatrix</td>\n",
       "      <td>129.0</td>\n",
       "      <td>AW</td>\n",
       "    </tr>\n",
       "    <tr>\n",
       "      <th>1</th>\n",
       "      <td>AFG</td>\n",
       "      <td>Afghanistan</td>\n",
       "      <td>Asia</td>\n",
       "      <td>Southern and Central Asia</td>\n",
       "      <td>652090.0</td>\n",
       "      <td>1919.0</td>\n",
       "      <td>22720000</td>\n",
       "      <td>45.9</td>\n",
       "      <td>5976.0</td>\n",
       "      <td>NaN</td>\n",
       "      <td>Afganistan/Afqanestan</td>\n",
       "      <td>Islamic Emirate</td>\n",
       "      <td>Mohammad Omar</td>\n",
       "      <td>1.0</td>\n",
       "      <td>AF</td>\n",
       "    </tr>\n",
       "  </tbody>\n",
       "</table>\n",
       "</div>"
      ],
      "text/plain": [
       "  Code         Name      Continent                     Region  SurfaceArea  \\\n",
       "0  ABW        Aruba  North America                  Caribbean        193.0   \n",
       "1  AFG  Afghanistan           Asia  Southern and Central Asia     652090.0   \n",
       "\n",
       "   IndepYear  Population  LifeExpectancy     GNP  GNPOld  \\\n",
       "0        NaN      103000            78.4   828.0   793.0   \n",
       "1     1919.0    22720000            45.9  5976.0     NaN   \n",
       "\n",
       "               LocalName                                GovernmentForm  \\\n",
       "0                  Aruba  Nonmetropolitan Territory of The Netherlands   \n",
       "1  Afganistan/Afqanestan                               Islamic Emirate   \n",
       "\n",
       "     HeadOfState  Capital Code2  \n",
       "0        Beatrix    129.0    AW  \n",
       "1  Mohammad Omar      1.0    AF  "
      ]
     },
     "execution_count": 206,
     "metadata": {},
     "output_type": "execute_result"
    }
   ],
   "source": [
    "sql_world = \"SELECT * FROM world.country;\"\n",
    "df_world = get_dataframe(user_id, pwd, host_name, src_dbname, sql_world)\n",
    "df_world.head(2)"
   ]
  },
  {
   "cell_type": "markdown",
   "id": "77d5bc0f-81ac-4008-a4a0-191bf3fdc52a",
   "metadata": {},
   "source": [
    "Now to get World Happiness data"
   ]
  },
  {
   "cell_type": "code",
   "execution_count": 207,
   "id": "71578ab7-b139-40aa-986e-2284ad20bfb9",
   "metadata": {},
   "outputs": [
    {
     "data": {
      "text/html": [
       "<div>\n",
       "<style scoped>\n",
       "    .dataframe tbody tr th:only-of-type {\n",
       "        vertical-align: middle;\n",
       "    }\n",
       "\n",
       "    .dataframe tbody tr th {\n",
       "        vertical-align: top;\n",
       "    }\n",
       "\n",
       "    .dataframe thead th {\n",
       "        text-align: right;\n",
       "    }\n",
       "</style>\n",
       "<table border=\"1\" class=\"dataframe\">\n",
       "  <thead>\n",
       "    <tr style=\"text-align: right;\">\n",
       "      <th></th>\n",
       "      <th>Overall rank</th>\n",
       "      <th>Country or region</th>\n",
       "      <th>Score</th>\n",
       "      <th>GDP per capita</th>\n",
       "      <th>Social support</th>\n",
       "      <th>Healthy life expectancy</th>\n",
       "      <th>Freedom to make life choices</th>\n",
       "      <th>Generosity</th>\n",
       "      <th>Perceptions of corruption</th>\n",
       "    </tr>\n",
       "  </thead>\n",
       "  <tbody>\n",
       "    <tr>\n",
       "      <th>0</th>\n",
       "      <td>1</td>\n",
       "      <td>Finland</td>\n",
       "      <td>7.769</td>\n",
       "      <td>1.340</td>\n",
       "      <td>1.587</td>\n",
       "      <td>0.986</td>\n",
       "      <td>0.596</td>\n",
       "      <td>0.153</td>\n",
       "      <td>0.393</td>\n",
       "    </tr>\n",
       "    <tr>\n",
       "      <th>1</th>\n",
       "      <td>2</td>\n",
       "      <td>Denmark</td>\n",
       "      <td>7.600</td>\n",
       "      <td>1.383</td>\n",
       "      <td>1.573</td>\n",
       "      <td>0.996</td>\n",
       "      <td>0.592</td>\n",
       "      <td>0.252</td>\n",
       "      <td>0.410</td>\n",
       "    </tr>\n",
       "  </tbody>\n",
       "</table>\n",
       "</div>"
      ],
      "text/plain": [
       "   Overall rank Country or region  Score  GDP per capita  Social support  \\\n",
       "0             1           Finland  7.769           1.340           1.587   \n",
       "1             2           Denmark  7.600           1.383           1.573   \n",
       "\n",
       "   Healthy life expectancy  Freedom to make life choices  Generosity  \\\n",
       "0                    0.986                         0.596       0.153   \n",
       "1                    0.996                         0.592       0.252   \n",
       "\n",
       "   Perceptions of corruption  \n",
       "0                      0.393  \n",
       "1                      0.410  "
      ]
     },
     "execution_count": 207,
     "metadata": {},
     "output_type": "execute_result"
    }
   ],
   "source": [
    "df_happiness = pd.read_csv(\"happiness-2019.csv\")\n",
    "df_happiness.head(2)"
   ]
  },
  {
   "cell_type": "markdown",
   "id": "eddc0b09-5b41-4f28-9f8b-151aea44e762",
   "metadata": {},
   "source": [
    "And finally the nobel prize data"
   ]
  },
  {
   "cell_type": "code",
   "execution_count": 208,
   "id": "f692f2b7-dc61-4055-a684-cbe108571435",
   "metadata": {},
   "outputs": [],
   "source": [
    "# to handle  data retrieval\n",
    "import urllib3\n",
    "from urllib3 import request\n",
    "\n",
    "import numpy as np\n",
    "# to handle certificate verification\n",
    "import certifi\n",
    "\n",
    "# to manage json data\n",
    "import json\n",
    "\n",
    "# I am using https://plainenglish.io/blog/from-api-to-pandas-getting-json-data-with-python-df127f699b6b \n",
    "# as a guide to convert from JSON to a pandas dataframe"
   ]
  },
  {
   "cell_type": "code",
   "execution_count": 209,
   "id": "8732116d-0664-4899-83c2-9becce9cd422",
   "metadata": {},
   "outputs": [],
   "source": [
    "# handle certificate verification and SSL warnings\n",
    "# https://urllib3.readthedocs.io/en/latest/user-guide.html#ssl\n",
    "\n",
    "http = urllib3.PoolManager(\n",
    "       cert_reqs='CERT_REQUIRED',\n",
    "       ca_certs=certifi.where())"
   ]
  },
  {
   "cell_type": "code",
   "execution_count": 210,
   "id": "f8c4ef22-eae6-46b3-abb5-5c9c3432dd37",
   "metadata": {},
   "outputs": [
    {
     "data": {
      "text/plain": [
       "200"
      ]
     },
     "execution_count": 210,
     "metadata": {},
     "output_type": "execute_result"
    }
   ],
   "source": [
    "# get data from the API\n",
    "url = 'https://api.nobelprize.org/v1/laureate.json'\n",
    "\n",
    "r = http.request('GET', url)\n",
    "status_check = r.status\n",
    "status_check # I will be using this as one of the \"try catch\" without it being a try catch"
   ]
  },
  {
   "cell_type": "code",
   "execution_count": 211,
   "id": "d10e0c10-1daa-4bab-a28a-21e89b53a8a7",
   "metadata": {},
   "outputs": [],
   "source": [
    "if status_check == 200:\n",
    "    # decode json data into a dict object\n",
    "    data = json.loads(r.data.decode('utf-8'))\n",
    "else:\n",
    "    print(\"Error access API\")"
   ]
  },
  {
   "cell_type": "markdown",
   "id": "eb91d727-4012-4bbd-9a1c-24bd7c1c5498",
   "metadata": {},
   "source": [
    "I would print out the full data but it is too big to print out as a full chunk"
   ]
  },
  {
   "cell_type": "code",
   "execution_count": 212,
   "id": "947ed2fe-acd8-42f9-9fd7-95f967da34b1",
   "metadata": {},
   "outputs": [
    {
     "data": {
      "text/html": [
       "<div>\n",
       "<style scoped>\n",
       "    .dataframe tbody tr th:only-of-type {\n",
       "        vertical-align: middle;\n",
       "    }\n",
       "\n",
       "    .dataframe tbody tr th {\n",
       "        vertical-align: top;\n",
       "    }\n",
       "\n",
       "    .dataframe thead th {\n",
       "        text-align: right;\n",
       "    }\n",
       "</style>\n",
       "<table border=\"1\" class=\"dataframe\">\n",
       "  <thead>\n",
       "    <tr style=\"text-align: right;\">\n",
       "      <th></th>\n",
       "      <th>id</th>\n",
       "      <th>firstname</th>\n",
       "      <th>surname</th>\n",
       "      <th>born</th>\n",
       "      <th>died</th>\n",
       "      <th>bornCountry</th>\n",
       "      <th>bornCountryCode</th>\n",
       "      <th>bornCity</th>\n",
       "      <th>diedCountry</th>\n",
       "      <th>diedCountryCode</th>\n",
       "      <th>diedCity</th>\n",
       "      <th>gender</th>\n",
       "      <th>prizes</th>\n",
       "    </tr>\n",
       "  </thead>\n",
       "  <tbody>\n",
       "    <tr>\n",
       "      <th>0</th>\n",
       "      <td>1</td>\n",
       "      <td>Wilhelm Conrad</td>\n",
       "      <td>Röntgen</td>\n",
       "      <td>1845-03-27</td>\n",
       "      <td>1923-02-10</td>\n",
       "      <td>Prussia (now Germany)</td>\n",
       "      <td>DE</td>\n",
       "      <td>Lennep (now Remscheid)</td>\n",
       "      <td>Germany</td>\n",
       "      <td>DE</td>\n",
       "      <td>Munich</td>\n",
       "      <td>male</td>\n",
       "      <td>[{'year': '1901', 'category': 'physics', 'shar...</td>\n",
       "    </tr>\n",
       "    <tr>\n",
       "      <th>1</th>\n",
       "      <td>2</td>\n",
       "      <td>Hendrik A.</td>\n",
       "      <td>Lorentz</td>\n",
       "      <td>1853-07-18</td>\n",
       "      <td>1928-02-04</td>\n",
       "      <td>the Netherlands</td>\n",
       "      <td>NL</td>\n",
       "      <td>Arnhem</td>\n",
       "      <td>the Netherlands</td>\n",
       "      <td>NL</td>\n",
       "      <td>NaN</td>\n",
       "      <td>male</td>\n",
       "      <td>[{'year': '1902', 'category': 'physics', 'shar...</td>\n",
       "    </tr>\n",
       "  </tbody>\n",
       "</table>\n",
       "</div>"
      ],
      "text/plain": [
       "  id       firstname  surname        born        died            bornCountry  \\\n",
       "0  1  Wilhelm Conrad  Röntgen  1845-03-27  1923-02-10  Prussia (now Germany)   \n",
       "1  2      Hendrik A.  Lorentz  1853-07-18  1928-02-04        the Netherlands   \n",
       "\n",
       "  bornCountryCode                bornCity      diedCountry diedCountryCode  \\\n",
       "0              DE  Lennep (now Remscheid)          Germany              DE   \n",
       "1              NL                  Arnhem  the Netherlands              NL   \n",
       "\n",
       "  diedCity gender                                             prizes  \n",
       "0   Munich   male  [{'year': '1901', 'category': 'physics', 'shar...  \n",
       "1      NaN   male  [{'year': '1902', 'category': 'physics', 'shar...  "
      ]
     },
     "execution_count": 212,
     "metadata": {},
     "output_type": "execute_result"
    }
   ],
   "source": [
    "# in this dataset, the data to extract is under 'laureates'\n",
    "df_nobel = pd.json_normalize(data, 'laureates')\n",
    "df_nobel.head(2)"
   ]
  },
  {
   "cell_type": "markdown",
   "id": "8eae31c6-bcfa-4e05-aee5-4b40de90090c",
   "metadata": {},
   "source": [
    "The key that is needed to unite the data sets is in this"
   ]
  },
  {
   "cell_type": "code",
   "execution_count": 213,
   "id": "df0b5ec0-060d-4fab-8a55-6b0884193944",
   "metadata": {},
   "outputs": [
    {
     "data": {
      "text/plain": [
       "0          Aruba\n",
       "1    Afghanistan\n",
       "Name: Name, dtype: object"
      ]
     },
     "execution_count": 213,
     "metadata": {},
     "output_type": "execute_result"
    }
   ],
   "source": [
    "df_world[\"Name\"].head(2)"
   ]
  },
  {
   "cell_type": "code",
   "execution_count": 214,
   "id": "b812eeb2-a077-4a37-ad0c-4a69969af872",
   "metadata": {},
   "outputs": [
    {
     "data": {
      "text/plain": [
       "0    Finland\n",
       "1    Denmark\n",
       "Name: Country or region, dtype: object"
      ]
     },
     "execution_count": 214,
     "metadata": {},
     "output_type": "execute_result"
    }
   ],
   "source": [
    "df_happiness[\"Country or region\"].head(2)"
   ]
  },
  {
   "cell_type": "code",
   "execution_count": 215,
   "id": "d5770e31-c409-4918-a639-90eb51a43f8b",
   "metadata": {},
   "outputs": [
    {
     "data": {
      "text/plain": [
       "0    Prussia (now Germany)\n",
       "1          the Netherlands\n",
       "Name: bornCountry, dtype: object"
      ]
     },
     "execution_count": 215,
     "metadata": {},
     "output_type": "execute_result"
    }
   ],
   "source": [
    "df_nobel[\"bornCountry\"].head(2)"
   ]
  },
  {
   "cell_type": "markdown",
   "id": "5270bf6b-75cf-422d-ba42-168ce5f19954",
   "metadata": {},
   "source": [
    "There is a clear issue with each dataframe having inconsistent naming schemes"
   ]
  },
  {
   "cell_type": "markdown",
   "id": "9bb764d5-d2ba-4417-9edb-91cd43ce84f3",
   "metadata": {},
   "source": [
    "I will now get the important details needed from each table and rename the categories into their data mart names."
   ]
  },
  {
   "cell_type": "code",
   "execution_count": 216,
   "id": "f90d7913-ef8e-440a-9ef1-60f25262dd66",
   "metadata": {},
   "outputs": [
    {
     "data": {
      "text/html": [
       "<div>\n",
       "<style scoped>\n",
       "    .dataframe tbody tr th:only-of-type {\n",
       "        vertical-align: middle;\n",
       "    }\n",
       "\n",
       "    .dataframe tbody tr th {\n",
       "        vertical-align: top;\n",
       "    }\n",
       "\n",
       "    .dataframe thead th {\n",
       "        text-align: right;\n",
       "    }\n",
       "</style>\n",
       "<table border=\"1\" class=\"dataframe\">\n",
       "  <thead>\n",
       "    <tr style=\"text-align: right;\">\n",
       "      <th></th>\n",
       "      <th>CountryKey</th>\n",
       "      <th>Country</th>\n",
       "      <th>CountryCode</th>\n",
       "      <th>Population</th>\n",
       "      <th>GNP</th>\n",
       "      <th>LifeExpectancy</th>\n",
       "    </tr>\n",
       "  </thead>\n",
       "  <tbody>\n",
       "    <tr>\n",
       "      <th>0</th>\n",
       "      <td>0</td>\n",
       "      <td>Aruba</td>\n",
       "      <td>ABW</td>\n",
       "      <td>103000</td>\n",
       "      <td>828.0</td>\n",
       "      <td>78.4</td>\n",
       "    </tr>\n",
       "    <tr>\n",
       "      <th>1</th>\n",
       "      <td>1</td>\n",
       "      <td>Afghanistan</td>\n",
       "      <td>AFG</td>\n",
       "      <td>22720000</td>\n",
       "      <td>5976.0</td>\n",
       "      <td>45.9</td>\n",
       "    </tr>\n",
       "  </tbody>\n",
       "</table>\n",
       "</div>"
      ],
      "text/plain": [
       "   CountryKey      Country CountryCode  Population     GNP  LifeExpectancy\n",
       "0           0        Aruba         ABW      103000   828.0            78.4\n",
       "1           1  Afghanistan         AFG    22720000  5976.0            45.9"
      ]
     },
     "execution_count": 216,
     "metadata": {},
     "output_type": "execute_result"
    }
   ],
   "source": [
    "df_world_trimmed = df_world[[\"Name\", \"Code\", \"Population\", \"GNP\", \"LifeExpectancy\"]].copy()\n",
    "df_world_trimmed.reset_index(inplace=True)\n",
    "df_world_trimmed.rename(columns={\"Name\":\"Country\", \"Code\":\"CountryCode\", \"index\":\"CountryKey\"}, inplace=True)\n",
    "df_world_trimmed.head(2)"
   ]
  },
  {
   "cell_type": "code",
   "execution_count": 217,
   "id": "bdc9bfe8-eb68-44e8-9b8b-e89a727807a8",
   "metadata": {},
   "outputs": [
    {
     "data": {
      "text/html": [
       "<div>\n",
       "<style scoped>\n",
       "    .dataframe tbody tr th:only-of-type {\n",
       "        vertical-align: middle;\n",
       "    }\n",
       "\n",
       "    .dataframe tbody tr th {\n",
       "        vertical-align: top;\n",
       "    }\n",
       "\n",
       "    .dataframe thead th {\n",
       "        text-align: right;\n",
       "    }\n",
       "</style>\n",
       "<table border=\"1\" class=\"dataframe\">\n",
       "  <thead>\n",
       "    <tr style=\"text-align: right;\">\n",
       "      <th></th>\n",
       "      <th>HappinessKey</th>\n",
       "      <th>Country</th>\n",
       "      <th>HappinessScore</th>\n",
       "    </tr>\n",
       "  </thead>\n",
       "  <tbody>\n",
       "    <tr>\n",
       "      <th>0</th>\n",
       "      <td>0</td>\n",
       "      <td>Finland</td>\n",
       "      <td>7.769</td>\n",
       "    </tr>\n",
       "    <tr>\n",
       "      <th>1</th>\n",
       "      <td>1</td>\n",
       "      <td>Denmark</td>\n",
       "      <td>7.600</td>\n",
       "    </tr>\n",
       "  </tbody>\n",
       "</table>\n",
       "</div>"
      ],
      "text/plain": [
       "   HappinessKey  Country  HappinessScore\n",
       "0             0  Finland           7.769\n",
       "1             1  Denmark           7.600"
      ]
     },
     "execution_count": 217,
     "metadata": {},
     "output_type": "execute_result"
    }
   ],
   "source": [
    "df_happiness_trimmed = df_happiness[[\"Country or region\", \"Score\"]].copy()\n",
    "df_happiness_trimmed.reset_index(inplace=True)\n",
    "df_happiness_trimmed.rename(columns={\"Country or region\":\"Country\", \"Score\":\"HappinessScore\", \"index\":\"HappinessKey\"}, inplace=True)\n",
    "df_happiness_trimmed.head(2)"
   ]
  },
  {
   "cell_type": "code",
   "execution_count": 218,
   "id": "f2797b76-e36b-49f6-be44-702913ca3b00",
   "metadata": {},
   "outputs": [
    {
     "data": {
      "text/plain": [
       "Index(['id', 'firstname', 'surname', 'born', 'died', 'bornCountry',\n",
       "       'bornCountryCode', 'bornCity', 'diedCountry', 'diedCountryCode',\n",
       "       'diedCity', 'gender', 'prizes'],\n",
       "      dtype='object')"
      ]
     },
     "execution_count": 218,
     "metadata": {},
     "output_type": "execute_result"
    }
   ],
   "source": [
    "df_nobel.columns"
   ]
  },
  {
   "cell_type": "code",
   "execution_count": 219,
   "id": "e95a768b-06b6-4a0c-9e3b-12fdc977b744",
   "metadata": {},
   "outputs": [
    {
     "data": {
      "text/html": [
       "<div>\n",
       "<style scoped>\n",
       "    .dataframe tbody tr th:only-of-type {\n",
       "        vertical-align: middle;\n",
       "    }\n",
       "\n",
       "    .dataframe tbody tr th {\n",
       "        vertical-align: top;\n",
       "    }\n",
       "\n",
       "    .dataframe thead th {\n",
       "        text-align: right;\n",
       "    }\n",
       "</style>\n",
       "<table border=\"1\" class=\"dataframe\">\n",
       "  <thead>\n",
       "    <tr style=\"text-align: right;\">\n",
       "      <th></th>\n",
       "      <th>NobelKey</th>\n",
       "      <th>firstname</th>\n",
       "      <th>surname</th>\n",
       "      <th>BirthDate</th>\n",
       "      <th>Country</th>\n",
       "      <th>CountryCode</th>\n",
       "      <th>BirthLocation</th>\n",
       "      <th>gender</th>\n",
       "    </tr>\n",
       "  </thead>\n",
       "  <tbody>\n",
       "    <tr>\n",
       "      <th>0</th>\n",
       "      <td>0</td>\n",
       "      <td>Wilhelm Conrad</td>\n",
       "      <td>Röntgen</td>\n",
       "      <td>1845-03-27</td>\n",
       "      <td>Prussia (now Germany)</td>\n",
       "      <td>DE</td>\n",
       "      <td>Lennep (now Remscheid)</td>\n",
       "      <td>male</td>\n",
       "    </tr>\n",
       "    <tr>\n",
       "      <th>1</th>\n",
       "      <td>1</td>\n",
       "      <td>Hendrik A.</td>\n",
       "      <td>Lorentz</td>\n",
       "      <td>1853-07-18</td>\n",
       "      <td>the Netherlands</td>\n",
       "      <td>NL</td>\n",
       "      <td>Arnhem</td>\n",
       "      <td>male</td>\n",
       "    </tr>\n",
       "  </tbody>\n",
       "</table>\n",
       "</div>"
      ],
      "text/plain": [
       "   NobelKey       firstname  surname   BirthDate                Country  \\\n",
       "0         0  Wilhelm Conrad  Röntgen  1845-03-27  Prussia (now Germany)   \n",
       "1         1      Hendrik A.  Lorentz  1853-07-18        the Netherlands   \n",
       "\n",
       "  CountryCode           BirthLocation gender  \n",
       "0          DE  Lennep (now Remscheid)   male  \n",
       "1          NL                  Arnhem   male  "
      ]
     },
     "execution_count": 219,
     "metadata": {},
     "output_type": "execute_result"
    }
   ],
   "source": [
    "df_nobel_trimmed = df_nobel[[\"firstname\",\"surname\",\"born\", \"bornCountry\", \"bornCountryCode\", \"bornCity\", \"gender\"]].copy()\n",
    "df_nobel_trimmed = df_nobel_trimmed.dropna()\n",
    "df_nobel_trimmed.reset_index(inplace=True)\n",
    "df_nobel_trimmed.rename(columns={\"index\":\"NobelKey\", \"born\":\"BirthDate\",\"bornCity\":\"BirthLocation\", \"bornCountry\":\"Country\", \"bornCountryCode\":\"CountryCode\"}, inplace=True)\n",
    "df_nobel_trimmed.loc[df_nobel_trimmed[\"Country\"] == \"USA\", \"Country\"] = \"United States\"\n",
    "df_nobel_trimmed.head(2)"
   ]
  },
  {
   "cell_type": "markdown",
   "id": "3d5ddefc-2d37-4192-8d8b-032a2da0cfe9",
   "metadata": {},
   "source": [
    "I will create smaller fact tables for nobel and country"
   ]
  },
  {
   "cell_type": "code",
   "execution_count": 220,
   "id": "cb0becdf-374c-4d45-8f3e-957344d7493a",
   "metadata": {},
   "outputs": [
    {
     "data": {
      "text/html": [
       "<div>\n",
       "<style scoped>\n",
       "    .dataframe tbody tr th:only-of-type {\n",
       "        vertical-align: middle;\n",
       "    }\n",
       "\n",
       "    .dataframe tbody tr th {\n",
       "        vertical-align: top;\n",
       "    }\n",
       "\n",
       "    .dataframe thead th {\n",
       "        text-align: right;\n",
       "    }\n",
       "</style>\n",
       "<table border=\"1\" class=\"dataframe\">\n",
       "  <thead>\n",
       "    <tr style=\"text-align: right;\">\n",
       "      <th></th>\n",
       "      <th>CountryKey</th>\n",
       "      <th>Country</th>\n",
       "      <th>CountryCode</th>\n",
       "      <th>Population</th>\n",
       "      <th>GNP</th>\n",
       "      <th>LifeExpectancy</th>\n",
       "      <th>HappinessKey</th>\n",
       "      <th>HappinessScore</th>\n",
       "    </tr>\n",
       "  </thead>\n",
       "  <tbody>\n",
       "    <tr>\n",
       "      <th>0</th>\n",
       "      <td>1</td>\n",
       "      <td>Afghanistan</td>\n",
       "      <td>AFG</td>\n",
       "      <td>22720000</td>\n",
       "      <td>5976.0</td>\n",
       "      <td>45.9</td>\n",
       "      <td>153</td>\n",
       "      <td>3.203</td>\n",
       "    </tr>\n",
       "    <tr>\n",
       "      <th>1</th>\n",
       "      <td>4</td>\n",
       "      <td>Albania</td>\n",
       "      <td>ALB</td>\n",
       "      <td>3401200</td>\n",
       "      <td>3205.0</td>\n",
       "      <td>71.6</td>\n",
       "      <td>106</td>\n",
       "      <td>4.719</td>\n",
       "    </tr>\n",
       "    <tr>\n",
       "      <th>2</th>\n",
       "      <td>7</td>\n",
       "      <td>United Arab Emirates</td>\n",
       "      <td>ARE</td>\n",
       "      <td>2441000</td>\n",
       "      <td>37966.0</td>\n",
       "      <td>74.1</td>\n",
       "      <td>20</td>\n",
       "      <td>6.825</td>\n",
       "    </tr>\n",
       "    <tr>\n",
       "      <th>3</th>\n",
       "      <td>8</td>\n",
       "      <td>Argentina</td>\n",
       "      <td>ARG</td>\n",
       "      <td>37032000</td>\n",
       "      <td>340238.0</td>\n",
       "      <td>75.1</td>\n",
       "      <td>46</td>\n",
       "      <td>6.086</td>\n",
       "    </tr>\n",
       "    <tr>\n",
       "      <th>4</th>\n",
       "      <td>9</td>\n",
       "      <td>Armenia</td>\n",
       "      <td>ARM</td>\n",
       "      <td>3520000</td>\n",
       "      <td>1813.0</td>\n",
       "      <td>66.4</td>\n",
       "      <td>115</td>\n",
       "      <td>4.559</td>\n",
       "    </tr>\n",
       "  </tbody>\n",
       "</table>\n",
       "</div>"
      ],
      "text/plain": [
       "   CountryKey               Country CountryCode  Population       GNP  \\\n",
       "0           1           Afghanistan         AFG    22720000    5976.0   \n",
       "1           4               Albania         ALB     3401200    3205.0   \n",
       "2           7  United Arab Emirates         ARE     2441000   37966.0   \n",
       "3           8             Argentina         ARG    37032000  340238.0   \n",
       "4           9               Armenia         ARM     3520000    1813.0   \n",
       "\n",
       "   LifeExpectancy  HappinessKey  HappinessScore  \n",
       "0            45.9           153           3.203  \n",
       "1            71.6           106           4.719  \n",
       "2            74.1            20           6.825  \n",
       "3            75.1            46           6.086  \n",
       "4            66.4           115           4.559  "
      ]
     },
     "execution_count": 220,
     "metadata": {},
     "output_type": "execute_result"
    }
   ],
   "source": [
    "df_fact_country = pd.merge(df_world_trimmed,df_happiness_trimmed, how=\"inner\", left_on=\"Country\", right_on=\"Country\")\n",
    "df_fact_country.head()"
   ]
  },
  {
   "cell_type": "markdown",
   "id": "ffbe5743-3c95-4ab0-bccb-829f0292ad25",
   "metadata": {},
   "source": [
    "And then I will create a date table based upon the birthDate category"
   ]
  },
  {
   "cell_type": "code",
   "execution_count": 221,
   "id": "8e27a637-66c8-4d7d-9d50-c91693482d89",
   "metadata": {},
   "outputs": [
    {
     "name": "stdout",
     "output_type": "stream",
     "text": [
      "1817-11-30-1997-07-12\n"
     ]
    }
   ],
   "source": [
    "min_date = min(df_nobel_trimmed[\"BirthDate\"].astype(str))\n",
    "max_date = max(df_nobel_trimmed[\"BirthDate\"].astype(str))\n",
    "print(str(min_date) + \"-\" + str(max_date))"
   ]
  },
  {
   "cell_type": "code",
   "execution_count": 222,
   "id": "a8f467fe-fd45-474f-982b-628af0303e01",
   "metadata": {
    "tags": []
   },
   "outputs": [],
   "source": [
    "# Here is the code borrowed from https://stackoverflow.com/questions/47150709/how-to-create-a-calendar-table-date-dimension-in-pandas\n",
    "# to create a \n",
    "def create_date_table(start='2000-01-01', end='2050-12-31'):\n",
    "        df = pd.DataFrame({\"Date\": pd.date_range(start, end)})\n",
    "        df[\"Day\"] = df.Date.dt.day_name()\n",
    "        df[\"Week\"] = df.Date.dt.weekofyear\n",
    "        df[\"Quarter\"] = df.Date.dt.quarter\n",
    "        df[\"Year\"] = df.Date.dt.year\n",
    "        df[\"Year_half\"] = (df.Quarter + 1) // 2\n",
    "        return df"
   ]
  },
  {
   "cell_type": "code",
   "execution_count": 223,
   "id": "be8dd084-6e52-491c-a5b5-e1396c342925",
   "metadata": {},
   "outputs": [
    {
     "name": "stderr",
     "output_type": "stream",
     "text": [
      "C:\\Users\\student\\AppData\\Local\\Temp\\ipykernel_17968\\632955866.py:6: FutureWarning: Series.dt.weekofyear and Series.dt.week have been deprecated. Please use Series.dt.isocalendar().week instead.\n",
      "  df[\"Week\"] = df.Date.dt.weekofyear\n"
     ]
    },
    {
     "data": {
      "text/html": [
       "<div>\n",
       "<style scoped>\n",
       "    .dataframe tbody tr th:only-of-type {\n",
       "        vertical-align: middle;\n",
       "    }\n",
       "\n",
       "    .dataframe tbody tr th {\n",
       "        vertical-align: top;\n",
       "    }\n",
       "\n",
       "    .dataframe thead th {\n",
       "        text-align: right;\n",
       "    }\n",
       "</style>\n",
       "<table border=\"1\" class=\"dataframe\">\n",
       "  <thead>\n",
       "    <tr style=\"text-align: right;\">\n",
       "      <th></th>\n",
       "      <th>DateKey</th>\n",
       "      <th>Date</th>\n",
       "      <th>Day</th>\n",
       "      <th>Week</th>\n",
       "      <th>Quarter</th>\n",
       "      <th>Year</th>\n",
       "      <th>Year_half</th>\n",
       "    </tr>\n",
       "  </thead>\n",
       "  <tbody>\n",
       "    <tr>\n",
       "      <th>0</th>\n",
       "      <td>0</td>\n",
       "      <td>1817-11-30</td>\n",
       "      <td>Sunday</td>\n",
       "      <td>48</td>\n",
       "      <td>4</td>\n",
       "      <td>1817</td>\n",
       "      <td>2</td>\n",
       "    </tr>\n",
       "    <tr>\n",
       "      <th>1</th>\n",
       "      <td>1</td>\n",
       "      <td>1817-12-01</td>\n",
       "      <td>Monday</td>\n",
       "      <td>49</td>\n",
       "      <td>4</td>\n",
       "      <td>1817</td>\n",
       "      <td>2</td>\n",
       "    </tr>\n",
       "    <tr>\n",
       "      <th>2</th>\n",
       "      <td>2</td>\n",
       "      <td>1817-12-02</td>\n",
       "      <td>Tuesday</td>\n",
       "      <td>49</td>\n",
       "      <td>4</td>\n",
       "      <td>1817</td>\n",
       "      <td>2</td>\n",
       "    </tr>\n",
       "    <tr>\n",
       "      <th>3</th>\n",
       "      <td>3</td>\n",
       "      <td>1817-12-03</td>\n",
       "      <td>Wednesday</td>\n",
       "      <td>49</td>\n",
       "      <td>4</td>\n",
       "      <td>1817</td>\n",
       "      <td>2</td>\n",
       "    </tr>\n",
       "    <tr>\n",
       "      <th>4</th>\n",
       "      <td>4</td>\n",
       "      <td>1817-12-04</td>\n",
       "      <td>Thursday</td>\n",
       "      <td>49</td>\n",
       "      <td>4</td>\n",
       "      <td>1817</td>\n",
       "      <td>2</td>\n",
       "    </tr>\n",
       "  </tbody>\n",
       "</table>\n",
       "</div>"
      ],
      "text/plain": [
       "   DateKey       Date        Day  Week  Quarter  Year  Year_half\n",
       "0        0 1817-11-30     Sunday    48        4  1817          2\n",
       "1        1 1817-12-01     Monday    49        4  1817          2\n",
       "2        2 1817-12-02    Tuesday    49        4  1817          2\n",
       "3        3 1817-12-03  Wednesday    49        4  1817          2\n",
       "4        4 1817-12-04   Thursday    49        4  1817          2"
      ]
     },
     "execution_count": 223,
     "metadata": {},
     "output_type": "execute_result"
    }
   ],
   "source": [
    "df_dim_date = create_date_table(min_date, max_date)\n",
    "df_dim_date.reset_index(inplace=True)\n",
    "df_dim_date.rename(columns={\"index\":\"DateKey\"}, inplace=True)\n",
    "df_dim_date.head()"
   ]
  },
  {
   "cell_type": "code",
   "execution_count": 224,
   "id": "384b33aa-2052-41bd-b5a3-8bfd77805642",
   "metadata": {},
   "outputs": [
    {
     "data": {
      "text/html": [
       "<div>\n",
       "<style scoped>\n",
       "    .dataframe tbody tr th:only-of-type {\n",
       "        vertical-align: middle;\n",
       "    }\n",
       "\n",
       "    .dataframe tbody tr th {\n",
       "        vertical-align: top;\n",
       "    }\n",
       "\n",
       "    .dataframe thead th {\n",
       "        text-align: right;\n",
       "    }\n",
       "</style>\n",
       "<table border=\"1\" class=\"dataframe\">\n",
       "  <thead>\n",
       "    <tr style=\"text-align: right;\">\n",
       "      <th></th>\n",
       "      <th>NobelKey</th>\n",
       "      <th>firstname</th>\n",
       "      <th>surname</th>\n",
       "      <th>BirthDate</th>\n",
       "      <th>Country</th>\n",
       "      <th>CountryCode</th>\n",
       "      <th>BirthLocation</th>\n",
       "      <th>gender</th>\n",
       "      <th>DateKey</th>\n",
       "      <th>Day</th>\n",
       "      <th>Week</th>\n",
       "      <th>Quarter</th>\n",
       "      <th>Year</th>\n",
       "      <th>Year_half</th>\n",
       "    </tr>\n",
       "  </thead>\n",
       "  <tbody>\n",
       "    <tr>\n",
       "      <th>0</th>\n",
       "      <td>0</td>\n",
       "      <td>Wilhelm Conrad</td>\n",
       "      <td>Röntgen</td>\n",
       "      <td>1845-03-27</td>\n",
       "      <td>Prussia (now Germany)</td>\n",
       "      <td>DE</td>\n",
       "      <td>Lennep (now Remscheid)</td>\n",
       "      <td>male</td>\n",
       "      <td>9979</td>\n",
       "      <td>Thursday</td>\n",
       "      <td>13</td>\n",
       "      <td>1</td>\n",
       "      <td>1845</td>\n",
       "      <td>1</td>\n",
       "    </tr>\n",
       "    <tr>\n",
       "      <th>1</th>\n",
       "      <td>1</td>\n",
       "      <td>Hendrik A.</td>\n",
       "      <td>Lorentz</td>\n",
       "      <td>1853-07-18</td>\n",
       "      <td>the Netherlands</td>\n",
       "      <td>NL</td>\n",
       "      <td>Arnhem</td>\n",
       "      <td>male</td>\n",
       "      <td>13014</td>\n",
       "      <td>Monday</td>\n",
       "      <td>29</td>\n",
       "      <td>3</td>\n",
       "      <td>1853</td>\n",
       "      <td>2</td>\n",
       "    </tr>\n",
       "    <tr>\n",
       "      <th>2</th>\n",
       "      <td>2</td>\n",
       "      <td>Pieter</td>\n",
       "      <td>Zeeman</td>\n",
       "      <td>1865-05-25</td>\n",
       "      <td>the Netherlands</td>\n",
       "      <td>NL</td>\n",
       "      <td>Zonnemaire</td>\n",
       "      <td>male</td>\n",
       "      <td>17343</td>\n",
       "      <td>Thursday</td>\n",
       "      <td>21</td>\n",
       "      <td>2</td>\n",
       "      <td>1865</td>\n",
       "      <td>1</td>\n",
       "    </tr>\n",
       "    <tr>\n",
       "      <th>3</th>\n",
       "      <td>499</td>\n",
       "      <td>John R.</td>\n",
       "      <td>Mott</td>\n",
       "      <td>1865-05-25</td>\n",
       "      <td>United States</td>\n",
       "      <td>US</td>\n",
       "      <td>Livingston Manor, NY</td>\n",
       "      <td>male</td>\n",
       "      <td>17343</td>\n",
       "      <td>Thursday</td>\n",
       "      <td>21</td>\n",
       "      <td>2</td>\n",
       "      <td>1865</td>\n",
       "      <td>1</td>\n",
       "    </tr>\n",
       "    <tr>\n",
       "      <th>4</th>\n",
       "      <td>3</td>\n",
       "      <td>Henri</td>\n",
       "      <td>Becquerel</td>\n",
       "      <td>1852-12-15</td>\n",
       "      <td>France</td>\n",
       "      <td>FR</td>\n",
       "      <td>Paris</td>\n",
       "      <td>male</td>\n",
       "      <td>12799</td>\n",
       "      <td>Wednesday</td>\n",
       "      <td>51</td>\n",
       "      <td>4</td>\n",
       "      <td>1852</td>\n",
       "      <td>2</td>\n",
       "    </tr>\n",
       "  </tbody>\n",
       "</table>\n",
       "</div>"
      ],
      "text/plain": [
       "   NobelKey       firstname    surname   BirthDate                Country  \\\n",
       "0         0  Wilhelm Conrad    Röntgen  1845-03-27  Prussia (now Germany)   \n",
       "1         1      Hendrik A.    Lorentz  1853-07-18        the Netherlands   \n",
       "2         2          Pieter     Zeeman  1865-05-25        the Netherlands   \n",
       "3       499         John R.       Mott  1865-05-25          United States   \n",
       "4         3           Henri  Becquerel  1852-12-15                 France   \n",
       "\n",
       "  CountryCode           BirthLocation gender DateKey        Day Week Quarter  \\\n",
       "0          DE  Lennep (now Remscheid)   male    9979   Thursday   13       1   \n",
       "1          NL                  Arnhem   male   13014     Monday   29       3   \n",
       "2          NL              Zonnemaire   male   17343   Thursday   21       2   \n",
       "3          US    Livingston Manor, NY   male   17343   Thursday   21       2   \n",
       "4          FR                   Paris   male   12799  Wednesday   51       4   \n",
       "\n",
       "   Year Year_half  \n",
       "0  1845         1  \n",
       "1  1853         2  \n",
       "2  1865         1  \n",
       "3  1865         1  \n",
       "4  1852         2  "
      ]
     },
     "execution_count": 224,
     "metadata": {},
     "output_type": "execute_result"
    }
   ],
   "source": [
    "df_dim_date_string = df_dim_date.copy().astype('string')\n",
    "df_fact_nobel = pd.merge(df_nobel_trimmed,df_dim_date_string, how=\"inner\", left_on=\"BirthDate\", right_on=\"Date\")\n",
    "df_fact_nobel = df_fact_nobel.drop([\"Date\"],axis=1)\n",
    "df_fact_nobel.head()"
   ]
  },
  {
   "cell_type": "code",
   "execution_count": 225,
   "id": "5aa2c537-0a95-48a2-b937-f1270a351033",
   "metadata": {},
   "outputs": [
    {
     "data": {
      "text/plain": [
       "0    DE\n",
       "1    NL\n",
       "Name: CountryCode, dtype: object"
      ]
     },
     "execution_count": 225,
     "metadata": {},
     "output_type": "execute_result"
    }
   ],
   "source": [
    "df_nobel_trimmed[\"CountryCode\"].head(2)"
   ]
  },
  {
   "cell_type": "code",
   "execution_count": 226,
   "id": "6cbc98a4-4d4e-464f-a200-684d7568adf5",
   "metadata": {},
   "outputs": [
    {
     "data": {
      "text/plain": [
       "0    AFG\n",
       "1    ALB\n",
       "Name: CountryCode, dtype: object"
      ]
     },
     "execution_count": 226,
     "metadata": {},
     "output_type": "execute_result"
    }
   ],
   "source": [
    "df_fact_country[\"CountryCode\"].head(2)"
   ]
  },
  {
   "cell_type": "markdown",
   "id": "a588e3de-a3c4-46f4-9a5b-fd9a461b6ed6",
   "metadata": {},
   "source": [
    "There is an issue with the nobel prize code having 2 letter country codes while the world data has 3 letter country codes"
   ]
  },
  {
   "cell_type": "markdown",
   "id": "7f378242-6b74-4f6d-a3e2-9cbef9d8478a",
   "metadata": {},
   "source": [
    "Therefore I will be combining the nobel prize data with https://github.com/stefangabos/world_countries/ country code conversion csv called countries.csv in the countries/en/ directory"
   ]
  },
  {
   "cell_type": "code",
   "execution_count": 227,
   "id": "6fc1e005-d6af-4902-ab74-65be22c66335",
   "metadata": {},
   "outputs": [
    {
     "data": {
      "text/html": [
       "<div>\n",
       "<style scoped>\n",
       "    .dataframe tbody tr th:only-of-type {\n",
       "        vertical-align: middle;\n",
       "    }\n",
       "\n",
       "    .dataframe tbody tr th {\n",
       "        vertical-align: top;\n",
       "    }\n",
       "\n",
       "    .dataframe thead th {\n",
       "        text-align: right;\n",
       "    }\n",
       "</style>\n",
       "<table border=\"1\" class=\"dataframe\">\n",
       "  <thead>\n",
       "    <tr style=\"text-align: right;\">\n",
       "      <th></th>\n",
       "      <th>id</th>\n",
       "      <th>CountryCode2</th>\n",
       "      <th>CountryCode3</th>\n",
       "      <th>name</th>\n",
       "    </tr>\n",
       "  </thead>\n",
       "  <tbody>\n",
       "    <tr>\n",
       "      <th>0</th>\n",
       "      <td>4</td>\n",
       "      <td>AF</td>\n",
       "      <td>AFG</td>\n",
       "      <td>Afghanistan</td>\n",
       "    </tr>\n",
       "    <tr>\n",
       "      <th>1</th>\n",
       "      <td>8</td>\n",
       "      <td>AL</td>\n",
       "      <td>ALB</td>\n",
       "      <td>Albania</td>\n",
       "    </tr>\n",
       "  </tbody>\n",
       "</table>\n",
       "</div>"
      ],
      "text/plain": [
       "   id CountryCode2 CountryCode3         name\n",
       "0   4           AF          AFG  Afghanistan\n",
       "1   8           AL          ALB      Albania"
      ]
     },
     "execution_count": 227,
     "metadata": {},
     "output_type": "execute_result"
    }
   ],
   "source": [
    "df_conversion = pd.read_csv(\"countries.csv\")\n",
    "df_conversion[\"alpha2\"] = df_conversion[\"alpha2\"].str.upper()\n",
    "df_conversion[\"alpha3\"] = df_conversion[\"alpha3\"].str.upper()\n",
    "df_conversion.rename(columns={\"alpha2\":\"CountryCode2\", \"alpha3\":\"CountryCode3\"}, inplace=True)\n",
    "df_conversion.head(2)"
   ]
  },
  {
   "cell_type": "code",
   "execution_count": 204,
   "id": "7993f8a8-2889-4cd8-ac2a-f7306999f2ca",
   "metadata": {},
   "outputs": [
    {
     "data": {
      "text/html": [
       "<div>\n",
       "<style scoped>\n",
       "    .dataframe tbody tr th:only-of-type {\n",
       "        vertical-align: middle;\n",
       "    }\n",
       "\n",
       "    .dataframe tbody tr th {\n",
       "        vertical-align: top;\n",
       "    }\n",
       "\n",
       "    .dataframe thead th {\n",
       "        text-align: right;\n",
       "    }\n",
       "</style>\n",
       "<table border=\"1\" class=\"dataframe\">\n",
       "  <thead>\n",
       "    <tr style=\"text-align: right;\">\n",
       "      <th></th>\n",
       "      <th>CountryKey</th>\n",
       "      <th>Country</th>\n",
       "      <th>Population</th>\n",
       "      <th>GNP</th>\n",
       "      <th>LifeExpectancy</th>\n",
       "      <th>HappinessKey</th>\n",
       "      <th>HappinessScore</th>\n",
       "      <th>CountryCode2</th>\n",
       "    </tr>\n",
       "  </thead>\n",
       "  <tbody>\n",
       "    <tr>\n",
       "      <th>0</th>\n",
       "      <td>1</td>\n",
       "      <td>Afghanistan</td>\n",
       "      <td>22720000</td>\n",
       "      <td>5976.0</td>\n",
       "      <td>45.9</td>\n",
       "      <td>153</td>\n",
       "      <td>3.203</td>\n",
       "      <td>AF</td>\n",
       "    </tr>\n",
       "    <tr>\n",
       "      <th>1</th>\n",
       "      <td>4</td>\n",
       "      <td>Albania</td>\n",
       "      <td>3401200</td>\n",
       "      <td>3205.0</td>\n",
       "      <td>71.6</td>\n",
       "      <td>106</td>\n",
       "      <td>4.719</td>\n",
       "      <td>AL</td>\n",
       "    </tr>\n",
       "    <tr>\n",
       "      <th>2</th>\n",
       "      <td>7</td>\n",
       "      <td>United Arab Emirates</td>\n",
       "      <td>2441000</td>\n",
       "      <td>37966.0</td>\n",
       "      <td>74.1</td>\n",
       "      <td>20</td>\n",
       "      <td>6.825</td>\n",
       "      <td>AE</td>\n",
       "    </tr>\n",
       "    <tr>\n",
       "      <th>3</th>\n",
       "      <td>8</td>\n",
       "      <td>Argentina</td>\n",
       "      <td>37032000</td>\n",
       "      <td>340238.0</td>\n",
       "      <td>75.1</td>\n",
       "      <td>46</td>\n",
       "      <td>6.086</td>\n",
       "      <td>AR</td>\n",
       "    </tr>\n",
       "    <tr>\n",
       "      <th>4</th>\n",
       "      <td>9</td>\n",
       "      <td>Armenia</td>\n",
       "      <td>3520000</td>\n",
       "      <td>1813.0</td>\n",
       "      <td>66.4</td>\n",
       "      <td>115</td>\n",
       "      <td>4.559</td>\n",
       "      <td>AM</td>\n",
       "    </tr>\n",
       "  </tbody>\n",
       "</table>\n",
       "</div>"
      ],
      "text/plain": [
       "   CountryKey               Country  Population       GNP  LifeExpectancy  \\\n",
       "0           1           Afghanistan    22720000    5976.0            45.9   \n",
       "1           4               Albania     3401200    3205.0            71.6   \n",
       "2           7  United Arab Emirates     2441000   37966.0            74.1   \n",
       "3           8             Argentina    37032000  340238.0            75.1   \n",
       "4           9               Armenia     3520000    1813.0            66.4   \n",
       "\n",
       "   HappinessKey  HappinessScore CountryCode2  \n",
       "0           153           3.203           AF  \n",
       "1           106           4.719           AL  \n",
       "2            20           6.825           AE  \n",
       "3            46           6.086           AR  \n",
       "4           115           4.559           AM  "
      ]
     },
     "execution_count": 228,
     "metadata": {},
     "output_type": "execute_result"
    }
   ],
   "source": [
    "df_fact_country = pd.merge(df_fact_country,df_conversion, how=\"inner\", left_on=\"CountryCode\", right_on=\"CountryCode3\")\n",
    "df_fact_country = df_fact_country.drop([\"id\", \"name\",\"CountryCode3\", \"CountryCode\"],axis=1)\n",
    "df_fact_country.head()"
   ]
  },
  {
   "cell_type": "code",
   "execution_count": 237,
   "id": "18348a73-5d5a-4e82-8bec-17d4c0bdef5e",
   "metadata": {},
   "outputs": [
    {
     "data": {
      "text/html": [
       "<div>\n",
       "<style scoped>\n",
       "    .dataframe tbody tr th:only-of-type {\n",
       "        vertical-align: middle;\n",
       "    }\n",
       "\n",
       "    .dataframe tbody tr th {\n",
       "        vertical-align: top;\n",
       "    }\n",
       "\n",
       "    .dataframe thead th {\n",
       "        text-align: right;\n",
       "    }\n",
       "</style>\n",
       "<table border=\"1\" class=\"dataframe\">\n",
       "  <thead>\n",
       "    <tr style=\"text-align: right;\">\n",
       "      <th></th>\n",
       "      <th>id</th>\n",
       "      <th>NobelKey</th>\n",
       "      <th>firstname</th>\n",
       "      <th>surname</th>\n",
       "      <th>BirthDate</th>\n",
       "      <th>CountryCode</th>\n",
       "      <th>BirthLocation</th>\n",
       "      <th>DateKey</th>\n",
       "      <th>Day</th>\n",
       "      <th>Week</th>\n",
       "      <th>Year</th>\n",
       "      <th>Year_half</th>\n",
       "      <th>CountryKey</th>\n",
       "      <th>Country</th>\n",
       "      <th>GNP</th>\n",
       "      <th>LifeExpectancy</th>\n",
       "      <th>HappinessKey</th>\n",
       "      <th>HappinessScore</th>\n",
       "    </tr>\n",
       "  </thead>\n",
       "  <tbody>\n",
       "    <tr>\n",
       "      <th>0</th>\n",
       "      <td>0</td>\n",
       "      <td>0</td>\n",
       "      <td>Wilhelm Conrad</td>\n",
       "      <td>Röntgen</td>\n",
       "      <td>1845-03-27</td>\n",
       "      <td>DE</td>\n",
       "      <td>Lennep (now Remscheid)</td>\n",
       "      <td>9979</td>\n",
       "      <td>Thursday</td>\n",
       "      <td>13</td>\n",
       "      <td>1845</td>\n",
       "      <td>1</td>\n",
       "      <td>56</td>\n",
       "      <td>Germany</td>\n",
       "      <td>2133367.0</td>\n",
       "      <td>77.4</td>\n",
       "      <td>16</td>\n",
       "      <td>6.985</td>\n",
       "    </tr>\n",
       "    <tr>\n",
       "      <th>1</th>\n",
       "      <td>1</td>\n",
       "      <td>12</td>\n",
       "      <td>Ferdinand</td>\n",
       "      <td>Braun</td>\n",
       "      <td>1850-06-06</td>\n",
       "      <td>DE</td>\n",
       "      <td>Fulda</td>\n",
       "      <td>11876</td>\n",
       "      <td>Thursday</td>\n",
       "      <td>23</td>\n",
       "      <td>1850</td>\n",
       "      <td>1</td>\n",
       "      <td>56</td>\n",
       "      <td>Germany</td>\n",
       "      <td>2133367.0</td>\n",
       "      <td>77.4</td>\n",
       "      <td>16</td>\n",
       "      <td>6.985</td>\n",
       "    </tr>\n",
       "    <tr>\n",
       "      <th>2</th>\n",
       "      <td>2</td>\n",
       "      <td>17</td>\n",
       "      <td>Max</td>\n",
       "      <td>von Laue</td>\n",
       "      <td>1879-10-09</td>\n",
       "      <td>DE</td>\n",
       "      <td>Pfaffendorf</td>\n",
       "      <td>22593</td>\n",
       "      <td>Thursday</td>\n",
       "      <td>41</td>\n",
       "      <td>1879</td>\n",
       "      <td>2</td>\n",
       "      <td>56</td>\n",
       "      <td>Germany</td>\n",
       "      <td>2133367.0</td>\n",
       "      <td>77.4</td>\n",
       "      <td>16</td>\n",
       "      <td>6.985</td>\n",
       "    </tr>\n",
       "    <tr>\n",
       "      <th>3</th>\n",
       "      <td>3</td>\n",
       "      <td>21</td>\n",
       "      <td>Max</td>\n",
       "      <td>Planck</td>\n",
       "      <td>1858-04-23</td>\n",
       "      <td>DE</td>\n",
       "      <td>Kiel</td>\n",
       "      <td>14754</td>\n",
       "      <td>Friday</td>\n",
       "      <td>16</td>\n",
       "      <td>1858</td>\n",
       "      <td>1</td>\n",
       "      <td>56</td>\n",
       "      <td>Germany</td>\n",
       "      <td>2133367.0</td>\n",
       "      <td>77.4</td>\n",
       "      <td>16</td>\n",
       "      <td>6.985</td>\n",
       "    </tr>\n",
       "    <tr>\n",
       "      <th>4</th>\n",
       "      <td>4</td>\n",
       "      <td>22</td>\n",
       "      <td>Johannes</td>\n",
       "      <td>Stark</td>\n",
       "      <td>1874-04-15</td>\n",
       "      <td>DE</td>\n",
       "      <td>Schickenhof</td>\n",
       "      <td>20590</td>\n",
       "      <td>Wednesday</td>\n",
       "      <td>16</td>\n",
       "      <td>1874</td>\n",
       "      <td>1</td>\n",
       "      <td>56</td>\n",
       "      <td>Germany</td>\n",
       "      <td>2133367.0</td>\n",
       "      <td>77.4</td>\n",
       "      <td>16</td>\n",
       "      <td>6.985</td>\n",
       "    </tr>\n",
       "  </tbody>\n",
       "</table>\n",
       "</div>"
      ],
      "text/plain": [
       "   id  NobelKey       firstname   surname   BirthDate CountryCode  \\\n",
       "0   0         0  Wilhelm Conrad   Röntgen  1845-03-27          DE   \n",
       "1   1        12       Ferdinand     Braun  1850-06-06          DE   \n",
       "2   2        17             Max  von Laue  1879-10-09          DE   \n",
       "3   3        21             Max    Planck  1858-04-23          DE   \n",
       "4   4        22        Johannes     Stark  1874-04-15          DE   \n",
       "\n",
       "            BirthLocation DateKey        Day Week  Year Year_half  CountryKey  \\\n",
       "0  Lennep (now Remscheid)    9979   Thursday   13  1845         1          56   \n",
       "1                   Fulda   11876   Thursday   23  1850         1          56   \n",
       "2             Pfaffendorf   22593   Thursday   41  1879         2          56   \n",
       "3                    Kiel   14754     Friday   16  1858         1          56   \n",
       "4             Schickenhof   20590  Wednesday   16  1874         1          56   \n",
       "\n",
       "   Country        GNP  LifeExpectancy  HappinessKey  HappinessScore  \n",
       "0  Germany  2133367.0            77.4            16           6.985  \n",
       "1  Germany  2133367.0            77.4            16           6.985  \n",
       "2  Germany  2133367.0            77.4            16           6.985  \n",
       "3  Germany  2133367.0            77.4            16           6.985  \n",
       "4  Germany  2133367.0            77.4            16           6.985  "
      ]
     },
     "execution_count": 237,
     "metadata": {},
     "output_type": "execute_result"
    }
   ],
   "source": [
    "df_fact_combined = pd.merge(df_fact_nobel,df_fact_country, how=\"inner\", left_on=\"CountryCode\", right_on=\"CountryCode2\")\n",
    "df_fact_combined.reset_index(inplace=True)\n",
    "df_fact_combined = df_fact_combined.drop([\"Quarter\",\"Population\", \"CountryCode2\",\"Country_x\", \"gender\"], axis=1) \n",
    "df_fact_combined.rename(columns={\"index\":\"id\",\"Country_y\":\"Country\"}, inplace=True) #\"CountryCode_x\":\"CountryKey\n",
    "df_fact_combined.head()"
   ]
  },
  {
   "cell_type": "code",
   "execution_count": 201,
   "id": "0590b58f-f3cc-427a-adff-03f83e3f304d",
   "metadata": {},
   "outputs": [
    {
     "data": {
      "text/plain": [
       "(894, 18)"
      ]
     },
     "execution_count": 201,
     "metadata": {},
     "output_type": "execute_result"
    }
   ],
   "source": [
    "df_fact_combined.shape"
   ]
  },
  {
   "cell_type": "markdown",
   "id": "69fdffa3-6ca6-4144-a65a-9b24c57d17df",
   "metadata": {},
   "source": [
    "Now to add all of the data to the data warehouse"
   ]
  },
  {
   "cell_type": "code",
   "execution_count": 238,
   "id": "8776c958-044c-4e29-a86a-0934dd0a744d",
   "metadata": {},
   "outputs": [],
   "source": [
    "db_operation = \"insert\"\n",
    "\n",
    "tables = [('fact_combined', df_fact_combined, 'id'), ('world', df_world_trimmed, 'CountryKey'), ('happiness', df_happiness_trimmed, 'HappinessKey'), ('nobel', df_nobel_trimmed, 'NobelKey'), ('dim_date', df_dim_date, 'DateKey')]\n",
    "\n",
    "for table_name, dataframe, primary_key in tables:\n",
    "    set_dataframe(user_id, pwd, host_name, dst_dbname, dataframe, table_name, primary_key, db_operation)"
   ]
  },
  {
   "cell_type": "markdown",
   "id": "63ba7c7e-6c2e-4a22-b2c8-c6558a6247f2",
   "metadata": {},
   "source": [
    "## 3. Author one or more SQL queries (SELECT statements) to demonstrate proper functionality."
   ]
  },
  {
   "cell_type": "markdown",
   "id": "0773079b-1964-40f4-b4fd-8a1f81d53926",
   "metadata": {},
   "source": [
    "a. SELECT data from at least 3 tables (two dimensions; plus the fact table).\n",
    "\n",
    "b. Perform some type of aggregation (e.g., SUM, COUNT, AVERAGE). This, of course, \n",
    "necessitates some form of grouping operation (e.g., GROUP BY <customer.last_name>).\n"
   ]
  },
  {
   "cell_type": "code",
   "execution_count": 240,
   "id": "b01b5059-5499-45c9-b28d-3c752ee2b797",
   "metadata": {},
   "outputs": [
    {
     "data": {
      "text/html": [
       "<div>\n",
       "<style scoped>\n",
       "    .dataframe tbody tr th:only-of-type {\n",
       "        vertical-align: middle;\n",
       "    }\n",
       "\n",
       "    .dataframe tbody tr th {\n",
       "        vertical-align: top;\n",
       "    }\n",
       "\n",
       "    .dataframe thead th {\n",
       "        text-align: right;\n",
       "    }\n",
       "</style>\n",
       "<table border=\"1\" class=\"dataframe\">\n",
       "  <thead>\n",
       "    <tr style=\"text-align: right;\">\n",
       "      <th></th>\n",
       "      <th>country_name</th>\n",
       "      <th>population</th>\n",
       "      <th>count_of_laureates</th>\n",
       "      <th>num_of_men</th>\n",
       "      <th>num_of_women</th>\n",
       "    </tr>\n",
       "  </thead>\n",
       "  <tbody>\n",
       "    <tr>\n",
       "      <th>0</th>\n",
       "      <td>United States</td>\n",
       "      <td>278357000</td>\n",
       "      <td>279</td>\n",
       "      <td>264</td>\n",
       "      <td>15</td>\n",
       "    </tr>\n",
       "    <tr>\n",
       "      <th>1</th>\n",
       "      <td>United Kingdom</td>\n",
       "      <td>59623400</td>\n",
       "      <td>103</td>\n",
       "      <td>101</td>\n",
       "      <td>2</td>\n",
       "    </tr>\n",
       "    <tr>\n",
       "      <th>2</th>\n",
       "      <td>Germany</td>\n",
       "      <td>82164700</td>\n",
       "      <td>84</td>\n",
       "      <td>82</td>\n",
       "      <td>2</td>\n",
       "    </tr>\n",
       "    <tr>\n",
       "      <th>3</th>\n",
       "      <td>France</td>\n",
       "      <td>59225700</td>\n",
       "      <td>59</td>\n",
       "      <td>54</td>\n",
       "      <td>5</td>\n",
       "    </tr>\n",
       "    <tr>\n",
       "      <th>4</th>\n",
       "      <td>Sweden</td>\n",
       "      <td>8861400</td>\n",
       "      <td>30</td>\n",
       "      <td>28</td>\n",
       "      <td>2</td>\n",
       "    </tr>\n",
       "  </tbody>\n",
       "</table>\n",
       "</div>"
      ],
      "text/plain": [
       "     country_name  population  count_of_laureates  num_of_men  num_of_women\n",
       "0   United States   278357000                 279         264            15\n",
       "1  United Kingdom    59623400                 103         101             2\n",
       "2         Germany    82164700                  84          82             2\n",
       "3          France    59225700                  59          54             5\n",
       "4          Sweden     8861400                  30          28             2"
      ]
     },
     "execution_count": 240,
     "metadata": {},
     "output_type": "execute_result"
    }
   ],
   "source": [
    "sql_select_statement = \"\"\"\n",
    "SELECT `fact_combined`.Country as country_name,\n",
    "       `world`.Population as population,\n",
    "       COUNT(*) as count_of_laureates,\n",
    "       COUNT(CASE WHEN `nobel`.gender = \"male\" then 1 ELSE NULL END) as num_of_men,\n",
    "       COUNT(CASE WHEN `nobel`.gender = \"female\" then 1 ELSE NULL END) as num_of_women\n",
    "FROM `data_project_warehouse`.`fact_combined`\n",
    "INNER JOIN `data_project_warehouse`.`world`\n",
    "ON  `fact_combined`.`CountryKey` = `world`.`CountryKey`\n",
    "INNER JOIN `data_project_warehouse`.`nobel`\n",
    "ON  `fact_combined`.`NobelKey` = `nobel`.`NobelKey`\n",
    "GROUP BY `world`.`country`\n",
    "ORDER BY count_of_laureates DESC;\n",
    "\"\"\"\n",
    "df_result_one = get_dataframe(user_id, pwd, host_name, src_dbname, sql_select_statement)\n",
    "df_result_one.head()"
   ]
  },
  {
   "cell_type": "markdown",
   "id": "92c74c01-d2b9-423b-b150-86d2f5f5acbb",
   "metadata": {},
   "source": [
    "The 3 Tables used in this select statment are:\n",
    "\n",
    "1. fact_combined with the country name\n",
    "2. world with the country population\n",
    "3. nobel with the birth continent of the nobel laurette"
   ]
  },
  {
   "cell_type": "markdown",
   "id": "e09fc1e9-0bd8-4f36-818a-e77ce07ea438",
   "metadata": {},
   "source": [
    "I also used another table called countries, but it does not show up in the final product because it was only used to convert the 3 letter country intervals in the world sql file to the nobel's 2 letter country intervals"
   ]
  },
  {
   "cell_type": "code",
   "execution_count": null,
   "id": "1e3dfe16-2c6a-4185-9da3-8f06c368602d",
   "metadata": {},
   "outputs": [],
   "source": []
  }
 ],
 "metadata": {
  "kernelspec": {
   "display_name": "Python 3 (ipykernel)",
   "language": "python",
   "name": "python3"
  },
  "language_info": {
   "codemirror_mode": {
    "name": "ipython",
    "version": 3
   },
   "file_extension": ".py",
   "mimetype": "text/x-python",
   "name": "python",
   "nbconvert_exporter": "python",
   "pygments_lexer": "ipython3",
   "version": "3.10.6"
  }
 },
 "nbformat": 4,
 "nbformat_minor": 5
}
